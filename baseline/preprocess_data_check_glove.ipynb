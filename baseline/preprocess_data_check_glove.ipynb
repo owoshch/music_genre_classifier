{
 "cells": [
  {
   "cell_type": "markdown",
   "metadata": {},
   "source": [
    "MSD-I dataset (mapping, metadata, annotations and links to images)\n",
    "Data splits and feature vectors for TISMIR single-label classification experiments "
   ]
  },
  {
   "cell_type": "code",
   "execution_count": 1,
   "metadata": {},
   "outputs": [],
   "source": [
    "import numpy as np\n",
    "import pandas as pd\n",
    "import json\n",
    "import tqdm\n",
    "from collections import Counter\n",
    "import collections"
   ]
  },
  {
   "cell_type": "code",
   "execution_count": 2,
   "metadata": {},
   "outputs": [],
   "source": [
    "import matplotlib\n",
    "%matplotlib inline\n",
    "import matplotlib.pyplot as plt"
   ]
  },
  {
   "cell_type": "markdown",
   "metadata": {},
   "source": [
    "# Load clean dataset"
   ]
  },
  {
   "cell_type": "code",
   "execution_count": 3,
   "metadata": {},
   "outputs": [],
   "source": [
    "dataset_clean = pd.read_csv(\"dataset_clean.csv\")"
   ]
  },
  {
   "cell_type": "code",
   "execution_count": 4,
   "metadata": {},
   "outputs": [
    {
     "data": {
      "text/html": [
       "<div>\n",
       "<style scoped>\n",
       "    .dataframe tbody tr th:only-of-type {\n",
       "        vertical-align: middle;\n",
       "    }\n",
       "\n",
       "    .dataframe tbody tr th {\n",
       "        vertical-align: top;\n",
       "    }\n",
       "\n",
       "    .dataframe thead th {\n",
       "        text-align: right;\n",
       "    }\n",
       "</style>\n",
       "<table border=\"1\" class=\"dataframe\">\n",
       "  <thead>\n",
       "    <tr style=\"text-align: right;\">\n",
       "      <th></th>\n",
       "      <th>msd_track_id</th>\n",
       "      <th>genre</th>\n",
       "      <th>album_index</th>\n",
       "      <th>set</th>\n",
       "      <th>msd_artist_id</th>\n",
       "      <th>image_url</th>\n",
       "      <th>song_title</th>\n",
       "      <th>song_lyrics</th>\n",
       "      <th>artist</th>\n",
       "      <th>lyrics_link</th>\n",
       "      <th>lyrics_text</th>\n",
       "      <th>lyrics</th>\n",
       "    </tr>\n",
       "  </thead>\n",
       "  <tbody>\n",
       "    <tr>\n",
       "      <th>0</th>\n",
       "      <td>TRABKJU128F422A7FE</td>\n",
       "      <td>Metal</td>\n",
       "      <td>0</td>\n",
       "      <td>train</td>\n",
       "      <td>ARBD4QW1187FB42153</td>\n",
       "      <td>http://artwork-cdn.7static.com/static/img/slee...</td>\n",
       "      <td>The Illusionist</td>\n",
       "      <td>NaN</td>\n",
       "      <td>Scar Symmetry</td>\n",
       "      <td>https://www.lyricsfreak.com/s/scar+symmetry/th...</td>\n",
       "      <td>as an outcast i paced defeat seeking comfort i...</td>\n",
       "      <td>as an outcast i paced defeat seeking comfort i...</td>\n",
       "    </tr>\n",
       "    <tr>\n",
       "      <th>1</th>\n",
       "      <td>TRDMMDE128F14A9052</td>\n",
       "      <td>Rock</td>\n",
       "      <td>2</td>\n",
       "      <td>train</td>\n",
       "      <td>ARJVTRE1187B9959C0</td>\n",
       "      <td>http://artwork-cdn.7static.com/static/img/slee...</td>\n",
       "      <td>Weekend Driver</td>\n",
       "      <td>NaN</td>\n",
       "      <td>Foghat</td>\n",
       "      <td>https://www.lyricsfreak.com/f/foghat/weekend+d...</td>\n",
       "      <td>dave peverett - riff bros. music - ascap waiti...</td>\n",
       "      <td>dave peverett - riff bros. music - ascap waiti...</td>\n",
       "    </tr>\n",
       "    <tr>\n",
       "      <th>2</th>\n",
       "      <td>TRJOPZB128F4250E02</td>\n",
       "      <td>Rock</td>\n",
       "      <td>4</td>\n",
       "      <td>train</td>\n",
       "      <td>AR62BB21187B9AC83D</td>\n",
       "      <td>http://artwork-cdn.7static.com/static/img/slee...</td>\n",
       "      <td>Too Alive</td>\n",
       "      <td>NaN</td>\n",
       "      <td>The Breeders</td>\n",
       "      <td>https://www.lyricsfreak.com/b/breeders/too+ali...</td>\n",
       "      <td>i took off when will will make no way steal it...</td>\n",
       "      <td>i took off when will will make no way steal it...</td>\n",
       "    </tr>\n",
       "    <tr>\n",
       "      <th>3</th>\n",
       "      <td>TRJKBVL128F935567B</td>\n",
       "      <td>Rock</td>\n",
       "      <td>5</td>\n",
       "      <td>train</td>\n",
       "      <td>AR7GVOV1187B9B5FF1</td>\n",
       "      <td>http://artwork-cdn.7static.com/static/img/slee...</td>\n",
       "      <td>Ride The Darker Wave</td>\n",
       "      <td>NaN</td>\n",
       "      <td>Sebadoh</td>\n",
       "      <td>https://www.lyricsfreak.com/s/sebadoh/ride+the...</td>\n",
       "      <td>you make your words so nice i'm waiting you to...</td>\n",
       "      <td>you make your words so nice i'm waiting you to...</td>\n",
       "    </tr>\n",
       "    <tr>\n",
       "      <th>4</th>\n",
       "      <td>TRUSOQD128F92CFEA5</td>\n",
       "      <td>Rock</td>\n",
       "      <td>7</td>\n",
       "      <td>train</td>\n",
       "      <td>ARZHQDD1187FB5B871</td>\n",
       "      <td>http://artwork-cdn.7static.com/static/img/slee...</td>\n",
       "      <td>Carmen</td>\n",
       "      <td>Last night she ran away  \\nLeft a letter by th...</td>\n",
       "      <td>Lush</td>\n",
       "      <td>https://www.lyricsfreak.com/l/lush/carmen_2008...</td>\n",
       "      <td>(anderson/berenyi) carmen tells me what she's ...</td>\n",
       "      <td>(anderson/berenyi) carmen tells me what she's ...</td>\n",
       "    </tr>\n",
       "  </tbody>\n",
       "</table>\n",
       "</div>"
      ],
      "text/plain": [
       "         msd_track_id  genre  album_index    set       msd_artist_id  \\\n",
       "0  TRABKJU128F422A7FE  Metal            0  train  ARBD4QW1187FB42153   \n",
       "1  TRDMMDE128F14A9052   Rock            2  train  ARJVTRE1187B9959C0   \n",
       "2  TRJOPZB128F4250E02   Rock            4  train  AR62BB21187B9AC83D   \n",
       "3  TRJKBVL128F935567B   Rock            5  train  AR7GVOV1187B9B5FF1   \n",
       "4  TRUSOQD128F92CFEA5   Rock            7  train  ARZHQDD1187FB5B871   \n",
       "\n",
       "                                           image_url            song_title  \\\n",
       "0  http://artwork-cdn.7static.com/static/img/slee...       The Illusionist   \n",
       "1  http://artwork-cdn.7static.com/static/img/slee...        Weekend Driver   \n",
       "2  http://artwork-cdn.7static.com/static/img/slee...             Too Alive   \n",
       "3  http://artwork-cdn.7static.com/static/img/slee...  Ride The Darker Wave   \n",
       "4  http://artwork-cdn.7static.com/static/img/slee...                Carmen   \n",
       "\n",
       "                                         song_lyrics         artist  \\\n",
       "0                                                NaN  Scar Symmetry   \n",
       "1                                                NaN         Foghat   \n",
       "2                                                NaN   The Breeders   \n",
       "3                                                NaN        Sebadoh   \n",
       "4  Last night she ran away  \\nLeft a letter by th...           Lush   \n",
       "\n",
       "                                         lyrics_link  \\\n",
       "0  https://www.lyricsfreak.com/s/scar+symmetry/th...   \n",
       "1  https://www.lyricsfreak.com/f/foghat/weekend+d...   \n",
       "2  https://www.lyricsfreak.com/b/breeders/too+ali...   \n",
       "3  https://www.lyricsfreak.com/s/sebadoh/ride+the...   \n",
       "4  https://www.lyricsfreak.com/l/lush/carmen_2008...   \n",
       "\n",
       "                                         lyrics_text  \\\n",
       "0  as an outcast i paced defeat seeking comfort i...   \n",
       "1  dave peverett - riff bros. music - ascap waiti...   \n",
       "2  i took off when will will make no way steal it...   \n",
       "3  you make your words so nice i'm waiting you to...   \n",
       "4  (anderson/berenyi) carmen tells me what she's ...   \n",
       "\n",
       "                                              lyrics  \n",
       "0  as an outcast i paced defeat seeking comfort i...  \n",
       "1  dave peverett - riff bros. music - ascap waiti...  \n",
       "2  i took off when will will make no way steal it...  \n",
       "3  you make your words so nice i'm waiting you to...  \n",
       "4  (anderson/berenyi) carmen tells me what she's ...  "
      ]
     },
     "execution_count": 4,
     "metadata": {},
     "output_type": "execute_result"
    }
   ],
   "source": [
    "dataset_clean.head()"
   ]
  },
  {
   "cell_type": "code",
   "execution_count": 7,
   "metadata": {},
   "outputs": [],
   "source": [
    "unique_genres = np.unique(dataset_clean.genre)"
   ]
  },
  {
   "cell_type": "code",
   "execution_count": 8,
   "metadata": {},
   "outputs": [],
   "source": [
    "genres_dict = dict(zip(unique_genres, np.arange(len(unique_genres))))"
   ]
  },
  {
   "cell_type": "code",
   "execution_count": 9,
   "metadata": {},
   "outputs": [
    {
     "data": {
      "text/plain": [
       "{'Blues': 0,\n",
       " 'Country': 1,\n",
       " 'Electronic': 2,\n",
       " 'Folk': 3,\n",
       " 'Jazz': 4,\n",
       " 'Latin': 5,\n",
       " 'Metal': 6,\n",
       " 'New Age': 7,\n",
       " 'Pop': 8,\n",
       " 'Punk': 9,\n",
       " 'Rap': 10,\n",
       " 'Reggae': 11,\n",
       " 'RnB': 12,\n",
       " 'Rock': 13,\n",
       " 'World': 14}"
      ]
     },
     "execution_count": 9,
     "metadata": {},
     "output_type": "execute_result"
    }
   ],
   "source": [
    "genres_dict "
   ]
  },
  {
   "cell_type": "code",
   "execution_count": null,
   "metadata": {},
   "outputs": [],
   "source": [
    "def create_tsv_file(path_in, path_out):\n",
    "    dataset_clean = pd.read_csv(path_in)\n",
    "    with open(path_in,'r') as f, open(path_out,'w') as fw:\n",
    "        writer = csv.writer(fw, delimiter='\\t')\n",
    "        writer.writerow(['label','body'])\n",
    "        for label, line in tqdm.tqdm(zip(dataset_clean.genre.values, \n",
    "                                         dataset_clean.lyrics_clean.values), total=len(dataset_clean)):\n",
    "            #label = LABEL_TO_INDEX[tokens[-1]]\n",
    "            label = LABEL_TO_INDEX[label]\n",
    "            body = ' '.join(tokens[:-1])\n",
    "            writer.writerow([label, line])"
   ]
  },
  {
   "cell_type": "code",
   "execution_count": null,
   "metadata": {},
   "outputs": [],
   "source": [
    "def create_tsv_file(path_in, path_out):\n",
    "\n",
    "    \n",
    "        with open(path_out,'w') as fw:\n",
    "            writer = csv.writer(fw, delimiter='\\t')\n",
    "            writer.writerow(['label','body'])\n",
    "            for line in f:\n",
    "                tokens = [x.lower() for x in line.split()]\n",
    "                label = LABEL_TO_INDEX[tokens[-1]]\n",
    "                body = ' '.join(tokens[:-1])\n",
    "                writer.writerow([label, body])"
   ]
  },
  {
   "cell_type": "markdown",
   "metadata": {},
   "source": [
    "# Stats"
   ]
  },
  {
   "cell_type": "code",
   "execution_count": 5,
   "metadata": {},
   "outputs": [],
   "source": [
    "train_stats = Counter(dataset_clean[dataset_clean.set == 'train'].genre)\n",
    "train_stats = collections.OrderedDict(sorted(train_stats.items()))"
   ]
  },
  {
   "cell_type": "code",
   "execution_count": 6,
   "metadata": {},
   "outputs": [],
   "source": [
    "val_stats = Counter(dataset_clean[dataset_clean.set == 'val'].genre)\n",
    "val_stats = collections.OrderedDict(sorted(val_stats.items()))"
   ]
  },
  {
   "cell_type": "code",
   "execution_count": 7,
   "metadata": {},
   "outputs": [],
   "source": [
    "test_stats = Counter(dataset_clean[dataset_clean.set == 'test'].genre)\n",
    "test_stats = collections.OrderedDict(sorted(test_stats.items()))"
   ]
  },
  {
   "cell_type": "code",
   "execution_count": 8,
   "metadata": {},
   "outputs": [
    {
     "data": {
      "text/plain": [
       "15"
      ]
     },
     "execution_count": 8,
     "metadata": {},
     "output_type": "execute_result"
    }
   ],
   "source": [
    "len(train_stats)"
   ]
  },
  {
   "cell_type": "code",
   "execution_count": 9,
   "metadata": {},
   "outputs": [
    {
     "data": {
      "text/plain": [
       "OrderedDict([('Blues', 137),\n",
       "             ('Country', 627),\n",
       "             ('Electronic', 684),\n",
       "             ('Folk', 304),\n",
       "             ('Jazz', 543),\n",
       "             ('Latin', 72),\n",
       "             ('Metal', 724),\n",
       "             ('New Age', 42),\n",
       "             ('Pop', 1153),\n",
       "             ('Punk', 204),\n",
       "             ('Rap', 646),\n",
       "             ('Reggae', 312),\n",
       "             ('RnB', 555),\n",
       "             ('Rock', 2297),\n",
       "             ('World', 32)])"
      ]
     },
     "execution_count": 9,
     "metadata": {},
     "output_type": "execute_result"
    }
   ],
   "source": [
    "train_stats"
   ]
  },
  {
   "cell_type": "code",
   "execution_count": 10,
   "metadata": {},
   "outputs": [
    {
     "data": {
      "text/plain": [
       "odict_keys(['Blues', 'Country', 'Electronic', 'Folk', 'Jazz', 'Latin', 'Metal', 'New Age', 'Pop', 'Punk', 'Rap', 'Reggae', 'RnB', 'Rock', 'World'])"
      ]
     },
     "execution_count": 10,
     "metadata": {},
     "output_type": "execute_result"
    }
   ],
   "source": [
    "train_stats.keys()"
   ]
  },
  {
   "cell_type": "code",
   "execution_count": 11,
   "metadata": {},
   "outputs": [
    {
     "data": {
      "text/plain": [
       "'Blues Country Electronic Folk Jazz Latin Metal New Age Pop Punk Rap Reggae RnB Rock World'"
      ]
     },
     "execution_count": 11,
     "metadata": {},
     "output_type": "execute_result"
    }
   ],
   "source": [
    "\" \".join(train_stats.keys())"
   ]
  },
  {
   "cell_type": "code",
   "execution_count": 12,
   "metadata": {},
   "outputs": [
    {
     "data": {
      "text/plain": [
       "OrderedDict([('Blues', 28),\n",
       "             ('Country', 66),\n",
       "             ('Electronic', 102),\n",
       "             ('Folk', 33),\n",
       "             ('Jazz', 105),\n",
       "             ('Latin', 1),\n",
       "             ('Metal', 100),\n",
       "             ('New Age', 25),\n",
       "             ('Pop', 209),\n",
       "             ('Punk', 21),\n",
       "             ('Rap', 63),\n",
       "             ('Reggae', 33),\n",
       "             ('RnB', 78),\n",
       "             ('Rock', 137),\n",
       "             ('World', 3)])"
      ]
     },
     "execution_count": 12,
     "metadata": {},
     "output_type": "execute_result"
    }
   ],
   "source": [
    "val_stats"
   ]
  },
  {
   "cell_type": "code",
   "execution_count": 13,
   "metadata": {},
   "outputs": [
    {
     "data": {
      "text/plain": [
       "OrderedDict([('Blues', 45),\n",
       "             ('Country', 48),\n",
       "             ('Electronic', 102),\n",
       "             ('Folk', 24),\n",
       "             ('Jazz', 121),\n",
       "             ('Latin', 3),\n",
       "             ('Metal', 58),\n",
       "             ('New Age', 8),\n",
       "             ('Pop', 169),\n",
       "             ('Punk', 10),\n",
       "             ('Rap', 79),\n",
       "             ('Reggae', 64),\n",
       "             ('RnB', 118),\n",
       "             ('Rock', 194),\n",
       "             ('World', 3)])"
      ]
     },
     "execution_count": 13,
     "metadata": {},
     "output_type": "execute_result"
    }
   ],
   "source": [
    "test_stats"
   ]
  },
  {
   "cell_type": "code",
   "execution_count": 14,
   "metadata": {},
   "outputs": [
    {
     "data": {
      "image/png": "[encoded data removed]",
      "text/plain": [
       "<Figure size 1152x864 with 3 Axes>"
      ]
     },
     "metadata": {
      "needs_background": "light"
     },
     "output_type": "display_data"
    }
   ],
   "source": [
    "plt.figure(figsize=(16, 12))\n",
    "\n",
    "plt.subplot(3, 1, 1)\n",
    "plt.bar(list(train_stats.keys()), train_stats.values())\n",
    "plt.title('Тренировочная выборка')\n",
    "plt.ylabel('Количество песен')\n",
    "\n",
    "plt.subplot(3, 1, 2)\n",
    "plt.bar(list(val_stats.keys()), val_stats.values())\n",
    "plt.title('Валидационная выборка')\n",
    "plt.ylabel('Количество песен')\n",
    "\n",
    "plt.subplot(3, 1, 3)\n",
    "plt.bar(list(test_stats.keys()), test_stats.values())\n",
    "plt.title('Тестовая выборка')\n",
    "plt.ylabel('Количество песен')\n",
    "plt.savefig('train_test_split.jpg')\n",
    "plt.show()"
   ]
  },
  {
   "cell_type": "markdown",
   "metadata": {},
   "source": [
    "# Preprocess text"
   ]
  },
  {
   "cell_type": "code",
   "execution_count": 17,
   "metadata": {},
   "outputs": [],
   "source": [
    "from time import time\n",
    "import numpy as np\n",
    "import string\n",
    "\n",
    "from techniques import *"
   ]
  },
  {
   "cell_type": "code",
   "execution_count": 21,
   "metadata": {},
   "outputs": [],
   "source": [
    "finalTokens = [] # all tokens\n",
    "stoplist = stopwords.words('english')"
   ]
  },
  {
   "cell_type": "code",
   "execution_count": 22,
   "metadata": {},
   "outputs": [],
   "source": [
    "lemmatizer = WordNetLemmatizer() # set lemmatizer\n",
    "stemmer = PorterStemmer() # set stemmer"
   ]
  },
  {
   "cell_type": "code",
   "execution_count": 95,
   "metadata": {},
   "outputs": [],
   "source": [
    "def tokenize(text):\n",
    "    totalAdjectives = 0\n",
    "    totalAdverbs = 0\n",
    "    totalVerbs = 0\n",
    "    onlyOneSentenceTokens = [] # tokens of one sentence each time\n",
    "\n",
    "    tokens = nltk.word_tokenize(text)\n",
    "    \n",
    "    tokens = replaceNegations(tokens) # Technique 6: finds \"not\" and antonym for the next word and if found, replaces not and the next word with the antonym\n",
    "    \n",
    "    translator = str.maketrans('', '', string.punctuation)\n",
    "    text = text.translate(translator) # Technique 7: remove punctuation\n",
    "\n",
    "    tokens = nltk.word_tokenize(text) # it takes a text as an input and provides a list of every token in it\n",
    "    \n",
    "### NO POS TAGGING BEGIN (If you don't want to use POS Tagging keep this section uncommented) ###\n",
    "    \n",
    "    for w in tokens:\n",
    "\n",
    "        if (w not in stoplist): # Technique 10: remove stopwords\n",
    "            final_word = addCapTag(w) # Technique 8: Finds a word with at least 3 characters capitalized and adds the tag ALL_CAPS_\n",
    "            \n",
    "            final_word = final_word.lower() # Technique 9: lowercases all characters\n",
    "\n",
    "            final_word = replaceElongated(final_word) # Technique 11: replaces an elongated word with its basic form, unless the word exists in the lexicon\n",
    "            \n",
    "            #if len(final_word)>1:\n",
    "            #    final_word = spellCorrection(final_word) # Technique 12: correction of spelling errors\n",
    "            final_word = lemmatizer.lemmatize(final_word) # Technique 14: lemmatizes words\n",
    "            final_word = stemmer.stem(final_word) # Technique 15: apply stemming to words\n",
    "\n",
    "\n",
    "            \n",
    "            onlyOneSentenceTokens.append(final_word)           \n",
    "            finalTokens.append(final_word)\n",
    "\n",
    "         \n",
    "    onlyOneSentence = \" \".join(onlyOneSentenceTokens) # form again the sentence from the list of tokens\n",
    "    #print(onlyOneSentence) # print final sentence\n",
    "\n",
    "    \n",
    "    \"\"\" Write the preprocessed text to file \"\"\"\n",
    "    #with open(\"result.txt\", \"a\") as result:\n",
    "    #    result.write(textID+\"\\t\"+y+\"\\t\"+onlyOneSentence+\"\\n\")\n",
    "        \n",
    "    return finalTokens"
   ]
  },
  {
   "cell_type": "code",
   "execution_count": 126,
   "metadata": {},
   "outputs": [],
   "source": [
    "def preprocess(text):\n",
    "    text = replaceURL(text) # Technique 1\n",
    "    text = replaceAtUser(text) # Technique 1\n",
    "    text = removeHashtagInFrontOfWord(text) # Technique 1\n",
    "\n",
    "    temp_slangs, temp_slangsFound = countSlang(text)\n",
    "    #totalSlangs += temp_slangs # total slangs for all sentences\n",
    "    for word in temp_slangsFound:\n",
    "        totalSlangsFound.append(word) # all the slangs found in all sentences\n",
    "\n",
    "    text = replaceSlang(text) # Technique 2: replaces slang words and abbreviations with their equivalents\n",
    "    text = replaceContraction(text) # Technique 3: replaces contractions to their equivalents\n",
    "    text = removeNumbers(text) # Technique 4: remove integers from text\n",
    "\n",
    "    emoticons = countEmoticons(text) # how many emoticons in this sentence\n",
    "    #totalEmoticons += emoticons\n",
    "\n",
    "    text = removeEmoticons(text) # removes emoticons from text\n",
    "\n",
    "\n",
    "    #totalAllCaps += countAllCaps(text)\n",
    "\n",
    "    #totalMultiExclamationMarks += countMultiExclamationMarks(text) # how many repetitions of exlamation marks in this sentence\n",
    "    #totalMultiQuestionMarks += countMultiQuestionMarks(text) # how many repetitions of question marks in this sentence\n",
    "    #totalMultiStopMarks += countMultiStopMarks(text) # how many repetitions of stop marks in this sentence\n",
    "\n",
    "    text = replaceMultiExclamationMark(text) # Technique 5: replaces repetitions of exlamation marks with the tag \"multiExclamation\"\n",
    "    text = replaceMultiQuestionMark(text) # Technique 5: replaces repetitions of question marks with the tag \"multiQuestion\"\n",
    "    text = replaceMultiStopMark(text) # Technique 5: replaces repetitions of stop marks with the tag \"multiStop\"\n",
    "\n",
    "    #totalElongated += countElongated(text)\n",
    "    tokens = tokenize(text) \n",
    "    sentense = \" \".join(tokens)\n",
    "    return sentense"
   ]
  },
  {
   "cell_type": "markdown",
   "metadata": {},
   "source": [
    "# Preprocess"
   ]
  },
  {
   "cell_type": "code",
   "execution_count": 121,
   "metadata": {},
   "outputs": [
    {
     "data": {
      "text/html": [
       "<div>\n",
       "<style scoped>\n",
       "    .dataframe tbody tr th:only-of-type {\n",
       "        vertical-align: middle;\n",
       "    }\n",
       "\n",
       "    .dataframe tbody tr th {\n",
       "        vertical-align: top;\n",
       "    }\n",
       "\n",
       "    .dataframe thead th {\n",
       "        text-align: right;\n",
       "    }\n",
       "</style>\n",
       "<table border=\"1\" class=\"dataframe\">\n",
       "  <thead>\n",
       "    <tr style=\"text-align: right;\">\n",
       "      <th></th>\n",
       "      <th>msd_track_id</th>\n",
       "      <th>genre</th>\n",
       "      <th>album_index</th>\n",
       "      <th>set</th>\n",
       "      <th>msd_artist_id</th>\n",
       "      <th>image_url</th>\n",
       "      <th>song_title</th>\n",
       "      <th>song_lyrics</th>\n",
       "      <th>artist</th>\n",
       "      <th>lyrics_link</th>\n",
       "      <th>lyrics_text</th>\n",
       "      <th>lyrics</th>\n",
       "      <th>lyrics_clean</th>\n",
       "    </tr>\n",
       "  </thead>\n",
       "  <tbody>\n",
       "    <tr>\n",
       "      <th>0</th>\n",
       "      <td>TRABKJU128F422A7FE</td>\n",
       "      <td>Metal</td>\n",
       "      <td>0</td>\n",
       "      <td>train</td>\n",
       "      <td>ARBD4QW1187FB42153</td>\n",
       "      <td>http://artwork-cdn.7static.com/static/img/slee...</td>\n",
       "      <td>The Illusionist</td>\n",
       "      <td>NaN</td>\n",
       "      <td>Scar Symmetry</td>\n",
       "      <td>https://www.lyricsfreak.com/s/scar+symmetry/th...</td>\n",
       "      <td>as an outcast i paced defeat seeking comfort i...</td>\n",
       "      <td>as an outcast i paced defeat seeking comfort i...</td>\n",
       "      <td>0</td>\n",
       "    </tr>\n",
       "    <tr>\n",
       "      <th>1</th>\n",
       "      <td>TRDMMDE128F14A9052</td>\n",
       "      <td>Rock</td>\n",
       "      <td>2</td>\n",
       "      <td>train</td>\n",
       "      <td>ARJVTRE1187B9959C0</td>\n",
       "      <td>http://artwork-cdn.7static.com/static/img/slee...</td>\n",
       "      <td>Weekend Driver</td>\n",
       "      <td>NaN</td>\n",
       "      <td>Foghat</td>\n",
       "      <td>https://www.lyricsfreak.com/f/foghat/weekend+d...</td>\n",
       "      <td>dave peverett - riff bros. music - ascap waiti...</td>\n",
       "      <td>dave peverett - riff bros. music - ascap waiti...</td>\n",
       "      <td>1</td>\n",
       "    </tr>\n",
       "    <tr>\n",
       "      <th>2</th>\n",
       "      <td>TRJOPZB128F4250E02</td>\n",
       "      <td>Rock</td>\n",
       "      <td>4</td>\n",
       "      <td>train</td>\n",
       "      <td>AR62BB21187B9AC83D</td>\n",
       "      <td>http://artwork-cdn.7static.com/static/img/slee...</td>\n",
       "      <td>Too Alive</td>\n",
       "      <td>NaN</td>\n",
       "      <td>The Breeders</td>\n",
       "      <td>https://www.lyricsfreak.com/b/breeders/too+ali...</td>\n",
       "      <td>i took off when will will make no way steal it...</td>\n",
       "      <td>i took off when will will make no way steal it...</td>\n",
       "      <td>2</td>\n",
       "    </tr>\n",
       "    <tr>\n",
       "      <th>3</th>\n",
       "      <td>TRJKBVL128F935567B</td>\n",
       "      <td>Rock</td>\n",
       "      <td>5</td>\n",
       "      <td>train</td>\n",
       "      <td>AR7GVOV1187B9B5FF1</td>\n",
       "      <td>http://artwork-cdn.7static.com/static/img/slee...</td>\n",
       "      <td>Ride The Darker Wave</td>\n",
       "      <td>NaN</td>\n",
       "      <td>Sebadoh</td>\n",
       "      <td>https://www.lyricsfreak.com/s/sebadoh/ride+the...</td>\n",
       "      <td>you make your words so nice i'm waiting you to...</td>\n",
       "      <td>you make your words so nice i'm waiting you to...</td>\n",
       "      <td>3</td>\n",
       "    </tr>\n",
       "    <tr>\n",
       "      <th>4</th>\n",
       "      <td>TRUSOQD128F92CFEA5</td>\n",
       "      <td>Rock</td>\n",
       "      <td>7</td>\n",
       "      <td>train</td>\n",
       "      <td>ARZHQDD1187FB5B871</td>\n",
       "      <td>http://artwork-cdn.7static.com/static/img/slee...</td>\n",
       "      <td>Carmen</td>\n",
       "      <td>Last night she ran away  \\nLeft a letter by th...</td>\n",
       "      <td>Lush</td>\n",
       "      <td>https://www.lyricsfreak.com/l/lush/carmen_2008...</td>\n",
       "      <td>(anderson/berenyi) carmen tells me what she's ...</td>\n",
       "      <td>(anderson/berenyi) carmen tells me what she's ...</td>\n",
       "      <td>4</td>\n",
       "    </tr>\n",
       "  </tbody>\n",
       "</table>\n",
       "</div>"
      ],
      "text/plain": [
       "         msd_track_id  genre  album_index    set       msd_artist_id  \\\n",
       "0  TRABKJU128F422A7FE  Metal            0  train  ARBD4QW1187FB42153   \n",
       "1  TRDMMDE128F14A9052   Rock            2  train  ARJVTRE1187B9959C0   \n",
       "2  TRJOPZB128F4250E02   Rock            4  train  AR62BB21187B9AC83D   \n",
       "3  TRJKBVL128F935567B   Rock            5  train  AR7GVOV1187B9B5FF1   \n",
       "4  TRUSOQD128F92CFEA5   Rock            7  train  ARZHQDD1187FB5B871   \n",
       "\n",
       "                                           image_url            song_title  \\\n",
       "0  http://artwork-cdn.7static.com/static/img/slee...       The Illusionist   \n",
       "1  http://artwork-cdn.7static.com/static/img/slee...        Weekend Driver   \n",
       "2  http://artwork-cdn.7static.com/static/img/slee...             Too Alive   \n",
       "3  http://artwork-cdn.7static.com/static/img/slee...  Ride The Darker Wave   \n",
       "4  http://artwork-cdn.7static.com/static/img/slee...                Carmen   \n",
       "\n",
       "                                         song_lyrics         artist  \\\n",
       "0                                                NaN  Scar Symmetry   \n",
       "1                                                NaN         Foghat   \n",
       "2                                                NaN   The Breeders   \n",
       "3                                                NaN        Sebadoh   \n",
       "4  Last night she ran away  \\nLeft a letter by th...           Lush   \n",
       "\n",
       "                                         lyrics_link  \\\n",
       "0  https://www.lyricsfreak.com/s/scar+symmetry/th...   \n",
       "1  https://www.lyricsfreak.com/f/foghat/weekend+d...   \n",
       "2  https://www.lyricsfreak.com/b/breeders/too+ali...   \n",
       "3  https://www.lyricsfreak.com/s/sebadoh/ride+the...   \n",
       "4  https://www.lyricsfreak.com/l/lush/carmen_2008...   \n",
       "\n",
       "                                         lyrics_text  \\\n",
       "0  as an outcast i paced defeat seeking comfort i...   \n",
       "1  dave peverett - riff bros. music - ascap waiti...   \n",
       "2  i took off when will will make no way steal it...   \n",
       "3  you make your words so nice i'm waiting you to...   \n",
       "4  (anderson/berenyi) carmen tells me what she's ...   \n",
       "\n",
       "                                              lyrics lyrics_clean  \n",
       "0  as an outcast i paced defeat seeking comfort i...            0  \n",
       "1  dave peverett - riff bros. music - ascap waiti...            1  \n",
       "2  i took off when will will make no way steal it...            2  \n",
       "3  you make your words so nice i'm waiting you to...            3  \n",
       "4  (anderson/berenyi) carmen tells me what she's ...            4  "
      ]
     },
     "execution_count": 121,
     "metadata": {},
     "output_type": "execute_result"
    }
   ],
   "source": [
    "dataset_clean.head()"
   ]
  },
  {
   "cell_type": "code",
   "execution_count": 122,
   "metadata": {},
   "outputs": [],
   "source": [
    "dataset_clean['lyrics_clean'] = None"
   ]
  },
  {
   "cell_type": "code",
   "execution_count": 113,
   "metadata": {},
   "outputs": [
    {
     "ename": "ValueError",
     "evalue": "At based indexing on an integer index can only have integer indexers",
     "output_type": "error",
     "traceback": [
      "\u001b[0;31m---------------------------------------------------------------------------\u001b[0m",
      "\u001b[0;31mValueError\u001b[0m                                Traceback (most recent call last)",
      "\u001b[0;32m<ipython-input-113-ff4c7c598a62>\u001b[0m in \u001b[0;36m<module>\u001b[0;34m\u001b[0m\n\u001b[0;32m----> 1\u001b[0;31m \u001b[0mdataset_clean\u001b[0m\u001b[0;34m.\u001b[0m\u001b[0mat\u001b[0m\u001b[0;34m[\u001b[0m\u001b[0;34m'lyrics_clean'\u001b[0m\u001b[0;34m,\u001b[0m \u001b[0;34m'0'\u001b[0m\u001b[0;34m]\u001b[0m\u001b[0;34m\u001b[0m\u001b[0;34m\u001b[0m\u001b[0m\n\u001b[0m",
      "\u001b[0;32m~/.local/lib/python3.6/site-packages/pandas/core/indexing.py\u001b[0m in \u001b[0;36m__getitem__\u001b[0;34m(self, key)\u001b[0m\n\u001b[1;32m   2139\u001b[0m                 \u001b[0;32mraise\u001b[0m \u001b[0mValueError\u001b[0m\u001b[0;34m(\u001b[0m\u001b[0;34m'Invalid call for scalar access (getting)!'\u001b[0m\u001b[0;34m)\u001b[0m\u001b[0;34m\u001b[0m\u001b[0;34m\u001b[0m\u001b[0m\n\u001b[1;32m   2140\u001b[0m \u001b[0;34m\u001b[0m\u001b[0m\n\u001b[0;32m-> 2141\u001b[0;31m         \u001b[0mkey\u001b[0m \u001b[0;34m=\u001b[0m \u001b[0mself\u001b[0m\u001b[0;34m.\u001b[0m\u001b[0m_convert_key\u001b[0m\u001b[0;34m(\u001b[0m\u001b[0mkey\u001b[0m\u001b[0;34m)\u001b[0m\u001b[0;34m\u001b[0m\u001b[0;34m\u001b[0m\u001b[0m\n\u001b[0m\u001b[1;32m   2142\u001b[0m         \u001b[0;32mreturn\u001b[0m \u001b[0mself\u001b[0m\u001b[0;34m.\u001b[0m\u001b[0mobj\u001b[0m\u001b[0;34m.\u001b[0m\u001b[0m_get_value\u001b[0m\u001b[0;34m(\u001b[0m\u001b[0;34m*\u001b[0m\u001b[0mkey\u001b[0m\u001b[0;34m,\u001b[0m \u001b[0mtakeable\u001b[0m\u001b[0;34m=\u001b[0m\u001b[0mself\u001b[0m\u001b[0;34m.\u001b[0m\u001b[0m_takeable\u001b[0m\u001b[0;34m)\u001b[0m\u001b[0;34m\u001b[0m\u001b[0;34m\u001b[0m\u001b[0m\n\u001b[1;32m   2143\u001b[0m \u001b[0;34m\u001b[0m\u001b[0m\n",
      "\u001b[0;32m~/.local/lib/python3.6/site-packages/pandas/core/indexing.py\u001b[0m in \u001b[0;36m_convert_key\u001b[0;34m(self, key, is_setter)\u001b[0m\n\u001b[1;32m   2221\u001b[0m             \u001b[0;32mif\u001b[0m \u001b[0max\u001b[0m\u001b[0;34m.\u001b[0m\u001b[0mis_integer\u001b[0m\u001b[0;34m(\u001b[0m\u001b[0;34m)\u001b[0m\u001b[0;34m:\u001b[0m\u001b[0;34m\u001b[0m\u001b[0;34m\u001b[0m\u001b[0m\n\u001b[1;32m   2222\u001b[0m                 \u001b[0;32mif\u001b[0m \u001b[0;32mnot\u001b[0m \u001b[0mis_integer\u001b[0m\u001b[0;34m(\u001b[0m\u001b[0mi\u001b[0m\u001b[0;34m)\u001b[0m\u001b[0;34m:\u001b[0m\u001b[0;34m\u001b[0m\u001b[0;34m\u001b[0m\u001b[0m\n\u001b[0;32m-> 2223\u001b[0;31m                     raise ValueError(\"At based indexing on an integer index \"\n\u001b[0m\u001b[1;32m   2224\u001b[0m                                      \"can only have integer indexers\")\n\u001b[1;32m   2225\u001b[0m             \u001b[0;32melse\u001b[0m\u001b[0;34m:\u001b[0m\u001b[0;34m\u001b[0m\u001b[0;34m\u001b[0m\u001b[0m\n",
      "\u001b[0;31mValueError\u001b[0m: At based indexing on an integer index can only have integer indexers"
     ]
    }
   ],
   "source": [
    "dataset_clean.at['lyrics_clean', '0']"
   ]
  },
  {
   "cell_type": "code",
   "execution_count": null,
   "metadata": {},
   "outputs": [],
   "source": []
  },
  {
   "cell_type": "code",
   "execution_count": null,
   "metadata": {},
   "outputs": [
    {
     "name": "stderr",
     "output_type": "stream",
     "text": [
      " 24%|██▎       | 2454/10382 [01:15<19:33,  6.76it/s]"
     ]
    }
   ],
   "source": [
    "for i in tqdm.tqdm(dataset_clean.index):\n",
    "    dataset_clean.at[i, 'lyrics_clean'] = preprocess(dataset_clean.at[i, 'lyrics'])"
   ]
  },
  {
   "cell_type": "code",
   "execution_count": null,
   "metadata": {},
   "outputs": [],
   "source": [
    "dataset_clean"
   ]
  },
  {
   "cell_type": "markdown",
   "metadata": {},
   "source": [
    "# TFIDF"
   ]
  },
  {
   "cell_type": "markdown",
   "metadata": {},
   "source": [
    "# Sample use"
   ]
  },
  {
   "cell_type": "code",
   "execution_count": 72,
   "metadata": {},
   "outputs": [],
   "source": [
    "from sklearn.feature_extraction.text import TfidfVectorizer"
   ]
  },
  {
   "cell_type": "code",
   "execution_count": 73,
   "metadata": {},
   "outputs": [],
   "source": [
    "corpus = [\n",
    "     'This is the first document.',\n",
    "     'This document is the second document.',\n",
    "     'And this is the third one.',\n",
    "     'Is this the first document?',\n",
    "]"
   ]
  },
  {
   "cell_type": "code",
   "execution_count": 74,
   "metadata": {},
   "outputs": [],
   "source": [
    "vectorizer = TfidfVectorizer()"
   ]
  },
  {
   "cell_type": "code",
   "execution_count": 75,
   "metadata": {},
   "outputs": [],
   "source": [
    "X = vectorizer.fit_transform(corpus)"
   ]
  },
  {
   "cell_type": "code",
   "execution_count": 76,
   "metadata": {},
   "outputs": [
    {
     "data": {
      "text/plain": [
       "(4, 9)"
      ]
     },
     "execution_count": 76,
     "metadata": {},
     "output_type": "execute_result"
    }
   ],
   "source": [
    "X.shape"
   ]
  },
  {
   "cell_type": "code",
   "execution_count": 79,
   "metadata": {},
   "outputs": [],
   "source": [
    "y = [1, 2, 3, 1]"
   ]
  },
  {
   "cell_type": "code",
   "execution_count": null,
   "metadata": {},
   "outputs": [],
   "source": []
  },
  {
   "cell_type": "code",
   "execution_count": null,
   "metadata": {},
   "outputs": [],
   "source": []
  },
  {
   "cell_type": "code",
   "execution_count": null,
   "metadata": {},
   "outputs": [],
   "source": []
  },
  {
   "cell_type": "code",
   "execution_count": null,
   "metadata": {},
   "outputs": [],
   "source": []
  },
  {
   "cell_type": "code",
   "execution_count": null,
   "metadata": {},
   "outputs": [],
   "source": []
  },
  {
   "cell_type": "markdown",
   "metadata": {},
   "source": [
    "# Log reg"
   ]
  },
  {
   "cell_type": "code",
   "execution_count": 80,
   "metadata": {},
   "outputs": [],
   "source": [
    "from sklearn.linear_model import LogisticRegression"
   ]
  },
  {
   "cell_type": "code",
   "execution_count": 84,
   "metadata": {},
   "outputs": [],
   "source": [
    "model = LogisticRegression(solver='lbfgs')"
   ]
  },
  {
   "cell_type": "code",
   "execution_count": 85,
   "metadata": {},
   "outputs": [
    {
     "data": {
      "text/plain": [
       "LogisticRegression(C=1.0, class_weight=None, dual=False, fit_intercept=True,\n",
       "                   intercept_scaling=1, l1_ratio=None, max_iter=100,\n",
       "                   multi_class='warn', n_jobs=None, penalty='l2',\n",
       "                   random_state=None, solver='lbfgs', tol=0.0001, verbose=0,\n",
       "                   warm_start=False)"
      ]
     },
     "execution_count": 85,
     "metadata": {},
     "output_type": "execute_result"
    }
   ],
   "source": [
    "model.fit(X, y)"
   ]
  },
  {
   "cell_type": "code",
   "execution_count": 86,
   "metadata": {},
   "outputs": [
    {
     "data": {
      "text/plain": [
       "array([1, 1, 1, 1])"
      ]
     },
     "execution_count": 86,
     "metadata": {},
     "output_type": "execute_result"
    }
   ],
   "source": [
    "model.predict(X)"
   ]
  },
  {
   "cell_type": "markdown",
   "metadata": {},
   "source": [
    "# Evaluate"
   ]
  },
  {
   "cell_type": "code",
   "execution_count": 12,
   "metadata": {},
   "outputs": [
    {
     "ename": "ModuleNotFoundError",
     "evalue": "No module named 'torchwordemb'",
     "output_type": "error",
     "traceback": [
      "\u001b[0;31m---------------------------------------------------------------------------\u001b[0m",
      "\u001b[0;31mModuleNotFoundError\u001b[0m                       Traceback (most recent call last)",
      "\u001b[0;32m<ipython-input-12-4787feedc50c>\u001b[0m in \u001b[0;36m<module>\u001b[0;34m\u001b[0m\n\u001b[1;32m      2\u001b[0m \u001b[0;34m\u001b[0m\u001b[0m\n\u001b[1;32m      3\u001b[0m \u001b[0;32mimport\u001b[0m \u001b[0mpandas\u001b[0m \u001b[0;32mas\u001b[0m \u001b[0mpd\u001b[0m\u001b[0;34m\u001b[0m\u001b[0;34m\u001b[0m\u001b[0m\n\u001b[0;32m----> 4\u001b[0;31m \u001b[0;32mimport\u001b[0m \u001b[0mtorchwordemb\u001b[0m\u001b[0;34m\u001b[0m\u001b[0;34m\u001b[0m\u001b[0m\n\u001b[0m\u001b[1;32m      5\u001b[0m \u001b[0;32mimport\u001b[0m \u001b[0mtorch\u001b[0m\u001b[0;34m\u001b[0m\u001b[0;34m\u001b[0m\u001b[0m\n\u001b[1;32m      6\u001b[0m \u001b[0;34m\u001b[0m\u001b[0m\n",
      "\u001b[0;31mModuleNotFoundError\u001b[0m: No module named 'torchwordemb'"
     ]
    }
   ],
   "source": [
    "from collections import Counter\n",
    "\n",
    "import pandas as pd\n",
    "import torchwordemb\n",
    "import torch\n",
    "\n",
    "import util as ut\n",
    "\n",
    "\n",
    "class VocabBuilder(object):\n",
    "    '''\n",
    "    Read file and create word_to_index dictionary.\n",
    "    This can truncate low-frequency words with min_sample option.\n",
    "    '''\n",
    "    def __init__(self, path_file=None):\n",
    "        # word count\n",
    "        self.word_count = VocabBuilder.count_from_file(path_file)\n",
    "        self.word_to_index = {}\n",
    "\n",
    "    @staticmethod\n",
    "    def count_from_file(path_file, tokenizer=ut._tokenize):\n",
    "        \"\"\"\n",
    "        count word frequencies in a file.\n",
    "        Args:\n",
    "            path_file:\n",
    "        Returns:\n",
    "            dict: {word_n :count_n, ...}\n",
    "        \"\"\"\n",
    "        df = pd.read_csv(path_file, delimiter='\\t')\n",
    "        # tokenize\n",
    "        df['body'] = df['body'].apply(tokenizer)\n",
    "        # count\n",
    "        word_count = Counter([tkn for sample in df['body'].values.tolist() for tkn in sample])\n",
    "        print('Original Vocab size:{}'.format(len(word_count)))\n",
    "        return word_count\n",
    "\n",
    "    def get_word_index(self, min_sample=1, padding_marker='__PADDING__', unknown_marker='__UNK__',):\n",
    "        \"\"\"\n",
    "        create word-to-index mapping. Padding and unknown are added to last 2 indices.\n",
    "        Args:\n",
    "            min_sample: for Truncation\n",
    "            padding_marker: padding mark\n",
    "            unknown_marker: unknown-word mark\n",
    "        Returns:\n",
    "            dict: {word_n: index_n, ... }\n",
    "        \"\"\"\n",
    "        # truncate low fq word\n",
    "        _word_count = filter(lambda x:  min_sample<=x[1], self.word_count.items())\n",
    "        tokens = zip(*_word_count)[0]\n",
    "\n",
    "        # inset padding and unknown\n",
    "        self.word_to_index = { tkn: i for i, tkn in enumerate([padding_marker, unknown_marker] + sorted(tokens))}\n",
    "        print('Turncated vocab size:{} (removed:{})'.format(len(self.word_to_index),\n",
    "                                                            len(self.word_count) - len(self.word_to_index)))\n",
    "        return self.word_to_index, None\n",
    "\n",
    "\n",
    "class GloveVocabBuilder(object) :\n",
    "\n",
    "    def __init__(self, path_glove):\n",
    "        self.vec = None\n",
    "        self.vocab = None\n",
    "        self.path_glove = path_glove\n",
    "\n",
    "    def get_word_index(self, padding_marker='__PADDING__', unknown_marker='__UNK__',):\n",
    "        _vocab, _vec = torchwordemb.load_glove_text(self.path_glove)\n",
    "        vocab = {padding_marker:0, unknown_marker:1}\n",
    "        for tkn, indx in _vocab.items():\n",
    "            vocab[tkn] = indx + 2\n",
    "        vec_2 = torch.zeros((2, _vec.size(1)))\n",
    "        vec_2[1].normal_()\n",
    "        self.vec = torch.cat((vec_2, _vec))\n",
    "        self.vocab = vocab\n",
    "        return self.vocab, self.vec"
   ]
  },
  {
   "cell_type": "code",
   "execution_count": 10,
   "metadata": {},
   "outputs": [],
   "source": [
    "text = 'dave peveret riff bro music ascap waitin weekend soon comin around hangin best friend glad found weekday emot gon na leav em behind get togeth crazi time talkin bout weekend driver live without talkin bout weekend driver yeah waitin weekend watch clock wall throw deep end hear call workin week survivor cool refin get togeth anoth kind talkin bout weekend driver live without talkin bout weekend driver yeah matter far go back work monday weekend anoth memori yeah didgerido erik slide solo talkin bout weekend driver live without talkin bout weekend driver yeah talkin bout weekend driver live without yeah talkin bout weekend driver yeah yeaeyeah oh yeah yeah oh yeah yeaeyeah'"
   ]
  },
  {
   "cell_type": "code",
   "execution_count": 11,
   "metadata": {},
   "outputs": [
    {
     "data": {
      "text/plain": [
       "'dave peveret riff bro music ascap waitin weekend soon comin around hangin best friend glad found weekday emot gon na leav em behind get togeth crazi time talkin bout weekend driver live without talkin bout weekend driver yeah waitin weekend watch clock wall throw deep end hear call workin week survivor cool refin get togeth anoth kind talkin bout weekend driver live without talkin bout weekend driver yeah matter far go back work monday weekend anoth memori yeah didgerido erik slide solo talkin bout weekend driver live without talkin bout weekend driver yeah talkin bout weekend driver live without yeah talkin bout weekend driver yeah yeaeyeah oh yeah yeah oh yeah yeaeyeah'"
      ]
     },
     "execution_count": 11,
     "metadata": {},
     "output_type": "execute_result"
    }
   ],
   "source": [
    "text"
   ]
  },
  {
   "cell_type": "code",
   "execution_count": null,
   "metadata": {},
   "outputs": [],
   "source": []
  },
  {
   "cell_type": "code",
   "execution_count": null,
   "metadata": {},
   "outputs": [],
   "source": []
  }
 ],
 "metadata": {
  "kernelspec": {
   "display_name": "Python 3",
   "language": "python",
   "name": "python3"
  },
  "language_info": {
   "codemirror_mode": {
    "name": "ipython",
    "version": 3
   },
   "file_extension": ".py",
   "mimetype": "text/x-python",
   "name": "python",
   "nbconvert_exporter": "python",
   "pygments_lexer": "ipython3",
   "version": "3.6.8"
  }
 },
 "nbformat": 4,
 "nbformat_minor": 2
}
