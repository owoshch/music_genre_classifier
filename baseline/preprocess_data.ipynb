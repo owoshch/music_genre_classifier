{
 "cells": [
  {
   "cell_type": "markdown",
   "metadata": {},
   "source": [
    "MSD-I dataset (mapping, metadata, annotations and links to images)\n",
    "Data splits and feature vectors for TISMIR single-label classification experiments "
   ]
  },
  {
   "cell_type": "code",
   "execution_count": 3,
   "metadata": {},
   "outputs": [],
   "source": [
    "import numpy as np\n",
    "import pandas as pd\n",
    "import json\n",
    "import tqdm\n",
    "from collections import Counter\n",
    "import collections"
   ]
  },
  {
   "cell_type": "code",
   "execution_count": 4,
   "metadata": {},
   "outputs": [],
   "source": [
    "import matplotlib\n",
    "%matplotlib inline\n",
    "import matplotlib.pyplot as plt"
   ]
  },
  {
   "cell_type": "markdown",
   "metadata": {},
   "source": [
    "# Load clean dataset"
   ]
  },
  {
   "cell_type": "code",
   "execution_count": 5,
   "metadata": {},
   "outputs": [],
   "source": [
    "dataset_clean = pd.read_csv(\"dataset_clean.csv\")"
   ]
  },
  {
   "cell_type": "code",
   "execution_count": 6,
   "metadata": {},
   "outputs": [
    {
     "data": {
      "text/html": [
       "<div>\n",
       "<style scoped>\n",
       "    .dataframe tbody tr th:only-of-type {\n",
       "        vertical-align: middle;\n",
       "    }\n",
       "\n",
       "    .dataframe tbody tr th {\n",
       "        vertical-align: top;\n",
       "    }\n",
       "\n",
       "    .dataframe thead th {\n",
       "        text-align: right;\n",
       "    }\n",
       "</style>\n",
       "<table border=\"1\" class=\"dataframe\">\n",
       "  <thead>\n",
       "    <tr style=\"text-align: right;\">\n",
       "      <th></th>\n",
       "      <th>msd_track_id</th>\n",
       "      <th>genre</th>\n",
       "      <th>album_index</th>\n",
       "      <th>set</th>\n",
       "      <th>msd_artist_id</th>\n",
       "      <th>image_url</th>\n",
       "      <th>song_title</th>\n",
       "      <th>song_lyrics</th>\n",
       "      <th>artist</th>\n",
       "      <th>lyrics_link</th>\n",
       "      <th>lyrics_text</th>\n",
       "      <th>lyrics</th>\n",
       "    </tr>\n",
       "  </thead>\n",
       "  <tbody>\n",
       "    <tr>\n",
       "      <th>0</th>\n",
       "      <td>TRABKJU128F422A7FE</td>\n",
       "      <td>Metal</td>\n",
       "      <td>0</td>\n",
       "      <td>train</td>\n",
       "      <td>ARBD4QW1187FB42153</td>\n",
       "      <td>http://artwork-cdn.7static.com/static/img/slee...</td>\n",
       "      <td>The Illusionist</td>\n",
       "      <td>NaN</td>\n",
       "      <td>Scar Symmetry</td>\n",
       "      <td>https://www.lyricsfreak.com/s/scar+symmetry/th...</td>\n",
       "      <td>as an outcast i paced defeat seeking comfort i...</td>\n",
       "      <td>as an outcast i paced defeat seeking comfort i...</td>\n",
       "    </tr>\n",
       "    <tr>\n",
       "      <th>1</th>\n",
       "      <td>TRDMMDE128F14A9052</td>\n",
       "      <td>Rock</td>\n",
       "      <td>2</td>\n",
       "      <td>train</td>\n",
       "      <td>ARJVTRE1187B9959C0</td>\n",
       "      <td>http://artwork-cdn.7static.com/static/img/slee...</td>\n",
       "      <td>Weekend Driver</td>\n",
       "      <td>NaN</td>\n",
       "      <td>Foghat</td>\n",
       "      <td>https://www.lyricsfreak.com/f/foghat/weekend+d...</td>\n",
       "      <td>dave peverett - riff bros. music - ascap waiti...</td>\n",
       "      <td>dave peverett - riff bros. music - ascap waiti...</td>\n",
       "    </tr>\n",
       "    <tr>\n",
       "      <th>2</th>\n",
       "      <td>TRJOPZB128F4250E02</td>\n",
       "      <td>Rock</td>\n",
       "      <td>4</td>\n",
       "      <td>train</td>\n",
       "      <td>AR62BB21187B9AC83D</td>\n",
       "      <td>http://artwork-cdn.7static.com/static/img/slee...</td>\n",
       "      <td>Too Alive</td>\n",
       "      <td>NaN</td>\n",
       "      <td>The Breeders</td>\n",
       "      <td>https://www.lyricsfreak.com/b/breeders/too+ali...</td>\n",
       "      <td>i took off when will will make no way steal it...</td>\n",
       "      <td>i took off when will will make no way steal it...</td>\n",
       "    </tr>\n",
       "    <tr>\n",
       "      <th>3</th>\n",
       "      <td>TRJKBVL128F935567B</td>\n",
       "      <td>Rock</td>\n",
       "      <td>5</td>\n",
       "      <td>train</td>\n",
       "      <td>AR7GVOV1187B9B5FF1</td>\n",
       "      <td>http://artwork-cdn.7static.com/static/img/slee...</td>\n",
       "      <td>Ride The Darker Wave</td>\n",
       "      <td>NaN</td>\n",
       "      <td>Sebadoh</td>\n",
       "      <td>https://www.lyricsfreak.com/s/sebadoh/ride+the...</td>\n",
       "      <td>you make your words so nice i'm waiting you to...</td>\n",
       "      <td>you make your words so nice i'm waiting you to...</td>\n",
       "    </tr>\n",
       "    <tr>\n",
       "      <th>4</th>\n",
       "      <td>TRUSOQD128F92CFEA5</td>\n",
       "      <td>Rock</td>\n",
       "      <td>7</td>\n",
       "      <td>train</td>\n",
       "      <td>ARZHQDD1187FB5B871</td>\n",
       "      <td>http://artwork-cdn.7static.com/static/img/slee...</td>\n",
       "      <td>Carmen</td>\n",
       "      <td>Last night she ran away  \\nLeft a letter by th...</td>\n",
       "      <td>Lush</td>\n",
       "      <td>https://www.lyricsfreak.com/l/lush/carmen_2008...</td>\n",
       "      <td>(anderson/berenyi) carmen tells me what she's ...</td>\n",
       "      <td>(anderson/berenyi) carmen tells me what she's ...</td>\n",
       "    </tr>\n",
       "  </tbody>\n",
       "</table>\n",
       "</div>"
      ],
      "text/plain": [
       "         msd_track_id  genre  album_index    set       msd_artist_id  \\\n",
       "0  TRABKJU128F422A7FE  Metal            0  train  ARBD4QW1187FB42153   \n",
       "1  TRDMMDE128F14A9052   Rock            2  train  ARJVTRE1187B9959C0   \n",
       "2  TRJOPZB128F4250E02   Rock            4  train  AR62BB21187B9AC83D   \n",
       "3  TRJKBVL128F935567B   Rock            5  train  AR7GVOV1187B9B5FF1   \n",
       "4  TRUSOQD128F92CFEA5   Rock            7  train  ARZHQDD1187FB5B871   \n",
       "\n",
       "                                           image_url            song_title  \\\n",
       "0  http://artwork-cdn.7static.com/static/img/slee...       The Illusionist   \n",
       "1  http://artwork-cdn.7static.com/static/img/slee...        Weekend Driver   \n",
       "2  http://artwork-cdn.7static.com/static/img/slee...             Too Alive   \n",
       "3  http://artwork-cdn.7static.com/static/img/slee...  Ride The Darker Wave   \n",
       "4  http://artwork-cdn.7static.com/static/img/slee...                Carmen   \n",
       "\n",
       "                                         song_lyrics         artist  \\\n",
       "0                                                NaN  Scar Symmetry   \n",
       "1                                                NaN         Foghat   \n",
       "2                                                NaN   The Breeders   \n",
       "3                                                NaN        Sebadoh   \n",
       "4  Last night she ran away  \\nLeft a letter by th...           Lush   \n",
       "\n",
       "                                         lyrics_link  \\\n",
       "0  https://www.lyricsfreak.com/s/scar+symmetry/th...   \n",
       "1  https://www.lyricsfreak.com/f/foghat/weekend+d...   \n",
       "2  https://www.lyricsfreak.com/b/breeders/too+ali...   \n",
       "3  https://www.lyricsfreak.com/s/sebadoh/ride+the...   \n",
       "4  https://www.lyricsfreak.com/l/lush/carmen_2008...   \n",
       "\n",
       "                                         lyrics_text  \\\n",
       "0  as an outcast i paced defeat seeking comfort i...   \n",
       "1  dave peverett - riff bros. music - ascap waiti...   \n",
       "2  i took off when will will make no way steal it...   \n",
       "3  you make your words so nice i'm waiting you to...   \n",
       "4  (anderson/berenyi) carmen tells me what she's ...   \n",
       "\n",
       "                                              lyrics  \n",
       "0  as an outcast i paced defeat seeking comfort i...  \n",
       "1  dave peverett - riff bros. music - ascap waiti...  \n",
       "2  i took off when will will make no way steal it...  \n",
       "3  you make your words so nice i'm waiting you to...  \n",
       "4  (anderson/berenyi) carmen tells me what she's ...  "
      ]
     },
     "execution_count": 6,
     "metadata": {},
     "output_type": "execute_result"
    }
   ],
   "source": [
    "dataset_clean.head()"
   ]
  },
  {
   "cell_type": "markdown",
   "metadata": {},
   "source": [
    "# Stats"
   ]
  },
  {
   "cell_type": "code",
   "execution_count": null,
   "metadata": {},
   "outputs": [],
   "source": [
    "train_stats = Counter(dataset_clean[dataset_clean.set == 'train'].genre)\n",
    "train_stats = collections.OrderedDict(sorted(train_stats.items()))"
   ]
  },
  {
   "cell_type": "code",
   "execution_count": null,
   "metadata": {},
   "outputs": [],
   "source": [
    "val_stats = Counter(dataset_clean[dataset_clean.set == 'val'].genre)\n",
    "val_stats = collections.OrderedDict(sorted(val_stats.items()))"
   ]
  },
  {
   "cell_type": "code",
   "execution_count": null,
   "metadata": {},
   "outputs": [],
   "source": [
    "test_stats = Counter(dataset_clean[dataset_clean.set == 'test'].genre)\n",
    "test_stats = collections.OrderedDict(sorted(test_stats.items()))"
   ]
  },
  {
   "cell_type": "code",
   "execution_count": null,
   "metadata": {},
   "outputs": [],
   "source": [
    "len(train_stats)"
   ]
  },
  {
   "cell_type": "code",
   "execution_count": null,
   "metadata": {},
   "outputs": [],
   "source": [
    "train_stats"
   ]
  },
  {
   "cell_type": "code",
   "execution_count": null,
   "metadata": {},
   "outputs": [],
   "source": [
    "train_stats.keys()"
   ]
  },
  {
   "cell_type": "code",
   "execution_count": null,
   "metadata": {},
   "outputs": [],
   "source": [
    "\" \".join(train_stats.keys())"
   ]
  },
  {
   "cell_type": "code",
   "execution_count": null,
   "metadata": {},
   "outputs": [],
   "source": [
    "val_stats"
   ]
  },
  {
   "cell_type": "code",
   "execution_count": null,
   "metadata": {},
   "outputs": [],
   "source": [
    "test_stats"
   ]
  },
  {
   "cell_type": "code",
   "execution_count": null,
   "metadata": {},
   "outputs": [],
   "source": [
    "plt.figure(figsize=(16, 12))\n",
    "\n",
    "plt.subplot(3, 1, 1)\n",
    "plt.bar(list(train_stats.keys()), train_stats.values())\n",
    "plt.title('Тренировочная выборка')\n",
    "plt.ylabel('Количество песен')\n",
    "\n",
    "plt.subplot(3, 1, 2)\n",
    "plt.bar(list(val_stats.keys()), val_stats.values())\n",
    "plt.title('Валидационная выборка')\n",
    "plt.ylabel('Количество песен')\n",
    "\n",
    "plt.subplot(3, 1, 3)\n",
    "plt.bar(list(test_stats.keys()), test_stats.values())\n",
    "plt.title('Тестовая выборка')\n",
    "plt.ylabel('Количество песен')\n",
    "plt.savefig('train_test_split.jpg')\n",
    "plt.show()"
   ]
  },
  {
   "cell_type": "markdown",
   "metadata": {},
   "source": [
    "# Preprocess text"
   ]
  },
  {
   "cell_type": "code",
   "execution_count": 7,
   "metadata": {},
   "outputs": [],
   "source": [
    "from time import time\n",
    "import numpy as np\n",
    "import string\n",
    "\n",
    "from techniques import *"
   ]
  },
  {
   "cell_type": "code",
   "execution_count": 8,
   "metadata": {},
   "outputs": [],
   "source": [
    "finalTokens = [] # all tokens\n",
    "stoplist = stopwords.words('english')"
   ]
  },
  {
   "cell_type": "code",
   "execution_count": 9,
   "metadata": {},
   "outputs": [],
   "source": [
    "lemmatizer = WordNetLemmatizer() # set lemmatizer\n",
    "stemmer = PorterStemmer() # set stemmer"
   ]
  },
  {
   "cell_type": "code",
   "execution_count": 134,
   "metadata": {},
   "outputs": [],
   "source": [
    "def tokenize(text):\n",
    "    finalTokens = []\n",
    "    totalAdjectives = 0\n",
    "    totalAdverbs = 0\n",
    "    totalVerbs = 0\n",
    "    onlyOneSentenceTokens = [] # tokens of one sentence each time\n",
    "\n",
    "    tokens = nltk.word_tokenize(text)\n",
    "    \n",
    "    tokens = replaceNegations(tokens) # Technique 6: finds \"not\" and antonym for the next word and if found, replaces not and the next word with the antonym\n",
    "    \n",
    "    translator = str.maketrans('', '', string.punctuation)\n",
    "    text = text.translate(translator) # Technique 7: remove punctuation\n",
    "\n",
    "    tokens = nltk.word_tokenize(text) # it takes a text as an input and provides a list of every token in it\n",
    "    \n",
    "### NO POS TAGGING BEGIN (If you don't want to use POS Tagging keep this section uncommented) ###\n",
    "    \n",
    "    for w in tokens:\n",
    "\n",
    "        if (w not in stoplist): # Technique 10: remove stopwords\n",
    "            final_word = addCapTag(w) # Technique 8: Finds a word with at least 3 characters capitalized and adds the tag ALL_CAPS_\n",
    "            \n",
    "            final_word = final_word.lower() # Technique 9: lowercases all characters\n",
    "\n",
    "            final_word = replaceElongated(final_word) # Technique 11: replaces an elongated word with its basic form, unless the word exists in the lexicon\n",
    "            \n",
    "            #if len(final_word)>1:\n",
    "            #    final_word = spellCorrection(final_word) # Technique 12: correction of spelling errors\n",
    "            final_word = lemmatizer.lemmatize(final_word) # Technique 14: lemmatizes words\n",
    "            #final_word = stemmer.stem(final_word) # Technique 15: apply stemming to words\n",
    "\n",
    "\n",
    "            \n",
    "            onlyOneSentenceTokens.append(final_word)           \n",
    "            finalTokens.append(final_word)\n",
    "\n",
    "         \n",
    "    onlyOneSentence = \" \".join(onlyOneSentenceTokens) # form again the sentence from the list of tokens\n",
    "    #print(onlyOneSentence) # print final sentence\n",
    "\n",
    "    \n",
    "    \"\"\" Write the preprocessed text to file \"\"\"\n",
    "    #with open(\"result.txt\", \"a\") as result:\n",
    "    #    result.write(textID+\"\\t\"+y+\"\\t\"+onlyOneSentence+\"\\n\")\n",
    "        \n",
    "    return finalTokens"
   ]
  },
  {
   "cell_type": "code",
   "execution_count": 135,
   "metadata": {},
   "outputs": [],
   "source": [
    "def preprocess(text):\n",
    "    text = replaceURL(text) # Technique 1\n",
    "    text = replaceAtUser(text) # Technique 1\n",
    "    text = removeHashtagInFrontOfWord(text) # Technique 1\n",
    "\n",
    "    temp_slangs, temp_slangsFound = countSlang(text)\n",
    "    #totalSlangs += temp_slangs # total slangs for all sentences\n",
    "    #for word in temp_slangsFound:\n",
    "    #    totalSlangsFound.append(word) # all the slangs found in all sentences\n",
    "\n",
    "    text = replaceSlang(text) # Technique 2: replaces slang words and abbreviations with their equivalents\n",
    "    text = replaceContraction(text) # Technique 3: replaces contractions to their equivalents\n",
    "    text = removeNumbers(text) # Technique 4: remove integers from text\n",
    "\n",
    "    emoticons = countEmoticons(text) # how many emoticons in this sentence\n",
    "    #totalEmoticons += emoticons\n",
    "\n",
    "    text = removeEmoticons(text) # removes emoticons from text\n",
    "\n",
    "\n",
    "    #totalAllCaps += countAllCaps(text)\n",
    "\n",
    "    #totalMultiExclamationMarks += countMultiExclamationMarks(text) # how many repetitions of exlamation marks in this sentence\n",
    "    #totalMultiQuestionMarks += countMultiQuestionMarks(text) # how many repetitions of question marks in this sentence\n",
    "    #totalMultiStopMarks += countMultiStopMarks(text) # how many repetitions of stop marks in this sentence\n",
    "\n",
    "    text = replaceMultiExclamationMark(text) # Technique 5: replaces repetitions of exlamation marks with the tag \"multiExclamation\"\n",
    "    text = replaceMultiQuestionMark(text) # Technique 5: replaces repetitions of question marks with the tag \"multiQuestion\"\n",
    "    text = replaceMultiStopMark(text) # Technique 5: replaces repetitions of stop marks with the tag \"multiStop\"\n",
    "\n",
    "    #totalElongated += countElongated(text)\n",
    "    tokens = tokenize(text) \n",
    "    sentense = \" \".join(tokens)\n",
    "    return sentense"
   ]
  },
  {
   "cell_type": "markdown",
   "metadata": {},
   "source": [
    "# Preprocess"
   ]
  },
  {
   "cell_type": "markdown",
   "metadata": {},
   "source": [
    "https://github.com/Deffro/text-preprocessing-techniques"
   ]
  },
  {
   "cell_type": "code",
   "execution_count": 137,
   "metadata": {},
   "outputs": [
    {
     "data": {
      "text/plain": [
       "'hair soft drifted snow death white would like know hate give got sky turn green grass several shade blue every member parliament trip glue sky turn green grass several shade blue every member parliament trip glue take thing time till sugar spun sister happy love mine take thing oh much paid fifteen gut take many hand stuck jean know know must mean wake sun asked fuss gave thought wake sun think done gave thought would oh take thing time till sugar spun sister happy love mine yeah yeah yeah candy floss girl sticky fingered boy oh sister mine yeah'"
      ]
     },
     "execution_count": 137,
     "metadata": {},
     "output_type": "execute_result"
    }
   ],
   "source": [
    "preprocess(dataset_clean.at[5, 'lyrics'])"
   ]
  },
  {
   "cell_type": "code",
   "execution_count": 138,
   "metadata": {},
   "outputs": [
    {
     "data": {
      "text/plain": [
       "'dave peveret riff bros music ascap waitin weekend soon comin around hangin best friend glad found weekday emotion gon na leave em behind get together crazy time talkin bout weekend driver live without talkin bout weekend driver yeah waitin weekend watch clock wall throw deep end hear call workin week survivor cool refined get together another kind talkin bout weekend driver live without talkin bout weekend driver yeah matter far go back work monday weekend another memory yeah didgerido erik slide solo talkin bout weekend driver live without talkin bout weekend driver yeah talkin bout weekend driver live without yeah talkin bout weekend driver yeah yeaeyeah oh yeah yeah oh yeah yeaeyeah'"
      ]
     },
     "execution_count": 138,
     "metadata": {},
     "output_type": "execute_result"
    }
   ],
   "source": [
    "preprocess(dataset_clean.at[1, 'lyrics'])"
   ]
  },
  {
   "cell_type": "code",
   "execution_count": 139,
   "metadata": {},
   "outputs": [
    {
     "name": "stderr",
     "output_type": "stream",
     "text": [
      "100%|██████████| 10382/10382 [01:29<00:00, 116.31it/s]\n"
     ]
    }
   ],
   "source": [
    "for i in tqdm.tqdm(dataset_clean.index):\n",
    "    dataset_clean.at[i, 'lyrics_clean_without_stem'] = preprocess(dataset_clean.at[i, 'lyrics'])"
   ]
  },
  {
   "cell_type": "code",
   "execution_count": 140,
   "metadata": {},
   "outputs": [
    {
     "data": {
      "text/html": [
       "<div>\n",
       "<style scoped>\n",
       "    .dataframe tbody tr th:only-of-type {\n",
       "        vertical-align: middle;\n",
       "    }\n",
       "\n",
       "    .dataframe tbody tr th {\n",
       "        vertical-align: top;\n",
       "    }\n",
       "\n",
       "    .dataframe thead th {\n",
       "        text-align: right;\n",
       "    }\n",
       "</style>\n",
       "<table border=\"1\" class=\"dataframe\">\n",
       "  <thead>\n",
       "    <tr style=\"text-align: right;\">\n",
       "      <th></th>\n",
       "      <th>msd_track_id</th>\n",
       "      <th>genre</th>\n",
       "      <th>album_index</th>\n",
       "      <th>set</th>\n",
       "      <th>msd_artist_id</th>\n",
       "      <th>image_url</th>\n",
       "      <th>song_title</th>\n",
       "      <th>song_lyrics</th>\n",
       "      <th>artist</th>\n",
       "      <th>lyrics_link</th>\n",
       "      <th>lyrics_text</th>\n",
       "      <th>lyrics</th>\n",
       "      <th>lyrics_clean</th>\n",
       "      <th>lyrics_clean_without_stem</th>\n",
       "    </tr>\n",
       "  </thead>\n",
       "  <tbody>\n",
       "    <tr>\n",
       "      <th>0</th>\n",
       "      <td>TRABKJU128F422A7FE</td>\n",
       "      <td>Metal</td>\n",
       "      <td>0</td>\n",
       "      <td>train</td>\n",
       "      <td>ARBD4QW1187FB42153</td>\n",
       "      <td>http://artwork-cdn.7static.com/static/img/slee...</td>\n",
       "      <td>The Illusionist</td>\n",
       "      <td>NaN</td>\n",
       "      <td>Scar Symmetry</td>\n",
       "      <td>https://www.lyricsfreak.com/s/scar+symmetry/th...</td>\n",
       "      <td>as an outcast i paced defeat seeking comfort i...</td>\n",
       "      <td>as an outcast i paced defeat seeking comfort i...</td>\n",
       "      <td>outcast pace defeat seek comfort pain retreat ...</td>\n",
       "      <td>outcast paced defeat seeking comfort painful r...</td>\n",
       "    </tr>\n",
       "    <tr>\n",
       "      <th>1</th>\n",
       "      <td>TRDMMDE128F14A9052</td>\n",
       "      <td>Rock</td>\n",
       "      <td>2</td>\n",
       "      <td>train</td>\n",
       "      <td>ARJVTRE1187B9959C0</td>\n",
       "      <td>http://artwork-cdn.7static.com/static/img/slee...</td>\n",
       "      <td>Weekend Driver</td>\n",
       "      <td>NaN</td>\n",
       "      <td>Foghat</td>\n",
       "      <td>https://www.lyricsfreak.com/f/foghat/weekend+d...</td>\n",
       "      <td>dave peverett - riff bros. music - ascap waiti...</td>\n",
       "      <td>dave peverett - riff bros. music - ascap waiti...</td>\n",
       "      <td>dave peveret riff bro music ascap waitin weeke...</td>\n",
       "      <td>dave peveret riff bros music ascap waitin week...</td>\n",
       "    </tr>\n",
       "    <tr>\n",
       "      <th>2</th>\n",
       "      <td>TRJOPZB128F4250E02</td>\n",
       "      <td>Rock</td>\n",
       "      <td>4</td>\n",
       "      <td>train</td>\n",
       "      <td>AR62BB21187B9AC83D</td>\n",
       "      <td>http://artwork-cdn.7static.com/static/img/slee...</td>\n",
       "      <td>Too Alive</td>\n",
       "      <td>NaN</td>\n",
       "      <td>The Breeders</td>\n",
       "      <td>https://www.lyricsfreak.com/b/breeders/too+ali...</td>\n",
       "      <td>i took off when will will make no way steal it...</td>\n",
       "      <td>i took off when will will make no way steal it...</td>\n",
       "      <td>took make way steal like found speed mic shut ...</td>\n",
       "      <td>took make way steal like found speed mic shut ...</td>\n",
       "    </tr>\n",
       "    <tr>\n",
       "      <th>3</th>\n",
       "      <td>TRJKBVL128F935567B</td>\n",
       "      <td>Rock</td>\n",
       "      <td>5</td>\n",
       "      <td>train</td>\n",
       "      <td>AR7GVOV1187B9B5FF1</td>\n",
       "      <td>http://artwork-cdn.7static.com/static/img/slee...</td>\n",
       "      <td>Ride The Darker Wave</td>\n",
       "      <td>NaN</td>\n",
       "      <td>Sebadoh</td>\n",
       "      <td>https://www.lyricsfreak.com/s/sebadoh/ride+the...</td>\n",
       "      <td>you make your words so nice i'm waiting you to...</td>\n",
       "      <td>you make your words so nice i'm waiting you to...</td>\n",
       "      <td>make word nice wait name price one walk along ...</td>\n",
       "      <td>make word nice waiting name price one walk alo...</td>\n",
       "    </tr>\n",
       "    <tr>\n",
       "      <th>4</th>\n",
       "      <td>TRUSOQD128F92CFEA5</td>\n",
       "      <td>Rock</td>\n",
       "      <td>7</td>\n",
       "      <td>train</td>\n",
       "      <td>ARZHQDD1187FB5B871</td>\n",
       "      <td>http://artwork-cdn.7static.com/static/img/slee...</td>\n",
       "      <td>Carmen</td>\n",
       "      <td>Last night she ran away  \\nLeft a letter by th...</td>\n",
       "      <td>Lush</td>\n",
       "      <td>https://www.lyricsfreak.com/l/lush/carmen_2008...</td>\n",
       "      <td>(anderson/berenyi) carmen tells me what she's ...</td>\n",
       "      <td>(anderson/berenyi) carmen tells me what she's ...</td>\n",
       "      <td>andersonberenyi carmen tell done say fun want ...</td>\n",
       "      <td>andersonberenyi carmen tell done say fun want ...</td>\n",
       "    </tr>\n",
       "    <tr>\n",
       "      <th>5</th>\n",
       "      <td>TRRNTLC128F93366F6</td>\n",
       "      <td>Rock</td>\n",
       "      <td>11</td>\n",
       "      <td>train</td>\n",
       "      <td>ARTNHBW1187B9A5482</td>\n",
       "      <td>http://artwork-cdn.7static.com/static/img/slee...</td>\n",
       "      <td>Sugar Spun Sister</td>\n",
       "      <td>Her hair  \\nSoft drifted snow  \\nDeath white  ...</td>\n",
       "      <td>The Stone Roses</td>\n",
       "      <td>https://www.lyricsfreak.com/s/stone+roses/suga...</td>\n",
       "      <td>her hair soft drifted snow death white i'd lik...</td>\n",
       "      <td>her hair soft drifted snow death white i'd lik...</td>\n",
       "      <td>hair soft drift snow death white would like kn...</td>\n",
       "      <td>hair soft drifted snow death white would like ...</td>\n",
       "    </tr>\n",
       "    <tr>\n",
       "      <th>6</th>\n",
       "      <td>TRHDZSB128F429112F</td>\n",
       "      <td>Metal</td>\n",
       "      <td>13</td>\n",
       "      <td>train</td>\n",
       "      <td>ARZN98V1187B990D1D</td>\n",
       "      <td>http://artwork-cdn.7static.com/static/img/slee...</td>\n",
       "      <td>Emerald crown</td>\n",
       "      <td>NaN</td>\n",
       "      <td>THERION</td>\n",
       "      <td>https://www.lyricsfreak.com/t/therion/emerald+...</td>\n",
       "      <td>during the war that took place in heaven the b...</td>\n",
       "      <td>during the war that took place in heaven the b...</td>\n",
       "      <td>war took place heaven brightest star lost prec...</td>\n",
       "      <td>war took place heaven brightest star lost prec...</td>\n",
       "    </tr>\n",
       "    <tr>\n",
       "      <th>7</th>\n",
       "      <td>TRYDOAY128E0794924</td>\n",
       "      <td>Rock</td>\n",
       "      <td>14</td>\n",
       "      <td>train</td>\n",
       "      <td>ARKL75U1187FB5B8B6</td>\n",
       "      <td>http://artwork-cdn.7static.com/static/img/slee...</td>\n",
       "      <td>Closer To Free (Live)</td>\n",
       "      <td>NaN</td>\n",
       "      <td>BoDeans</td>\n",
       "      <td>https://www.lyricsfreak.com/b/bodeans/closer+t...</td>\n",
       "      <td>yeah everybody wants to live how they wanna li...</td>\n",
       "      <td>yeah everybody wants to live how they wanna li...</td>\n",
       "      <td>yeah everybodi want live want live everybodi w...</td>\n",
       "      <td>yeah everybody want live want live everybody w...</td>\n",
       "    </tr>\n",
       "    <tr>\n",
       "      <th>8</th>\n",
       "      <td>TRAQKWU128F4251685</td>\n",
       "      <td>Rock</td>\n",
       "      <td>16</td>\n",
       "      <td>train</td>\n",
       "      <td>ARYMCJZ1187FB513DA</td>\n",
       "      <td>http://artwork-cdn.7static.com/static/img/slee...</td>\n",
       "      <td>Penelope</td>\n",
       "      <td>Penelope works in the market  \\nDown in the co...</td>\n",
       "      <td>Of Montreal</td>\n",
       "      <td>https://www.lyricsfreak.com/o/of+montreal/pene...</td>\n",
       "      <td>penelope shoot the apple off my head i need to...</td>\n",
       "      <td>penelope shoot the apple off my head i need to...</td>\n",
       "      <td>penelop shoot appl head need go store get slee...</td>\n",
       "      <td>penelope shoot apple head need go store get sl...</td>\n",
       "    </tr>\n",
       "    <tr>\n",
       "      <th>9</th>\n",
       "      <td>TREXUGD128F1460F54</td>\n",
       "      <td>Rock</td>\n",
       "      <td>18</td>\n",
       "      <td>train</td>\n",
       "      <td>AR00RBU1187B9B3F1F</td>\n",
       "      <td>http://artwork-cdn.7static.com/static/img/slee...</td>\n",
       "      <td>Only Meant To Say</td>\n",
       "      <td>NaN</td>\n",
       "      <td>Matthew Jay</td>\n",
       "      <td>https://www.lyricsfreak.com/m/matthew+jay/only...</td>\n",
       "      <td>everything could die tomorrow would you still ...</td>\n",
       "      <td>everything could die tomorrow would you still ...</td>\n",
       "      <td>everyth could die tomorrow would still say sai...</td>\n",
       "      <td>everything could die tomorrow would still say ...</td>\n",
       "    </tr>\n",
       "    <tr>\n",
       "      <th>10</th>\n",
       "      <td>TRAKPET128F92E3F65</td>\n",
       "      <td>Rock</td>\n",
       "      <td>20</td>\n",
       "      <td>train</td>\n",
       "      <td>AR61QQL1187FB3A48E</td>\n",
       "      <td>http://artwork-cdn.7static.com/static/img/slee...</td>\n",
       "      <td>40 Days</td>\n",
       "      <td>Some say it's wrong, some say it's right  \\nSo...</td>\n",
       "      <td>Slowdive</td>\n",
       "      <td>https://www.lyricsfreak.com/s/slowdive/40+days...</td>\n",
       "      <td>fourty days and i miss you i'm so high that i'...</td>\n",
       "      <td>fourty days and i miss you i'm so high that i'...</td>\n",
       "      <td>fourti day miss high lost mind summer think fo...</td>\n",
       "      <td>fourty day miss high lost mind summer thinking...</td>\n",
       "    </tr>\n",
       "    <tr>\n",
       "      <th>11</th>\n",
       "      <td>TRMSKJC128F1488E63</td>\n",
       "      <td>Jazz</td>\n",
       "      <td>26</td>\n",
       "      <td>train</td>\n",
       "      <td>ARM4UBY1187B9979D2</td>\n",
       "      <td>http://artwork-cdn.7static.com/static/img/slee...</td>\n",
       "      <td>Joy Ride</td>\n",
       "      <td>Baby baby don't you ever let go  \\nMore and mo...</td>\n",
       "      <td>Eric Darius</td>\n",
       "      <td>NaN</td>\n",
       "      <td>NaN</td>\n",
       "      <td>Baby baby don't you ever let go  \\nMore and mo...</td>\n",
       "      <td>babi babi ever let go more overflow got feel h...</td>\n",
       "      <td>baby baby ever let go more overflow got feelin...</td>\n",
       "    </tr>\n",
       "    <tr>\n",
       "      <th>12</th>\n",
       "      <td>TRXISWJ128F42ACCF9</td>\n",
       "      <td>Electronic</td>\n",
       "      <td>33</td>\n",
       "      <td>train</td>\n",
       "      <td>ARNF13I1187FB562A5</td>\n",
       "      <td>http://artwork-cdn.7static.com/static/img/slee...</td>\n",
       "      <td>Hymn Of The Big Wheel</td>\n",
       "      <td>NaN</td>\n",
       "      <td>Massive Attack</td>\n",
       "      <td>https://www.lyricsfreak.com/m/massive+attack/h...</td>\n",
       "      <td>horace andy the big wheel keeps on turning on ...</td>\n",
       "      <td>horace andy the big wheel keeps on turning on ...</td>\n",
       "      <td>horac andi big wheel keep turn simpl line day ...</td>\n",
       "      <td>horace andy big wheel keep turning simple line...</td>\n",
       "    </tr>\n",
       "    <tr>\n",
       "      <th>13</th>\n",
       "      <td>TRCGJSX128F930A8F8</td>\n",
       "      <td>Rock</td>\n",
       "      <td>34</td>\n",
       "      <td>train</td>\n",
       "      <td>ARM0BK21187FB36C70</td>\n",
       "      <td>http://artwork-cdn.7static.com/static/img/slee...</td>\n",
       "      <td>Gone inside the zero</td>\n",
       "      <td>NaN</td>\n",
       "      <td>Rollins Band</td>\n",
       "      <td>https://www.lyricsfreak.com/r/rollins+band/gon...</td>\n",
       "      <td>isolation identity my own extinction set me fr...</td>\n",
       "      <td>isolation identity my own extinction set me fr...</td>\n",
       "      <td>isol ident extinct set free know man go nowher...</td>\n",
       "      <td>isolation identity extinction set free know ma...</td>\n",
       "    </tr>\n",
       "    <tr>\n",
       "      <th>14</th>\n",
       "      <td>TRYBHIG128F4231285</td>\n",
       "      <td>Pop</td>\n",
       "      <td>37</td>\n",
       "      <td>train</td>\n",
       "      <td>AR7LHPM1187FB46F5E</td>\n",
       "      <td>http://artwork-cdn.7static.com/static/img/slee...</td>\n",
       "      <td>Lucky Me</td>\n",
       "      <td>Lights on, stage set  \\nI guess I gotta put on...</td>\n",
       "      <td>Sarah Slean</td>\n",
       "      <td>https://www.lyricsfreak.com/s/sarah+slean/luck...</td>\n",
       "      <td>silence wears a new suit to his coffee toast a...</td>\n",
       "      <td>silence wears a new suit to his coffee toast a...</td>\n",
       "      <td>silenc wear new suit coffe toast egg skip stai...</td>\n",
       "      <td>silence wear new suit coffee toast egg skip st...</td>\n",
       "    </tr>\n",
       "    <tr>\n",
       "      <th>15</th>\n",
       "      <td>TRZSSHL128F92EEFAE</td>\n",
       "      <td>Pop</td>\n",
       "      <td>38</td>\n",
       "      <td>train</td>\n",
       "      <td>AR5XJZ01187FB4F910</td>\n",
       "      <td>http://artwork-cdn.7static.com/static/img/slee...</td>\n",
       "      <td>Know My Heart</td>\n",
       "      <td>NaN</td>\n",
       "      <td>Sara Groves</td>\n",
       "      <td>https://www.lyricsfreak.com/s/sara+groves/know...</td>\n",
       "      <td>why do i pray? do i pray to say i prayed an ho...</td>\n",
       "      <td>why do i pray? do i pray to say i prayed an ho...</td>\n",
       "      <td>pray pray say pray hour love want beholden hel...</td>\n",
       "      <td>pray pray say prayed hour love want beholden h...</td>\n",
       "    </tr>\n",
       "    <tr>\n",
       "      <th>16</th>\n",
       "      <td>TRODQAH128E0780CAF</td>\n",
       "      <td>Rock</td>\n",
       "      <td>40</td>\n",
       "      <td>train</td>\n",
       "      <td>ARJ7KF01187B98D717</td>\n",
       "      <td>http://artwork-cdn.7static.com/static/img/slee...</td>\n",
       "      <td>1.36</td>\n",
       "      <td>Stuck in a corner  \\nAre monkeys in cages  \\nT...</td>\n",
       "      <td>Coldplay</td>\n",
       "      <td>https://www.lyricsfreak.com/c/coldplay/136_205...</td>\n",
       "      <td>stuck in a corner are monkeys in cages that do...</td>\n",
       "      <td>stuck in a corner are monkeys in cages that do...</td>\n",
       "      <td>stuck corner monkey cage number fight one anot...</td>\n",
       "      <td>stuck corner monkey cage number fight one anot...</td>\n",
       "    </tr>\n",
       "    <tr>\n",
       "      <th>17</th>\n",
       "      <td>TRFMIDT128F92CAA43</td>\n",
       "      <td>Rock</td>\n",
       "      <td>49</td>\n",
       "      <td>train</td>\n",
       "      <td>ARAW7QF1187B99DF45</td>\n",
       "      <td>http://artwork-cdn.7static.com/static/img/slee...</td>\n",
       "      <td>Shake Your Shimmy</td>\n",
       "      <td>NaN</td>\n",
       "      <td>Living Things</td>\n",
       "      <td>https://www.lyricsfreak.com/l/living+things/sh...</td>\n",
       "      <td>when god made adam he made him proud he wasn't...</td>\n",
       "      <td>when god made adam he made him proud he wasn't...</td>\n",
       "      <td>god made adam made proud happi till made howl ...</td>\n",
       "      <td>god made adam made proud happy till made howl ...</td>\n",
       "    </tr>\n",
       "    <tr>\n",
       "      <th>18</th>\n",
       "      <td>TRSXFKZ128F423EE55</td>\n",
       "      <td>Rock</td>\n",
       "      <td>56</td>\n",
       "      <td>train</td>\n",
       "      <td>ARUPWVD1187FB4DA36</td>\n",
       "      <td>http://artwork-cdn.7static.com/static/img/slee...</td>\n",
       "      <td>Cause A Rockslide</td>\n",
       "      <td>NaN</td>\n",
       "      <td>Badly Drawn Boy</td>\n",
       "      <td>https://www.lyricsfreak.com/b/badly+drawn+boy/...</td>\n",
       "      <td>can i get close to ya if only for a while i do...</td>\n",
       "      <td>can i get close to ya if only for a while i do...</td>\n",
       "      <td>get close ya need busi jive guru want sing alo...</td>\n",
       "      <td>get close ya need busy jive guru want sing alo...</td>\n",
       "    </tr>\n",
       "    <tr>\n",
       "      <th>19</th>\n",
       "      <td>TRHUEAH128F93261CC</td>\n",
       "      <td>Rock</td>\n",
       "      <td>58</td>\n",
       "      <td>train</td>\n",
       "      <td>AR3IHGQ1187FB4C745</td>\n",
       "      <td>http://artwork-cdn.7static.com/static/img/slee...</td>\n",
       "      <td>Money</td>\n",
       "      <td>They say the best things in life are free  \\nB...</td>\n",
       "      <td>Peter Bjorn And John</td>\n",
       "      <td>NaN</td>\n",
       "      <td>NaN</td>\n",
       "      <td>They say the best things in life are free  \\nB...</td>\n",
       "      <td>they say best thing life free but give bird be...</td>\n",
       "      <td>they say best thing life free but give bird be...</td>\n",
       "    </tr>\n",
       "    <tr>\n",
       "      <th>20</th>\n",
       "      <td>TRXVQTZ128F424D666</td>\n",
       "      <td>Pop</td>\n",
       "      <td>60</td>\n",
       "      <td>train</td>\n",
       "      <td>AR3AL881187FB44B52</td>\n",
       "      <td>http://artwork-cdn.7static.com/static/img/slee...</td>\n",
       "      <td>And I Remember Every Kiss</td>\n",
       "      <td>NaN</td>\n",
       "      <td>Jens Lekman</td>\n",
       "      <td>https://www.lyricsfreak.com/j/jens+lekman/and+...</td>\n",
       "      <td>there will be no kisses tonight there will be ...</td>\n",
       "      <td>there will be no kisses tonight there will be ...</td>\n",
       "      <td>kiss tonight hold hand tonight caus know broke...</td>\n",
       "      <td>kiss tonight holding hand tonight cause know b...</td>\n",
       "    </tr>\n",
       "    <tr>\n",
       "      <th>21</th>\n",
       "      <td>TRRJIEF128F42BA606</td>\n",
       "      <td>Electronic</td>\n",
       "      <td>61</td>\n",
       "      <td>train</td>\n",
       "      <td>ARAOQ5T1187FB435AB</td>\n",
       "      <td>http://artwork-cdn.7static.com/static/img/slee...</td>\n",
       "      <td>Hidden Place</td>\n",
       "      <td>NaN</td>\n",
       "      <td>Björk</td>\n",
       "      <td>https://www.lyricsfreak.com/b/bjork/hidden+pla...</td>\n",
       "      <td>through the warmthest cord of care your love w...</td>\n",
       "      <td>through the warmthest cord of care your love w...</td>\n",
       "      <td>warmthest cord care love sent sure put close t...</td>\n",
       "      <td>warmthest cord care love sent sure put close t...</td>\n",
       "    </tr>\n",
       "    <tr>\n",
       "      <th>22</th>\n",
       "      <td>TRPSGHI128E0793B94</td>\n",
       "      <td>Rock</td>\n",
       "      <td>65</td>\n",
       "      <td>train</td>\n",
       "      <td>AR5N8VN1187FB37A4E</td>\n",
       "      <td>http://artwork-cdn.7static.com/static/img/slee...</td>\n",
       "      <td>Switch Opens</td>\n",
       "      <td>Hey you slave, go hang your owners  \\nDraw you...</td>\n",
       "      <td>Soundgarden</td>\n",
       "      <td>https://www.lyricsfreak.com/s/soundgarden/swit...</td>\n",
       "      <td>hey you slaves go hang your owners draw your n...</td>\n",
       "      <td>hey you slaves go hang your owners draw your n...</td>\n",
       "      <td>hey slave go hang owner draw name among ash pu...</td>\n",
       "      <td>hey slave go hang owner draw name among ash pu...</td>\n",
       "    </tr>\n",
       "    <tr>\n",
       "      <th>23</th>\n",
       "      <td>TRWPAMD128E0785D6D</td>\n",
       "      <td>Rock</td>\n",
       "      <td>69</td>\n",
       "      <td>train</td>\n",
       "      <td>ARHUC691187B9AD27F</td>\n",
       "      <td>http://artwork-cdn.7static.com/static/img/slee...</td>\n",
       "      <td>Cygnus...Vismund Cygnus</td>\n",
       "      <td>NaN</td>\n",
       "      <td>The Mars Volta</td>\n",
       "      <td>https://www.lyricsfreak.com/m/mars+volta/cygnu...</td>\n",
       "      <td>the ocean floor is hidden from your viewing le...</td>\n",
       "      <td>the ocean floor is hidden from your viewing le...</td>\n",
       "      <td>ocean floor hidden view len depth percept lang...</td>\n",
       "      <td>ocean floor hidden viewing lens depth percepti...</td>\n",
       "    </tr>\n",
       "    <tr>\n",
       "      <th>24</th>\n",
       "      <td>TRNUSNC128F429D6B2</td>\n",
       "      <td>Rock</td>\n",
       "      <td>70</td>\n",
       "      <td>train</td>\n",
       "      <td>AR0L04E1187B9AE90C</td>\n",
       "      <td>http://artwork-cdn.7static.com/static/img/slee...</td>\n",
       "      <td>Sit And Wonder</td>\n",
       "      <td>I sit and wonder, I often wonder  \\nI sit and ...</td>\n",
       "      <td>The Verve</td>\n",
       "      <td>https://www.lyricsfreak.com/v/verve/sit+and+wo...</td>\n",
       "      <td>i sit and wonder, i often wonder i sit and won...</td>\n",
       "      <td>i sit and wonder, i often wonder i sit and won...</td>\n",
       "      <td>sit wonder often wonder sit wonder thing sit w...</td>\n",
       "      <td>sit wonder often wonder sit wonder thing sit w...</td>\n",
       "    </tr>\n",
       "    <tr>\n",
       "      <th>25</th>\n",
       "      <td>TRXNEIB128F423A415</td>\n",
       "      <td>RnB</td>\n",
       "      <td>77</td>\n",
       "      <td>train</td>\n",
       "      <td>AR4OH581187B9B7157</td>\n",
       "      <td>http://artwork-cdn.7static.com/static/img/slee...</td>\n",
       "      <td>Turn U On</td>\n",
       "      <td>NaN</td>\n",
       "      <td>Jagged Edge</td>\n",
       "      <td>https://www.lyricsfreak.com/j/jagged+edge/turn...</td>\n",
       "      <td>[intro:] rock steady.... move your body, yehh,...</td>\n",
       "      <td>[intro:] rock steady.... move your body, yehh,...</td>\n",
       "      <td>intro rock steadi multistop move bodi yeh yo b...</td>\n",
       "      <td>intro rock steady multistop move body yeh yo b...</td>\n",
       "    </tr>\n",
       "    <tr>\n",
       "      <th>26</th>\n",
       "      <td>TRWVJPL128F42ADD26</td>\n",
       "      <td>Rock</td>\n",
       "      <td>78</td>\n",
       "      <td>train</td>\n",
       "      <td>AR6AQ5Z1187FB4D187</td>\n",
       "      <td>http://artwork-cdn.7static.com/static/img/slee...</td>\n",
       "      <td>This Conversation Is Over</td>\n",
       "      <td>NaN</td>\n",
       "      <td>Acceptance</td>\n",
       "      <td>https://www.lyricsfreak.com/a/acceptance/this+...</td>\n",
       "      <td>i never thought i'd be the one to fool you, if...</td>\n",
       "      <td>i never thought i'd be the one to fool you, if...</td>\n",
       "      <td>never thought would one fool told would steal ...</td>\n",
       "      <td>never thought would one fool told would steal ...</td>\n",
       "    </tr>\n",
       "    <tr>\n",
       "      <th>27</th>\n",
       "      <td>TRLHJIK128F4214583</td>\n",
       "      <td>Latin</td>\n",
       "      <td>79</td>\n",
       "      <td>train</td>\n",
       "      <td>ARYN2M61187B995BD6</td>\n",
       "      <td>http://artwork-cdn.7static.com/static/img/slee...</td>\n",
       "      <td>Soñador</td>\n",
       "      <td>NaN</td>\n",
       "      <td>Juanes</td>\n",
       "      <td>https://www.lyricsfreak.com/j/juanes/sonador_2...</td>\n",
       "      <td>aquйl que cree que tiene el mundo en sus manos...</td>\n",
       "      <td>aquйl que cree que tiene el mundo en sus manos...</td>\n",
       "      <td>aquйl que cree que tien el mundo en su mano qu...</td>\n",
       "      <td>aquйl que cree que tiene el mundo en sus manos...</td>\n",
       "    </tr>\n",
       "    <tr>\n",
       "      <th>28</th>\n",
       "      <td>TRCNTKK12903CD9D20</td>\n",
       "      <td>Electronic</td>\n",
       "      <td>82</td>\n",
       "      <td>train</td>\n",
       "      <td>ARUITN01187FB44935</td>\n",
       "      <td>http://artwork-cdn.7static.com/static/img/slee...</td>\n",
       "      <td>I Like You</td>\n",
       "      <td>Something in you caused me to,  \\nTake a new t...</td>\n",
       "      <td>Alphawezen</td>\n",
       "      <td>NaN</td>\n",
       "      <td>NaN</td>\n",
       "      <td>Something in you caused me to,  \\nTake a new t...</td>\n",
       "      <td>someth caus take new tact you go someth i scra...</td>\n",
       "      <td>something caused take new tact you going somet...</td>\n",
       "    </tr>\n",
       "    <tr>\n",
       "      <th>29</th>\n",
       "      <td>TREQVVI128F427C38E</td>\n",
       "      <td>Country</td>\n",
       "      <td>85</td>\n",
       "      <td>train</td>\n",
       "      <td>ARBZX3K1187FB3F5FC</td>\n",
       "      <td>http://artwork-cdn.7static.com/static/img/slee...</td>\n",
       "      <td>Girlfriends</td>\n",
       "      <td>NaN</td>\n",
       "      <td>Jamie O'Neal</td>\n",
       "      <td>https://www.lyricsfreak.com/j/jamie+oneal/girl...</td>\n",
       "      <td>i've been starin' all day at the same computer...</td>\n",
       "      <td>i've been starin' all day at the same computer...</td>\n",
       "      <td>starin day comput screen round treat like damn...</td>\n",
       "      <td>starin day computer screen round treated like ...</td>\n",
       "    </tr>\n",
       "    <tr>\n",
       "      <th>...</th>\n",
       "      <td>...</td>\n",
       "      <td>...</td>\n",
       "      <td>...</td>\n",
       "      <td>...</td>\n",
       "      <td>...</td>\n",
       "      <td>...</td>\n",
       "      <td>...</td>\n",
       "      <td>...</td>\n",
       "      <td>...</td>\n",
       "      <td>...</td>\n",
       "      <td>...</td>\n",
       "      <td>...</td>\n",
       "      <td>...</td>\n",
       "      <td>...</td>\n",
       "    </tr>\n",
       "    <tr>\n",
       "      <th>10352</th>\n",
       "      <td>TRQTNPX128F1499C52</td>\n",
       "      <td>Jazz</td>\n",
       "      <td>1548</td>\n",
       "      <td>test</td>\n",
       "      <td>ARL25QK1187B9B174C</td>\n",
       "      <td>http://artwork-cdn.7static.com/static/img/slee...</td>\n",
       "      <td>Dreamsicle</td>\n",
       "      <td>Let me tell you now he sips, he quips  \\nDream...</td>\n",
       "      <td>Marc Antoine</td>\n",
       "      <td>NaN</td>\n",
       "      <td>NaN</td>\n",
       "      <td>Let me tell you now he sips, he quips  \\nDream...</td>\n",
       "      <td>let tell sip quip dream lot sail ship want thr...</td>\n",
       "      <td>let tell sip quip dream lot sailing ship want ...</td>\n",
       "    </tr>\n",
       "    <tr>\n",
       "      <th>10353</th>\n",
       "      <td>TRUXYDP128F93234BD</td>\n",
       "      <td>Country</td>\n",
       "      <td>1198</td>\n",
       "      <td>test</td>\n",
       "      <td>ARS54I31187FB46721</td>\n",
       "      <td>http://artwork-cdn.7static.com/static/img/slee...</td>\n",
       "      <td>Crazier</td>\n",
       "      <td>I've never gone with the wind, just let it flo...</td>\n",
       "      <td>Taylor Swift</td>\n",
       "      <td>NaN</td>\n",
       "      <td>NaN</td>\n",
       "      <td>I've never gone with the wind, just let it flo...</td>\n",
       "      <td>i never gone wind let flow let take i want go ...</td>\n",
       "      <td>i never gone wind let flow let take i want go ...</td>\n",
       "    </tr>\n",
       "    <tr>\n",
       "      <th>10354</th>\n",
       "      <td>TRWCQRO128F1485EDF</td>\n",
       "      <td>RnB</td>\n",
       "      <td>19611</td>\n",
       "      <td>test</td>\n",
       "      <td>ART4QZC1187FB51612</td>\n",
       "      <td>http://artwork-cdn.7static.com/static/img/slee...</td>\n",
       "      <td>Take Care</td>\n",
       "      <td>I, I've waited all my life  \\nTo step out from...</td>\n",
       "      <td>Janet Jackson</td>\n",
       "      <td>NaN</td>\n",
       "      <td>NaN</td>\n",
       "      <td>I, I've waited all my life  \\nTo step out from...</td>\n",
       "      <td>i i wait life to step light and see shadow fad...</td>\n",
       "      <td>i i waited life to step light and see shadow f...</td>\n",
       "    </tr>\n",
       "    <tr>\n",
       "      <th>10355</th>\n",
       "      <td>TRZVHYV128F424134C</td>\n",
       "      <td>RnB</td>\n",
       "      <td>17520</td>\n",
       "      <td>test</td>\n",
       "      <td>ARJT8L11187FB56358</td>\n",
       "      <td>http://artwork-cdn.7static.com/static/img/slee...</td>\n",
       "      <td>Now Or Never</td>\n",
       "      <td>I watch the morning dawn upon your skin  \\nA s...</td>\n",
       "      <td>Meli'sa Morgan</td>\n",
       "      <td>NaN</td>\n",
       "      <td>NaN</td>\n",
       "      <td>I watch the morning dawn upon your skin  \\nA s...</td>\n",
       "      <td>i watch morn dawn upon skin a splinter light i...</td>\n",
       "      <td>i watch morning dawn upon skin a splinter ligh...</td>\n",
       "    </tr>\n",
       "    <tr>\n",
       "      <th>10356</th>\n",
       "      <td>TRWVDKD128F933FE8D</td>\n",
       "      <td>Jazz</td>\n",
       "      <td>22049</td>\n",
       "      <td>test</td>\n",
       "      <td>ARPONRM1187B99B272</td>\n",
       "      <td>http://artwork-cdn.7static.com/static/img/slee...</td>\n",
       "      <td>Fireflies</td>\n",
       "      <td>I been walking  \\nWherefore am I walking  \\nI ...</td>\n",
       "      <td>Gato Barbieri</td>\n",
       "      <td>NaN</td>\n",
       "      <td>NaN</td>\n",
       "      <td>I been walking  \\nWherefore am I walking  \\nI ...</td>\n",
       "      <td>i walk wherefor i walk i walk if see walk awal...</td>\n",
       "      <td>i walking wherefore i walking i walking if see...</td>\n",
       "    </tr>\n",
       "    <tr>\n",
       "      <th>10357</th>\n",
       "      <td>TRXVTMA128F148EF42</td>\n",
       "      <td>Rap</td>\n",
       "      <td>1550</td>\n",
       "      <td>test</td>\n",
       "      <td>AR6EUBG1187B995435</td>\n",
       "      <td>http://artwork-cdn.7static.com/static/img/slee...</td>\n",
       "      <td>Walk On By</td>\n",
       "      <td>Ooh, ooh  \\nIf you see me walking down the str...</td>\n",
       "      <td>Pete Rock</td>\n",
       "      <td>NaN</td>\n",
       "      <td>NaN</td>\n",
       "      <td>Ooh, ooh  \\nIf you see me walking down the str...</td>\n",
       "      <td>ooh ooh if see walk street and i start cri tim...</td>\n",
       "      <td>ooh ooh if see walking street and i start cry ...</td>\n",
       "    </tr>\n",
       "    <tr>\n",
       "      <th>10358</th>\n",
       "      <td>TRATLUH128F425A4F4</td>\n",
       "      <td>Pop</td>\n",
       "      <td>22080</td>\n",
       "      <td>test</td>\n",
       "      <td>ARLG96V1187FB3CFB6</td>\n",
       "      <td>http://artwork-cdn.7static.com/static/img/slee...</td>\n",
       "      <td>So Be It</td>\n",
       "      <td>Your will not mine  \\nYour will not mine  \\n  ...</td>\n",
       "      <td>Morten Abel</td>\n",
       "      <td>NaN</td>\n",
       "      <td>NaN</td>\n",
       "      <td>Your will not mine  \\nYour will not mine  \\n  ...</td>\n",
       "      <td>your mine your mine be it done done time i tip...</td>\n",
       "      <td>your mine your mine be it done done time i tip...</td>\n",
       "    </tr>\n",
       "    <tr>\n",
       "      <th>10359</th>\n",
       "      <td>TRLPTGH128F429BB03</td>\n",
       "      <td>Electronic</td>\n",
       "      <td>22081</td>\n",
       "      <td>test</td>\n",
       "      <td>ARDDMYP1187B9B8AE4</td>\n",
       "      <td>http://artwork-cdn.7static.com/static/img/slee...</td>\n",
       "      <td>Jimmy</td>\n",
       "      <td>Jimmy, my heart is full of love, only true lov...</td>\n",
       "      <td>M.I.A.</td>\n",
       "      <td>NaN</td>\n",
       "      <td>NaN</td>\n",
       "      <td>Jimmy, my heart is full of love, only true lov...</td>\n",
       "      <td>jimmi heart full love true love and wisdom vis...</td>\n",
       "      <td>jimmy heart full love true love and wisdom vis...</td>\n",
       "    </tr>\n",
       "    <tr>\n",
       "      <th>10360</th>\n",
       "      <td>TRNXWGD128F4269340</td>\n",
       "      <td>Metal</td>\n",
       "      <td>1543</td>\n",
       "      <td>test</td>\n",
       "      <td>ARRPSJH1187B9A44F5</td>\n",
       "      <td>http://artwork-cdn.7static.com/static/img/slee...</td>\n",
       "      <td>One Of Us</td>\n",
       "      <td>They passed me by, all of those great romances...</td>\n",
       "      <td>Flowing Tears</td>\n",
       "      <td>NaN</td>\n",
       "      <td>NaN</td>\n",
       "      <td>They passed me by, all of those great romances...</td>\n",
       "      <td>they pass great romanc you i felt rob right ch...</td>\n",
       "      <td>they passed great romance you i felt robbing r...</td>\n",
       "    </tr>\n",
       "    <tr>\n",
       "      <th>10361</th>\n",
       "      <td>TREQGLG128F4290E3D</td>\n",
       "      <td>Country</td>\n",
       "      <td>22099</td>\n",
       "      <td>test</td>\n",
       "      <td>ARZVTZN1187FB579D4</td>\n",
       "      <td>http://artwork-cdn.7static.com/static/img/slee...</td>\n",
       "      <td>Mexicali Rose</td>\n",
       "      <td>Mexicali Rose stop crying  \\nI'll come back to...</td>\n",
       "      <td>Jim Reeves</td>\n",
       "      <td>NaN</td>\n",
       "      <td>NaN</td>\n",
       "      <td>Mexicali Rose stop crying  \\nI'll come back to...</td>\n",
       "      <td>mexicali rose stop cri i come back sunni day e...</td>\n",
       "      <td>mexicali rose stop cry i come back sunny day e...</td>\n",
       "    </tr>\n",
       "    <tr>\n",
       "      <th>10362</th>\n",
       "      <td>TRLNRTN128F42874AC</td>\n",
       "      <td>Jazz</td>\n",
       "      <td>15796</td>\n",
       "      <td>test</td>\n",
       "      <td>ARA22DW1187B9897D9</td>\n",
       "      <td>http://artwork-cdn.7static.com/static/img/slee...</td>\n",
       "      <td>Peace</td>\n",
       "      <td>More and more I can't say no  \\nSo afraid of l...</td>\n",
       "      <td>Vital Information</td>\n",
       "      <td>NaN</td>\n",
       "      <td>NaN</td>\n",
       "      <td>More and more I can't say no  \\nSo afraid of l...</td>\n",
       "      <td>more i say so afraid let go if someth i grab y...</td>\n",
       "      <td>more i say so afraid letting go if something i...</td>\n",
       "    </tr>\n",
       "    <tr>\n",
       "      <th>10363</th>\n",
       "      <td>TRRGLVR128F145FE0A</td>\n",
       "      <td>Pop</td>\n",
       "      <td>8423</td>\n",
       "      <td>test</td>\n",
       "      <td>ARJ4UX411A348EFE0A</td>\n",
       "      <td>http://artwork-cdn.7static.com/static/img/slee...</td>\n",
       "      <td>Secret Love</td>\n",
       "      <td>Swizz Beats, ladies and gentlemen  \\n(Come on,...</td>\n",
       "      <td>S Club</td>\n",
       "      <td>NaN</td>\n",
       "      <td>NaN</td>\n",
       "      <td>Swizz Beats, ladies and gentlemen  \\n(Come on,...</td>\n",
       "      <td>swiz beat ladi gentleman come come come ladi g...</td>\n",
       "      <td>swiz beat lady gentleman come come come lady g...</td>\n",
       "    </tr>\n",
       "    <tr>\n",
       "      <th>10364</th>\n",
       "      <td>TRWPLTU128F1462D5F</td>\n",
       "      <td>Rap</td>\n",
       "      <td>22190</td>\n",
       "      <td>test</td>\n",
       "      <td>ARBHKG91187B988B9F</td>\n",
       "      <td>http://artwork-cdn.7static.com/static/img/slee...</td>\n",
       "      <td>Light It Up</td>\n",
       "      <td>Like a stone you watch it fall  \\nAnd let it r...</td>\n",
       "      <td>Choclair</td>\n",
       "      <td>NaN</td>\n",
       "      <td>NaN</td>\n",
       "      <td>Like a stone you watch it fall  \\nAnd let it r...</td>\n",
       "      <td>like stone watch fall and let roll field you t...</td>\n",
       "      <td>like stone watch fall and let roll field you t...</td>\n",
       "    </tr>\n",
       "    <tr>\n",
       "      <th>10365</th>\n",
       "      <td>TRWKZXP128E07982A2</td>\n",
       "      <td>Rap</td>\n",
       "      <td>2431</td>\n",
       "      <td>test</td>\n",
       "      <td>ARJXVSV1187B9A252F</td>\n",
       "      <td>http://artwork-cdn.7static.com/static/img/slee...</td>\n",
       "      <td>Sister</td>\n",
       "      <td>Sister I'm heading out of alabama  \\nSo you be...</td>\n",
       "      <td>Goldie Lookin Chain</td>\n",
       "      <td>NaN</td>\n",
       "      <td>NaN</td>\n",
       "      <td>Sister I'm heading out of alabama  \\nSo you be...</td>\n",
       "      <td>sister im head alabama so better think fast th...</td>\n",
       "      <td>sister im heading alabama so better think fast...</td>\n",
       "    </tr>\n",
       "    <tr>\n",
       "      <th>10366</th>\n",
       "      <td>TRVBSAC128F42B6438</td>\n",
       "      <td>RnB</td>\n",
       "      <td>22206</td>\n",
       "      <td>test</td>\n",
       "      <td>ARRZUPG11F43A69EF7</td>\n",
       "      <td>http://artwork-cdn.7static.com/static/img/slee...</td>\n",
       "      <td>Bridge Over Troubled Water</td>\n",
       "      <td>When you're weary and feeling small  \\nWhen te...</td>\n",
       "      <td>Jackson 5</td>\n",
       "      <td>NaN</td>\n",
       "      <td>NaN</td>\n",
       "      <td>When you're weary and feeling small  \\nWhen te...</td>\n",
       "      <td>when weari feel small when tear eye i dri im s...</td>\n",
       "      <td>when weary feeling small when tear eye i dry i...</td>\n",
       "    </tr>\n",
       "    <tr>\n",
       "      <th>10367</th>\n",
       "      <td>TRVUFTN128F4288211</td>\n",
       "      <td>Reggae</td>\n",
       "      <td>16865</td>\n",
       "      <td>test</td>\n",
       "      <td>ARLUAK21187B9B785A</td>\n",
       "      <td>http://artwork-cdn.7static.com/static/img/slee...</td>\n",
       "      <td>I Get Out</td>\n",
       "      <td>You want me to play the game you tried again a...</td>\n",
       "      <td>Ziggy Marley</td>\n",
       "      <td>NaN</td>\n",
       "      <td>NaN</td>\n",
       "      <td>You want me to play the game you tried again a...</td>\n",
       "      <td>you want play game tri to sell fame fit format...</td>\n",
       "      <td>you want play game tried to sell fame fit form...</td>\n",
       "    </tr>\n",
       "    <tr>\n",
       "      <th>10368</th>\n",
       "      <td>TRDSAZR128E0785F1F</td>\n",
       "      <td>Rap</td>\n",
       "      <td>16221</td>\n",
       "      <td>test</td>\n",
       "      <td>ARNHMFD1187FB3B3F6</td>\n",
       "      <td>http://artwork-cdn.7static.com/static/img/slee...</td>\n",
       "      <td>Every Sip</td>\n",
       "      <td>(Sip somethin')  \\nUh, sip somethin'  \\n(Sip s...</td>\n",
       "      <td>LL Cool J</td>\n",
       "      <td>NaN</td>\n",
       "      <td>NaN</td>\n",
       "      <td>(Sip somethin')  \\nUh, sip somethin'  \\n(Sip s...</td>\n",
       "      <td>sip somethin uh sip somethin sip somethin i wo...</td>\n",
       "      <td>sip somethin uh sip somethin sip somethin i wo...</td>\n",
       "    </tr>\n",
       "    <tr>\n",
       "      <th>10369</th>\n",
       "      <td>TRZAKYK128F149F193</td>\n",
       "      <td>Country</td>\n",
       "      <td>3640</td>\n",
       "      <td>test</td>\n",
       "      <td>ARTZ90C1187FB55D81</td>\n",
       "      <td>http://artwork-cdn.7static.com/static/img/slee...</td>\n",
       "      <td>Just A Dream</td>\n",
       "      <td>It ain't a thang in this world that's gonna kn...</td>\n",
       "      <td>Jimmy Wayne</td>\n",
       "      <td>NaN</td>\n",
       "      <td>NaN</td>\n",
       "      <td>It ain't a thang in this world that's gonna kn...</td>\n",
       "      <td>it thang world gon na knock foot a i unleash t...</td>\n",
       "      <td>it thang world gon na knock foot a i unleash t...</td>\n",
       "    </tr>\n",
       "    <tr>\n",
       "      <th>10370</th>\n",
       "      <td>TRNOXAC128F146561F</td>\n",
       "      <td>Pop</td>\n",
       "      <td>11789</td>\n",
       "      <td>test</td>\n",
       "      <td>AR8OMD41187B9B6907</td>\n",
       "      <td>http://artwork-cdn.7static.com/static/img/slee...</td>\n",
       "      <td>Every Part Of Me</td>\n",
       "      <td>Ooooh-ooh...  \\n  \\nI feel like I'm a million ...</td>\n",
       "      <td>Victoria Beckham</td>\n",
       "      <td>NaN</td>\n",
       "      <td>NaN</td>\n",
       "      <td>Ooooh-ooh...  \\n  \\nI feel like I'm a million ...</td>\n",
       "      <td>ohoh multistop i feel like im million mile awa...</td>\n",
       "      <td>ohoh multistop i feel like im million mile awa...</td>\n",
       "    </tr>\n",
       "    <tr>\n",
       "      <th>10371</th>\n",
       "      <td>TRFEJES12903CBD2A6</td>\n",
       "      <td>Reggae</td>\n",
       "      <td>8809</td>\n",
       "      <td>test</td>\n",
       "      <td>ARHMSDE1187B9B9879</td>\n",
       "      <td>http://artwork-cdn.7static.com/static/img/slee...</td>\n",
       "      <td>Children</td>\n",
       "      <td>[Verse]  \\nWhat about the children?  \\nLook at...</td>\n",
       "      <td>Martin Jondo</td>\n",
       "      <td>NaN</td>\n",
       "      <td>NaN</td>\n",
       "      <td>[Verse]  \\nWhat about the children?  \\nLook at...</td>\n",
       "      <td>vers what child look child chang what vision b...</td>\n",
       "      <td>verse what child look child change what vision...</td>\n",
       "    </tr>\n",
       "    <tr>\n",
       "      <th>10372</th>\n",
       "      <td>TRYYCJD128E0791860</td>\n",
       "      <td>Rap</td>\n",
       "      <td>2973</td>\n",
       "      <td>test</td>\n",
       "      <td>ARGCGYQ12454A4D681</td>\n",
       "      <td>http://artwork-cdn.7static.com/static/img/slee...</td>\n",
       "      <td>Name Of The Game</td>\n",
       "      <td>No one believes me  \\nSomeone conceived me  \\n...</td>\n",
       "      <td>Talib Kweli / Hi-Tek</td>\n",
       "      <td>NaN</td>\n",
       "      <td>NaN</td>\n",
       "      <td>No one believes me  \\nSomeone conceived me  \\n...</td>\n",
       "      <td>no one belief someon conceiv a fluke night obs...</td>\n",
       "      <td>no one belief someone conceived a fluke night ...</td>\n",
       "    </tr>\n",
       "    <tr>\n",
       "      <th>10373</th>\n",
       "      <td>TRSSUEJ128F4295E1A</td>\n",
       "      <td>Pop</td>\n",
       "      <td>252</td>\n",
       "      <td>test</td>\n",
       "      <td>ARJGIOD1187B9AE920</td>\n",
       "      <td>http://artwork-cdn.7static.com/static/img/slee...</td>\n",
       "      <td>Just Missed The Train</td>\n",
       "      <td>Roll over baby, the time has come  \\nto make a...</td>\n",
       "      <td>Kelly Clarkson</td>\n",
       "      <td>NaN</td>\n",
       "      <td>NaN</td>\n",
       "      <td>Roll over baby, the time has come  \\nto make a...</td>\n",
       "      <td>roll babi time come make littl bit room i hung...</td>\n",
       "      <td>roll baby time come make little bit room i hun...</td>\n",
       "    </tr>\n",
       "    <tr>\n",
       "      <th>10374</th>\n",
       "      <td>TRLPAUR128F931E96A</td>\n",
       "      <td>Electronic</td>\n",
       "      <td>22303</td>\n",
       "      <td>test</td>\n",
       "      <td>ARYHNV61187B9B781D</td>\n",
       "      <td>http://artwork-cdn.7static.com/static/img/slee...</td>\n",
       "      <td>Rumours</td>\n",
       "      <td>)  \\nI heard some things about you  \\nI can't ...</td>\n",
       "      <td>As One</td>\n",
       "      <td>NaN</td>\n",
       "      <td>NaN</td>\n",
       "      <td>)  \\nI heard some things about you  \\nI can't ...</td>\n",
       "      <td>i heard thing i believ true i heard flame burn...</td>\n",
       "      <td>i heard thing i believe true i heard flame bur...</td>\n",
       "    </tr>\n",
       "    <tr>\n",
       "      <th>10375</th>\n",
       "      <td>TRNUIXZ128F92F7356</td>\n",
       "      <td>RnB</td>\n",
       "      <td>5318</td>\n",
       "      <td>test</td>\n",
       "      <td>ARN03F71187FB4E3F4</td>\n",
       "      <td>http://artwork-cdn.7static.com/static/img/slee...</td>\n",
       "      <td>Thank You</td>\n",
       "      <td>Now I'm levitating  \\nCause I feel like I've b...</td>\n",
       "      <td>Ayo</td>\n",
       "      <td>NaN</td>\n",
       "      <td>NaN</td>\n",
       "      <td>Now I'm levitating  \\nCause I feel like I've b...</td>\n",
       "      <td>now im levit caus i feel like i wait for lifet...</td>\n",
       "      <td>now im levitating cause i feel like i waiting ...</td>\n",
       "    </tr>\n",
       "    <tr>\n",
       "      <th>10376</th>\n",
       "      <td>TRXKFVL128F92F64B8</td>\n",
       "      <td>Pop</td>\n",
       "      <td>22309</td>\n",
       "      <td>test</td>\n",
       "      <td>AR2TDYB1187FB3A658</td>\n",
       "      <td>http://artwork-cdn.7static.com/static/img/slee...</td>\n",
       "      <td>Addicted</td>\n",
       "      <td>It's like you're a drug  \\nIt's like you're a ...</td>\n",
       "      <td>Marit Larsen</td>\n",
       "      <td>NaN</td>\n",
       "      <td>NaN</td>\n",
       "      <td>It's like you're a drug  \\nIt's like you're a ...</td>\n",
       "      <td>it like drug it like demon i face it like im s...</td>\n",
       "      <td>it like drug it like demon i face it like im s...</td>\n",
       "    </tr>\n",
       "    <tr>\n",
       "      <th>10377</th>\n",
       "      <td>TRMKTHY128F428A655</td>\n",
       "      <td>Jazz</td>\n",
       "      <td>4811</td>\n",
       "      <td>test</td>\n",
       "      <td>ARFYXIH1187FB4063B</td>\n",
       "      <td>http://artwork-cdn.7static.com/static/img/slee...</td>\n",
       "      <td>Purple Rain</td>\n",
       "      <td>I never meant to cause you any trouble  \\nI ne...</td>\n",
       "      <td>Niacin</td>\n",
       "      <td>NaN</td>\n",
       "      <td>NaN</td>\n",
       "      <td>I never meant to cause you any trouble  \\nI ne...</td>\n",
       "      <td>i never meant caus troubl i never meant caus p...</td>\n",
       "      <td>i never meant cause trouble i never meant caus...</td>\n",
       "    </tr>\n",
       "    <tr>\n",
       "      <th>10378</th>\n",
       "      <td>TRDGJQT128F42632E3</td>\n",
       "      <td>Electronic</td>\n",
       "      <td>22337</td>\n",
       "      <td>test</td>\n",
       "      <td>ARJH2B61187B9B9465</td>\n",
       "      <td>http://artwork-cdn.7static.com/static/img/slee...</td>\n",
       "      <td>Endless</td>\n",
       "      <td>You better wrap yourself around me  \\nIt's a m...</td>\n",
       "      <td>Funk D'Void</td>\n",
       "      <td>NaN</td>\n",
       "      <td>NaN</td>\n",
       "      <td>You better wrap yourself around me  \\nIt's a m...</td>\n",
       "      <td>you better wrap around it miracl found i fool ...</td>\n",
       "      <td>you better wrap around it miracle found i fool...</td>\n",
       "    </tr>\n",
       "    <tr>\n",
       "      <th>10379</th>\n",
       "      <td>TRXLNUW128F428AE60</td>\n",
       "      <td>Reggae</td>\n",
       "      <td>16865</td>\n",
       "      <td>test</td>\n",
       "      <td>ARLUAK21187B9B785A</td>\n",
       "      <td>http://artwork-cdn.7static.com/static/img/slee...</td>\n",
       "      <td>Rainbow In The Sky</td>\n",
       "      <td>There's a rainbow in the sky all the time don'...</td>\n",
       "      <td>Ziggy Marley</td>\n",
       "      <td>NaN</td>\n",
       "      <td>NaN</td>\n",
       "      <td>There's a rainbow in the sky all the time don'...</td>\n",
       "      <td>there rainbow sky time blind there rainbow sky...</td>\n",
       "      <td>there rainbow sky time blind there rainbow sky...</td>\n",
       "    </tr>\n",
       "    <tr>\n",
       "      <th>10380</th>\n",
       "      <td>TRGIOYF128F429F7D7</td>\n",
       "      <td>RnB</td>\n",
       "      <td>2354</td>\n",
       "      <td>test</td>\n",
       "      <td>ARI7RGN1187FB40849</td>\n",
       "      <td>http://artwork-cdn.7static.com/static/img/slee...</td>\n",
       "      <td>The Truth</td>\n",
       "      <td>They called you a failure  \\nThey called you a...</td>\n",
       "      <td>India.Arie</td>\n",
       "      <td>NaN</td>\n",
       "      <td>NaN</td>\n",
       "      <td>They called you a failure  \\nThey called you a...</td>\n",
       "      <td>they call failur they call lost caus they said...</td>\n",
       "      <td>they called failure they called lost cause the...</td>\n",
       "    </tr>\n",
       "    <tr>\n",
       "      <th>10381</th>\n",
       "      <td>TRSBAKM128F931C033</td>\n",
       "      <td>Rap</td>\n",
       "      <td>16326</td>\n",
       "      <td>test</td>\n",
       "      <td>ARY47DB1187B9A801C</td>\n",
       "      <td>http://artwork-cdn.7static.com/static/img/slee...</td>\n",
       "      <td>Too Cold</td>\n",
       "      <td>All right stop, collaborate and listen  \\nIce ...</td>\n",
       "      <td>Roots Manuva</td>\n",
       "      <td>NaN</td>\n",
       "      <td>NaN</td>\n",
       "      <td>All right stop, collaborate and listen  \\nIce ...</td>\n",
       "      <td>all right stop collabor listen ice back i got ...</td>\n",
       "      <td>all right stop collaborate listen ice back i g...</td>\n",
       "    </tr>\n",
       "  </tbody>\n",
       "</table>\n",
       "<p>10382 rows × 14 columns</p>\n",
       "</div>"
      ],
      "text/plain": [
       "             msd_track_id       genre  album_index    set       msd_artist_id  \\\n",
       "0      TRABKJU128F422A7FE       Metal            0  train  ARBD4QW1187FB42153   \n",
       "1      TRDMMDE128F14A9052        Rock            2  train  ARJVTRE1187B9959C0   \n",
       "2      TRJOPZB128F4250E02        Rock            4  train  AR62BB21187B9AC83D   \n",
       "3      TRJKBVL128F935567B        Rock            5  train  AR7GVOV1187B9B5FF1   \n",
       "4      TRUSOQD128F92CFEA5        Rock            7  train  ARZHQDD1187FB5B871   \n",
       "5      TRRNTLC128F93366F6        Rock           11  train  ARTNHBW1187B9A5482   \n",
       "6      TRHDZSB128F429112F       Metal           13  train  ARZN98V1187B990D1D   \n",
       "7      TRYDOAY128E0794924        Rock           14  train  ARKL75U1187FB5B8B6   \n",
       "8      TRAQKWU128F4251685        Rock           16  train  ARYMCJZ1187FB513DA   \n",
       "9      TREXUGD128F1460F54        Rock           18  train  AR00RBU1187B9B3F1F   \n",
       "10     TRAKPET128F92E3F65        Rock           20  train  AR61QQL1187FB3A48E   \n",
       "11     TRMSKJC128F1488E63        Jazz           26  train  ARM4UBY1187B9979D2   \n",
       "12     TRXISWJ128F42ACCF9  Electronic           33  train  ARNF13I1187FB562A5   \n",
       "13     TRCGJSX128F930A8F8        Rock           34  train  ARM0BK21187FB36C70   \n",
       "14     TRYBHIG128F4231285         Pop           37  train  AR7LHPM1187FB46F5E   \n",
       "15     TRZSSHL128F92EEFAE         Pop           38  train  AR5XJZ01187FB4F910   \n",
       "16     TRODQAH128E0780CAF        Rock           40  train  ARJ7KF01187B98D717   \n",
       "17     TRFMIDT128F92CAA43        Rock           49  train  ARAW7QF1187B99DF45   \n",
       "18     TRSXFKZ128F423EE55        Rock           56  train  ARUPWVD1187FB4DA36   \n",
       "19     TRHUEAH128F93261CC        Rock           58  train  AR3IHGQ1187FB4C745   \n",
       "20     TRXVQTZ128F424D666         Pop           60  train  AR3AL881187FB44B52   \n",
       "21     TRRJIEF128F42BA606  Electronic           61  train  ARAOQ5T1187FB435AB   \n",
       "22     TRPSGHI128E0793B94        Rock           65  train  AR5N8VN1187FB37A4E   \n",
       "23     TRWPAMD128E0785D6D        Rock           69  train  ARHUC691187B9AD27F   \n",
       "24     TRNUSNC128F429D6B2        Rock           70  train  AR0L04E1187B9AE90C   \n",
       "25     TRXNEIB128F423A415         RnB           77  train  AR4OH581187B9B7157   \n",
       "26     TRWVJPL128F42ADD26        Rock           78  train  AR6AQ5Z1187FB4D187   \n",
       "27     TRLHJIK128F4214583       Latin           79  train  ARYN2M61187B995BD6   \n",
       "28     TRCNTKK12903CD9D20  Electronic           82  train  ARUITN01187FB44935   \n",
       "29     TREQVVI128F427C38E     Country           85  train  ARBZX3K1187FB3F5FC   \n",
       "...                   ...         ...          ...    ...                 ...   \n",
       "10352  TRQTNPX128F1499C52        Jazz         1548   test  ARL25QK1187B9B174C   \n",
       "10353  TRUXYDP128F93234BD     Country         1198   test  ARS54I31187FB46721   \n",
       "10354  TRWCQRO128F1485EDF         RnB        19611   test  ART4QZC1187FB51612   \n",
       "10355  TRZVHYV128F424134C         RnB        17520   test  ARJT8L11187FB56358   \n",
       "10356  TRWVDKD128F933FE8D        Jazz        22049   test  ARPONRM1187B99B272   \n",
       "10357  TRXVTMA128F148EF42         Rap         1550   test  AR6EUBG1187B995435   \n",
       "10358  TRATLUH128F425A4F4         Pop        22080   test  ARLG96V1187FB3CFB6   \n",
       "10359  TRLPTGH128F429BB03  Electronic        22081   test  ARDDMYP1187B9B8AE4   \n",
       "10360  TRNXWGD128F4269340       Metal         1543   test  ARRPSJH1187B9A44F5   \n",
       "10361  TREQGLG128F4290E3D     Country        22099   test  ARZVTZN1187FB579D4   \n",
       "10362  TRLNRTN128F42874AC        Jazz        15796   test  ARA22DW1187B9897D9   \n",
       "10363  TRRGLVR128F145FE0A         Pop         8423   test  ARJ4UX411A348EFE0A   \n",
       "10364  TRWPLTU128F1462D5F         Rap        22190   test  ARBHKG91187B988B9F   \n",
       "10365  TRWKZXP128E07982A2         Rap         2431   test  ARJXVSV1187B9A252F   \n",
       "10366  TRVBSAC128F42B6438         RnB        22206   test  ARRZUPG11F43A69EF7   \n",
       "10367  TRVUFTN128F4288211      Reggae        16865   test  ARLUAK21187B9B785A   \n",
       "10368  TRDSAZR128E0785F1F         Rap        16221   test  ARNHMFD1187FB3B3F6   \n",
       "10369  TRZAKYK128F149F193     Country         3640   test  ARTZ90C1187FB55D81   \n",
       "10370  TRNOXAC128F146561F         Pop        11789   test  AR8OMD41187B9B6907   \n",
       "10371  TRFEJES12903CBD2A6      Reggae         8809   test  ARHMSDE1187B9B9879   \n",
       "10372  TRYYCJD128E0791860         Rap         2973   test  ARGCGYQ12454A4D681   \n",
       "10373  TRSSUEJ128F4295E1A         Pop          252   test  ARJGIOD1187B9AE920   \n",
       "10374  TRLPAUR128F931E96A  Electronic        22303   test  ARYHNV61187B9B781D   \n",
       "10375  TRNUIXZ128F92F7356         RnB         5318   test  ARN03F71187FB4E3F4   \n",
       "10376  TRXKFVL128F92F64B8         Pop        22309   test  AR2TDYB1187FB3A658   \n",
       "10377  TRMKTHY128F428A655        Jazz         4811   test  ARFYXIH1187FB4063B   \n",
       "10378  TRDGJQT128F42632E3  Electronic        22337   test  ARJH2B61187B9B9465   \n",
       "10379  TRXLNUW128F428AE60      Reggae        16865   test  ARLUAK21187B9B785A   \n",
       "10380  TRGIOYF128F429F7D7         RnB         2354   test  ARI7RGN1187FB40849   \n",
       "10381  TRSBAKM128F931C033         Rap        16326   test  ARY47DB1187B9A801C   \n",
       "\n",
       "                                               image_url  \\\n",
       "0      http://artwork-cdn.7static.com/static/img/slee...   \n",
       "1      http://artwork-cdn.7static.com/static/img/slee...   \n",
       "2      http://artwork-cdn.7static.com/static/img/slee...   \n",
       "3      http://artwork-cdn.7static.com/static/img/slee...   \n",
       "4      http://artwork-cdn.7static.com/static/img/slee...   \n",
       "5      http://artwork-cdn.7static.com/static/img/slee...   \n",
       "6      http://artwork-cdn.7static.com/static/img/slee...   \n",
       "7      http://artwork-cdn.7static.com/static/img/slee...   \n",
       "8      http://artwork-cdn.7static.com/static/img/slee...   \n",
       "9      http://artwork-cdn.7static.com/static/img/slee...   \n",
       "10     http://artwork-cdn.7static.com/static/img/slee...   \n",
       "11     http://artwork-cdn.7static.com/static/img/slee...   \n",
       "12     http://artwork-cdn.7static.com/static/img/slee...   \n",
       "13     http://artwork-cdn.7static.com/static/img/slee...   \n",
       "14     http://artwork-cdn.7static.com/static/img/slee...   \n",
       "15     http://artwork-cdn.7static.com/static/img/slee...   \n",
       "16     http://artwork-cdn.7static.com/static/img/slee...   \n",
       "17     http://artwork-cdn.7static.com/static/img/slee...   \n",
       "18     http://artwork-cdn.7static.com/static/img/slee...   \n",
       "19     http://artwork-cdn.7static.com/static/img/slee...   \n",
       "20     http://artwork-cdn.7static.com/static/img/slee...   \n",
       "21     http://artwork-cdn.7static.com/static/img/slee...   \n",
       "22     http://artwork-cdn.7static.com/static/img/slee...   \n",
       "23     http://artwork-cdn.7static.com/static/img/slee...   \n",
       "24     http://artwork-cdn.7static.com/static/img/slee...   \n",
       "25     http://artwork-cdn.7static.com/static/img/slee...   \n",
       "26     http://artwork-cdn.7static.com/static/img/slee...   \n",
       "27     http://artwork-cdn.7static.com/static/img/slee...   \n",
       "28     http://artwork-cdn.7static.com/static/img/slee...   \n",
       "29     http://artwork-cdn.7static.com/static/img/slee...   \n",
       "...                                                  ...   \n",
       "10352  http://artwork-cdn.7static.com/static/img/slee...   \n",
       "10353  http://artwork-cdn.7static.com/static/img/slee...   \n",
       "10354  http://artwork-cdn.7static.com/static/img/slee...   \n",
       "10355  http://artwork-cdn.7static.com/static/img/slee...   \n",
       "10356  http://artwork-cdn.7static.com/static/img/slee...   \n",
       "10357  http://artwork-cdn.7static.com/static/img/slee...   \n",
       "10358  http://artwork-cdn.7static.com/static/img/slee...   \n",
       "10359  http://artwork-cdn.7static.com/static/img/slee...   \n",
       "10360  http://artwork-cdn.7static.com/static/img/slee...   \n",
       "10361  http://artwork-cdn.7static.com/static/img/slee...   \n",
       "10362  http://artwork-cdn.7static.com/static/img/slee...   \n",
       "10363  http://artwork-cdn.7static.com/static/img/slee...   \n",
       "10364  http://artwork-cdn.7static.com/static/img/slee...   \n",
       "10365  http://artwork-cdn.7static.com/static/img/slee...   \n",
       "10366  http://artwork-cdn.7static.com/static/img/slee...   \n",
       "10367  http://artwork-cdn.7static.com/static/img/slee...   \n",
       "10368  http://artwork-cdn.7static.com/static/img/slee...   \n",
       "10369  http://artwork-cdn.7static.com/static/img/slee...   \n",
       "10370  http://artwork-cdn.7static.com/static/img/slee...   \n",
       "10371  http://artwork-cdn.7static.com/static/img/slee...   \n",
       "10372  http://artwork-cdn.7static.com/static/img/slee...   \n",
       "10373  http://artwork-cdn.7static.com/static/img/slee...   \n",
       "10374  http://artwork-cdn.7static.com/static/img/slee...   \n",
       "10375  http://artwork-cdn.7static.com/static/img/slee...   \n",
       "10376  http://artwork-cdn.7static.com/static/img/slee...   \n",
       "10377  http://artwork-cdn.7static.com/static/img/slee...   \n",
       "10378  http://artwork-cdn.7static.com/static/img/slee...   \n",
       "10379  http://artwork-cdn.7static.com/static/img/slee...   \n",
       "10380  http://artwork-cdn.7static.com/static/img/slee...   \n",
       "10381  http://artwork-cdn.7static.com/static/img/slee...   \n",
       "\n",
       "                       song_title  \\\n",
       "0                 The Illusionist   \n",
       "1                  Weekend Driver   \n",
       "2                       Too Alive   \n",
       "3            Ride The Darker Wave   \n",
       "4                          Carmen   \n",
       "5               Sugar Spun Sister   \n",
       "6                   Emerald crown   \n",
       "7           Closer To Free (Live)   \n",
       "8                        Penelope   \n",
       "9               Only Meant To Say   \n",
       "10                        40 Days   \n",
       "11                       Joy Ride   \n",
       "12          Hymn Of The Big Wheel   \n",
       "13           Gone inside the zero   \n",
       "14                       Lucky Me   \n",
       "15                  Know My Heart   \n",
       "16                           1.36   \n",
       "17              Shake Your Shimmy   \n",
       "18              Cause A Rockslide   \n",
       "19                          Money   \n",
       "20      And I Remember Every Kiss   \n",
       "21                   Hidden Place   \n",
       "22                   Switch Opens   \n",
       "23        Cygnus...Vismund Cygnus   \n",
       "24                 Sit And Wonder   \n",
       "25                      Turn U On   \n",
       "26      This Conversation Is Over   \n",
       "27                        Soñador   \n",
       "28                     I Like You   \n",
       "29                    Girlfriends   \n",
       "...                           ...   \n",
       "10352                  Dreamsicle   \n",
       "10353                     Crazier   \n",
       "10354                   Take Care   \n",
       "10355                Now Or Never   \n",
       "10356                   Fireflies   \n",
       "10357                  Walk On By   \n",
       "10358                    So Be It   \n",
       "10359                       Jimmy   \n",
       "10360                   One Of Us   \n",
       "10361               Mexicali Rose   \n",
       "10362                       Peace   \n",
       "10363                 Secret Love   \n",
       "10364                 Light It Up   \n",
       "10365                      Sister   \n",
       "10366  Bridge Over Troubled Water   \n",
       "10367                   I Get Out   \n",
       "10368                   Every Sip   \n",
       "10369                Just A Dream   \n",
       "10370            Every Part Of Me   \n",
       "10371                    Children   \n",
       "10372            Name Of The Game   \n",
       "10373       Just Missed The Train   \n",
       "10374                     Rumours   \n",
       "10375                   Thank You   \n",
       "10376                    Addicted   \n",
       "10377                 Purple Rain   \n",
       "10378                     Endless   \n",
       "10379          Rainbow In The Sky   \n",
       "10380                   The Truth   \n",
       "10381                    Too Cold   \n",
       "\n",
       "                                             song_lyrics  \\\n",
       "0                                                    NaN   \n",
       "1                                                    NaN   \n",
       "2                                                    NaN   \n",
       "3                                                    NaN   \n",
       "4      Last night she ran away  \\nLeft a letter by th...   \n",
       "5      Her hair  \\nSoft drifted snow  \\nDeath white  ...   \n",
       "6                                                    NaN   \n",
       "7                                                    NaN   \n",
       "8      Penelope works in the market  \\nDown in the co...   \n",
       "9                                                    NaN   \n",
       "10     Some say it's wrong, some say it's right  \\nSo...   \n",
       "11     Baby baby don't you ever let go  \\nMore and mo...   \n",
       "12                                                   NaN   \n",
       "13                                                   NaN   \n",
       "14     Lights on, stage set  \\nI guess I gotta put on...   \n",
       "15                                                   NaN   \n",
       "16     Stuck in a corner  \\nAre monkeys in cages  \\nT...   \n",
       "17                                                   NaN   \n",
       "18                                                   NaN   \n",
       "19     They say the best things in life are free  \\nB...   \n",
       "20                                                   NaN   \n",
       "21                                                   NaN   \n",
       "22     Hey you slave, go hang your owners  \\nDraw you...   \n",
       "23                                                   NaN   \n",
       "24     I sit and wonder, I often wonder  \\nI sit and ...   \n",
       "25                                                   NaN   \n",
       "26                                                   NaN   \n",
       "27                                                   NaN   \n",
       "28     Something in you caused me to,  \\nTake a new t...   \n",
       "29                                                   NaN   \n",
       "...                                                  ...   \n",
       "10352  Let me tell you now he sips, he quips  \\nDream...   \n",
       "10353  I've never gone with the wind, just let it flo...   \n",
       "10354  I, I've waited all my life  \\nTo step out from...   \n",
       "10355  I watch the morning dawn upon your skin  \\nA s...   \n",
       "10356  I been walking  \\nWherefore am I walking  \\nI ...   \n",
       "10357  Ooh, ooh  \\nIf you see me walking down the str...   \n",
       "10358  Your will not mine  \\nYour will not mine  \\n  ...   \n",
       "10359  Jimmy, my heart is full of love, only true lov...   \n",
       "10360  They passed me by, all of those great romances...   \n",
       "10361  Mexicali Rose stop crying  \\nI'll come back to...   \n",
       "10362  More and more I can't say no  \\nSo afraid of l...   \n",
       "10363  Swizz Beats, ladies and gentlemen  \\n(Come on,...   \n",
       "10364  Like a stone you watch it fall  \\nAnd let it r...   \n",
       "10365  Sister I'm heading out of alabama  \\nSo you be...   \n",
       "10366  When you're weary and feeling small  \\nWhen te...   \n",
       "10367  You want me to play the game you tried again a...   \n",
       "10368  (Sip somethin')  \\nUh, sip somethin'  \\n(Sip s...   \n",
       "10369  It ain't a thang in this world that's gonna kn...   \n",
       "10370  Ooooh-ooh...  \\n  \\nI feel like I'm a million ...   \n",
       "10371  [Verse]  \\nWhat about the children?  \\nLook at...   \n",
       "10372  No one believes me  \\nSomeone conceived me  \\n...   \n",
       "10373  Roll over baby, the time has come  \\nto make a...   \n",
       "10374  )  \\nI heard some things about you  \\nI can't ...   \n",
       "10375  Now I'm levitating  \\nCause I feel like I've b...   \n",
       "10376  It's like you're a drug  \\nIt's like you're a ...   \n",
       "10377  I never meant to cause you any trouble  \\nI ne...   \n",
       "10378  You better wrap yourself around me  \\nIt's a m...   \n",
       "10379  There's a rainbow in the sky all the time don'...   \n",
       "10380  They called you a failure  \\nThey called you a...   \n",
       "10381  All right stop, collaborate and listen  \\nIce ...   \n",
       "\n",
       "                     artist  \\\n",
       "0             Scar Symmetry   \n",
       "1                    Foghat   \n",
       "2              The Breeders   \n",
       "3                   Sebadoh   \n",
       "4                      Lush   \n",
       "5           The Stone Roses   \n",
       "6                   THERION   \n",
       "7                   BoDeans   \n",
       "8               Of Montreal   \n",
       "9               Matthew Jay   \n",
       "10                 Slowdive   \n",
       "11              Eric Darius   \n",
       "12           Massive Attack   \n",
       "13             Rollins Band   \n",
       "14              Sarah Slean   \n",
       "15              Sara Groves   \n",
       "16                 Coldplay   \n",
       "17            Living Things   \n",
       "18          Badly Drawn Boy   \n",
       "19     Peter Bjorn And John   \n",
       "20              Jens Lekman   \n",
       "21                    Björk   \n",
       "22              Soundgarden   \n",
       "23           The Mars Volta   \n",
       "24                The Verve   \n",
       "25              Jagged Edge   \n",
       "26               Acceptance   \n",
       "27                   Juanes   \n",
       "28               Alphawezen   \n",
       "29             Jamie O'Neal   \n",
       "...                     ...   \n",
       "10352          Marc Antoine   \n",
       "10353          Taylor Swift   \n",
       "10354         Janet Jackson   \n",
       "10355        Meli'sa Morgan   \n",
       "10356         Gato Barbieri   \n",
       "10357             Pete Rock   \n",
       "10358           Morten Abel   \n",
       "10359                M.I.A.   \n",
       "10360         Flowing Tears   \n",
       "10361            Jim Reeves   \n",
       "10362     Vital Information   \n",
       "10363                S Club   \n",
       "10364              Choclair   \n",
       "10365   Goldie Lookin Chain   \n",
       "10366             Jackson 5   \n",
       "10367          Ziggy Marley   \n",
       "10368             LL Cool J   \n",
       "10369           Jimmy Wayne   \n",
       "10370      Victoria Beckham   \n",
       "10371          Martin Jondo   \n",
       "10372  Talib Kweli / Hi-Tek   \n",
       "10373        Kelly Clarkson   \n",
       "10374                As One   \n",
       "10375                   Ayo   \n",
       "10376          Marit Larsen   \n",
       "10377                Niacin   \n",
       "10378           Funk D'Void   \n",
       "10379          Ziggy Marley   \n",
       "10380            India.Arie   \n",
       "10381          Roots Manuva   \n",
       "\n",
       "                                             lyrics_link  \\\n",
       "0      https://www.lyricsfreak.com/s/scar+symmetry/th...   \n",
       "1      https://www.lyricsfreak.com/f/foghat/weekend+d...   \n",
       "2      https://www.lyricsfreak.com/b/breeders/too+ali...   \n",
       "3      https://www.lyricsfreak.com/s/sebadoh/ride+the...   \n",
       "4      https://www.lyricsfreak.com/l/lush/carmen_2008...   \n",
       "5      https://www.lyricsfreak.com/s/stone+roses/suga...   \n",
       "6      https://www.lyricsfreak.com/t/therion/emerald+...   \n",
       "7      https://www.lyricsfreak.com/b/bodeans/closer+t...   \n",
       "8      https://www.lyricsfreak.com/o/of+montreal/pene...   \n",
       "9      https://www.lyricsfreak.com/m/matthew+jay/only...   \n",
       "10     https://www.lyricsfreak.com/s/slowdive/40+days...   \n",
       "11                                                   NaN   \n",
       "12     https://www.lyricsfreak.com/m/massive+attack/h...   \n",
       "13     https://www.lyricsfreak.com/r/rollins+band/gon...   \n",
       "14     https://www.lyricsfreak.com/s/sarah+slean/luck...   \n",
       "15     https://www.lyricsfreak.com/s/sara+groves/know...   \n",
       "16     https://www.lyricsfreak.com/c/coldplay/136_205...   \n",
       "17     https://www.lyricsfreak.com/l/living+things/sh...   \n",
       "18     https://www.lyricsfreak.com/b/badly+drawn+boy/...   \n",
       "19                                                   NaN   \n",
       "20     https://www.lyricsfreak.com/j/jens+lekman/and+...   \n",
       "21     https://www.lyricsfreak.com/b/bjork/hidden+pla...   \n",
       "22     https://www.lyricsfreak.com/s/soundgarden/swit...   \n",
       "23     https://www.lyricsfreak.com/m/mars+volta/cygnu...   \n",
       "24     https://www.lyricsfreak.com/v/verve/sit+and+wo...   \n",
       "25     https://www.lyricsfreak.com/j/jagged+edge/turn...   \n",
       "26     https://www.lyricsfreak.com/a/acceptance/this+...   \n",
       "27     https://www.lyricsfreak.com/j/juanes/sonador_2...   \n",
       "28                                                   NaN   \n",
       "29     https://www.lyricsfreak.com/j/jamie+oneal/girl...   \n",
       "...                                                  ...   \n",
       "10352                                                NaN   \n",
       "10353                                                NaN   \n",
       "10354                                                NaN   \n",
       "10355                                                NaN   \n",
       "10356                                                NaN   \n",
       "10357                                                NaN   \n",
       "10358                                                NaN   \n",
       "10359                                                NaN   \n",
       "10360                                                NaN   \n",
       "10361                                                NaN   \n",
       "10362                                                NaN   \n",
       "10363                                                NaN   \n",
       "10364                                                NaN   \n",
       "10365                                                NaN   \n",
       "10366                                                NaN   \n",
       "10367                                                NaN   \n",
       "10368                                                NaN   \n",
       "10369                                                NaN   \n",
       "10370                                                NaN   \n",
       "10371                                                NaN   \n",
       "10372                                                NaN   \n",
       "10373                                                NaN   \n",
       "10374                                                NaN   \n",
       "10375                                                NaN   \n",
       "10376                                                NaN   \n",
       "10377                                                NaN   \n",
       "10378                                                NaN   \n",
       "10379                                                NaN   \n",
       "10380                                                NaN   \n",
       "10381                                                NaN   \n",
       "\n",
       "                                             lyrics_text  \\\n",
       "0      as an outcast i paced defeat seeking comfort i...   \n",
       "1      dave peverett - riff bros. music - ascap waiti...   \n",
       "2      i took off when will will make no way steal it...   \n",
       "3      you make your words so nice i'm waiting you to...   \n",
       "4      (anderson/berenyi) carmen tells me what she's ...   \n",
       "5      her hair soft drifted snow death white i'd lik...   \n",
       "6      during the war that took place in heaven the b...   \n",
       "7      yeah everybody wants to live how they wanna li...   \n",
       "8      penelope shoot the apple off my head i need to...   \n",
       "9      everything could die tomorrow would you still ...   \n",
       "10     fourty days and i miss you i'm so high that i'...   \n",
       "11                                                   NaN   \n",
       "12     horace andy the big wheel keeps on turning on ...   \n",
       "13     isolation identity my own extinction set me fr...   \n",
       "14     silence wears a new suit to his coffee toast a...   \n",
       "15     why do i pray? do i pray to say i prayed an ho...   \n",
       "16     stuck in a corner are monkeys in cages that do...   \n",
       "17     when god made adam he made him proud he wasn't...   \n",
       "18     can i get close to ya if only for a while i do...   \n",
       "19                                                   NaN   \n",
       "20     there will be no kisses tonight there will be ...   \n",
       "21     through the warmthest cord of care your love w...   \n",
       "22     hey you slaves go hang your owners draw your n...   \n",
       "23     the ocean floor is hidden from your viewing le...   \n",
       "24     i sit and wonder, i often wonder i sit and won...   \n",
       "25     [intro:] rock steady.... move your body, yehh,...   \n",
       "26     i never thought i'd be the one to fool you, if...   \n",
       "27     aquйl que cree que tiene el mundo en sus manos...   \n",
       "28                                                   NaN   \n",
       "29     i've been starin' all day at the same computer...   \n",
       "...                                                  ...   \n",
       "10352                                                NaN   \n",
       "10353                                                NaN   \n",
       "10354                                                NaN   \n",
       "10355                                                NaN   \n",
       "10356                                                NaN   \n",
       "10357                                                NaN   \n",
       "10358                                                NaN   \n",
       "10359                                                NaN   \n",
       "10360                                                NaN   \n",
       "10361                                                NaN   \n",
       "10362                                                NaN   \n",
       "10363                                                NaN   \n",
       "10364                                                NaN   \n",
       "10365                                                NaN   \n",
       "10366                                                NaN   \n",
       "10367                                                NaN   \n",
       "10368                                                NaN   \n",
       "10369                                                NaN   \n",
       "10370                                                NaN   \n",
       "10371                                                NaN   \n",
       "10372                                                NaN   \n",
       "10373                                                NaN   \n",
       "10374                                                NaN   \n",
       "10375                                                NaN   \n",
       "10376                                                NaN   \n",
       "10377                                                NaN   \n",
       "10378                                                NaN   \n",
       "10379                                                NaN   \n",
       "10380                                                NaN   \n",
       "10381                                                NaN   \n",
       "\n",
       "                                                  lyrics  \\\n",
       "0      as an outcast i paced defeat seeking comfort i...   \n",
       "1      dave peverett - riff bros. music - ascap waiti...   \n",
       "2      i took off when will will make no way steal it...   \n",
       "3      you make your words so nice i'm waiting you to...   \n",
       "4      (anderson/berenyi) carmen tells me what she's ...   \n",
       "5      her hair soft drifted snow death white i'd lik...   \n",
       "6      during the war that took place in heaven the b...   \n",
       "7      yeah everybody wants to live how they wanna li...   \n",
       "8      penelope shoot the apple off my head i need to...   \n",
       "9      everything could die tomorrow would you still ...   \n",
       "10     fourty days and i miss you i'm so high that i'...   \n",
       "11     Baby baby don't you ever let go  \\nMore and mo...   \n",
       "12     horace andy the big wheel keeps on turning on ...   \n",
       "13     isolation identity my own extinction set me fr...   \n",
       "14     silence wears a new suit to his coffee toast a...   \n",
       "15     why do i pray? do i pray to say i prayed an ho...   \n",
       "16     stuck in a corner are monkeys in cages that do...   \n",
       "17     when god made adam he made him proud he wasn't...   \n",
       "18     can i get close to ya if only for a while i do...   \n",
       "19     They say the best things in life are free  \\nB...   \n",
       "20     there will be no kisses tonight there will be ...   \n",
       "21     through the warmthest cord of care your love w...   \n",
       "22     hey you slaves go hang your owners draw your n...   \n",
       "23     the ocean floor is hidden from your viewing le...   \n",
       "24     i sit and wonder, i often wonder i sit and won...   \n",
       "25     [intro:] rock steady.... move your body, yehh,...   \n",
       "26     i never thought i'd be the one to fool you, if...   \n",
       "27     aquйl que cree que tiene el mundo en sus manos...   \n",
       "28     Something in you caused me to,  \\nTake a new t...   \n",
       "29     i've been starin' all day at the same computer...   \n",
       "...                                                  ...   \n",
       "10352  Let me tell you now he sips, he quips  \\nDream...   \n",
       "10353  I've never gone with the wind, just let it flo...   \n",
       "10354  I, I've waited all my life  \\nTo step out from...   \n",
       "10355  I watch the morning dawn upon your skin  \\nA s...   \n",
       "10356  I been walking  \\nWherefore am I walking  \\nI ...   \n",
       "10357  Ooh, ooh  \\nIf you see me walking down the str...   \n",
       "10358  Your will not mine  \\nYour will not mine  \\n  ...   \n",
       "10359  Jimmy, my heart is full of love, only true lov...   \n",
       "10360  They passed me by, all of those great romances...   \n",
       "10361  Mexicali Rose stop crying  \\nI'll come back to...   \n",
       "10362  More and more I can't say no  \\nSo afraid of l...   \n",
       "10363  Swizz Beats, ladies and gentlemen  \\n(Come on,...   \n",
       "10364  Like a stone you watch it fall  \\nAnd let it r...   \n",
       "10365  Sister I'm heading out of alabama  \\nSo you be...   \n",
       "10366  When you're weary and feeling small  \\nWhen te...   \n",
       "10367  You want me to play the game you tried again a...   \n",
       "10368  (Sip somethin')  \\nUh, sip somethin'  \\n(Sip s...   \n",
       "10369  It ain't a thang in this world that's gonna kn...   \n",
       "10370  Ooooh-ooh...  \\n  \\nI feel like I'm a million ...   \n",
       "10371  [Verse]  \\nWhat about the children?  \\nLook at...   \n",
       "10372  No one believes me  \\nSomeone conceived me  \\n...   \n",
       "10373  Roll over baby, the time has come  \\nto make a...   \n",
       "10374  )  \\nI heard some things about you  \\nI can't ...   \n",
       "10375  Now I'm levitating  \\nCause I feel like I've b...   \n",
       "10376  It's like you're a drug  \\nIt's like you're a ...   \n",
       "10377  I never meant to cause you any trouble  \\nI ne...   \n",
       "10378  You better wrap yourself around me  \\nIt's a m...   \n",
       "10379  There's a rainbow in the sky all the time don'...   \n",
       "10380  They called you a failure  \\nThey called you a...   \n",
       "10381  All right stop, collaborate and listen  \\nIce ...   \n",
       "\n",
       "                                            lyrics_clean  \\\n",
       "0      outcast pace defeat seek comfort pain retreat ...   \n",
       "1      dave peveret riff bro music ascap waitin weeke...   \n",
       "2      took make way steal like found speed mic shut ...   \n",
       "3      make word nice wait name price one walk along ...   \n",
       "4      andersonberenyi carmen tell done say fun want ...   \n",
       "5      hair soft drift snow death white would like kn...   \n",
       "6      war took place heaven brightest star lost prec...   \n",
       "7      yeah everybodi want live want live everybodi w...   \n",
       "8      penelop shoot appl head need go store get slee...   \n",
       "9      everyth could die tomorrow would still say sai...   \n",
       "10     fourti day miss high lost mind summer think fo...   \n",
       "11     babi babi ever let go more overflow got feel h...   \n",
       "12     horac andi big wheel keep turn simpl line day ...   \n",
       "13     isol ident extinct set free know man go nowher...   \n",
       "14     silenc wear new suit coffe toast egg skip stai...   \n",
       "15     pray pray say pray hour love want beholden hel...   \n",
       "16     stuck corner monkey cage number fight one anot...   \n",
       "17     god made adam made proud happi till made howl ...   \n",
       "18     get close ya need busi jive guru want sing alo...   \n",
       "19     they say best thing life free but give bird be...   \n",
       "20     kiss tonight hold hand tonight caus know broke...   \n",
       "21     warmthest cord care love sent sure put close t...   \n",
       "22     hey slave go hang owner draw name among ash pu...   \n",
       "23     ocean floor hidden view len depth percept lang...   \n",
       "24     sit wonder often wonder sit wonder thing sit w...   \n",
       "25     intro rock steadi multistop move bodi yeh yo b...   \n",
       "26     never thought would one fool told would steal ...   \n",
       "27     aquйl que cree que tien el mundo en su mano qu...   \n",
       "28     someth caus take new tact you go someth i scra...   \n",
       "29     starin day comput screen round treat like damn...   \n",
       "...                                                  ...   \n",
       "10352  let tell sip quip dream lot sail ship want thr...   \n",
       "10353  i never gone wind let flow let take i want go ...   \n",
       "10354  i i wait life to step light and see shadow fad...   \n",
       "10355  i watch morn dawn upon skin a splinter light i...   \n",
       "10356  i walk wherefor i walk i walk if see walk awal...   \n",
       "10357  ooh ooh if see walk street and i start cri tim...   \n",
       "10358  your mine your mine be it done done time i tip...   \n",
       "10359  jimmi heart full love true love and wisdom vis...   \n",
       "10360  they pass great romanc you i felt rob right ch...   \n",
       "10361  mexicali rose stop cri i come back sunni day e...   \n",
       "10362  more i say so afraid let go if someth i grab y...   \n",
       "10363  swiz beat ladi gentleman come come come ladi g...   \n",
       "10364  like stone watch fall and let roll field you t...   \n",
       "10365  sister im head alabama so better think fast th...   \n",
       "10366  when weari feel small when tear eye i dri im s...   \n",
       "10367  you want play game tri to sell fame fit format...   \n",
       "10368  sip somethin uh sip somethin sip somethin i wo...   \n",
       "10369  it thang world gon na knock foot a i unleash t...   \n",
       "10370  ohoh multistop i feel like im million mile awa...   \n",
       "10371  vers what child look child chang what vision b...   \n",
       "10372  no one belief someon conceiv a fluke night obs...   \n",
       "10373  roll babi time come make littl bit room i hung...   \n",
       "10374  i heard thing i believ true i heard flame burn...   \n",
       "10375  now im levit caus i feel like i wait for lifet...   \n",
       "10376  it like drug it like demon i face it like im s...   \n",
       "10377  i never meant caus troubl i never meant caus p...   \n",
       "10378  you better wrap around it miracl found i fool ...   \n",
       "10379  there rainbow sky time blind there rainbow sky...   \n",
       "10380  they call failur they call lost caus they said...   \n",
       "10381  all right stop collabor listen ice back i got ...   \n",
       "\n",
       "                               lyrics_clean_without_stem  \n",
       "0      outcast paced defeat seeking comfort painful r...  \n",
       "1      dave peveret riff bros music ascap waitin week...  \n",
       "2      took make way steal like found speed mic shut ...  \n",
       "3      make word nice waiting name price one walk alo...  \n",
       "4      andersonberenyi carmen tell done say fun want ...  \n",
       "5      hair soft drifted snow death white would like ...  \n",
       "6      war took place heaven brightest star lost prec...  \n",
       "7      yeah everybody want live want live everybody w...  \n",
       "8      penelope shoot apple head need go store get sl...  \n",
       "9      everything could die tomorrow would still say ...  \n",
       "10     fourty day miss high lost mind summer thinking...  \n",
       "11     baby baby ever let go more overflow got feelin...  \n",
       "12     horace andy big wheel keep turning simple line...  \n",
       "13     isolation identity extinction set free know ma...  \n",
       "14     silence wear new suit coffee toast egg skip st...  \n",
       "15     pray pray say prayed hour love want beholden h...  \n",
       "16     stuck corner monkey cage number fight one anot...  \n",
       "17     god made adam made proud happy till made howl ...  \n",
       "18     get close ya need busy jive guru want sing alo...  \n",
       "19     they say best thing life free but give bird be...  \n",
       "20     kiss tonight holding hand tonight cause know b...  \n",
       "21     warmthest cord care love sent sure put close t...  \n",
       "22     hey slave go hang owner draw name among ash pu...  \n",
       "23     ocean floor hidden viewing lens depth percepti...  \n",
       "24     sit wonder often wonder sit wonder thing sit w...  \n",
       "25     intro rock steady multistop move body yeh yo b...  \n",
       "26     never thought would one fool told would steal ...  \n",
       "27     aquйl que cree que tiene el mundo en sus manos...  \n",
       "28     something caused take new tact you going somet...  \n",
       "29     starin day computer screen round treated like ...  \n",
       "...                                                  ...  \n",
       "10352  let tell sip quip dream lot sailing ship want ...  \n",
       "10353  i never gone wind let flow let take i want go ...  \n",
       "10354  i i waited life to step light and see shadow f...  \n",
       "10355  i watch morning dawn upon skin a splinter ligh...  \n",
       "10356  i walking wherefore i walking i walking if see...  \n",
       "10357  ooh ooh if see walking street and i start cry ...  \n",
       "10358  your mine your mine be it done done time i tip...  \n",
       "10359  jimmy heart full love true love and wisdom vis...  \n",
       "10360  they passed great romance you i felt robbing r...  \n",
       "10361  mexicali rose stop cry i come back sunny day e...  \n",
       "10362  more i say so afraid letting go if something i...  \n",
       "10363  swiz beat lady gentleman come come come lady g...  \n",
       "10364  like stone watch fall and let roll field you t...  \n",
       "10365  sister im heading alabama so better think fast...  \n",
       "10366  when weary feeling small when tear eye i dry i...  \n",
       "10367  you want play game tried to sell fame fit form...  \n",
       "10368  sip somethin uh sip somethin sip somethin i wo...  \n",
       "10369  it thang world gon na knock foot a i unleash t...  \n",
       "10370  ohoh multistop i feel like im million mile awa...  \n",
       "10371  verse what child look child change what vision...  \n",
       "10372  no one belief someone conceived a fluke night ...  \n",
       "10373  roll baby time come make little bit room i hun...  \n",
       "10374  i heard thing i believe true i heard flame bur...  \n",
       "10375  now im levitating cause i feel like i waiting ...  \n",
       "10376  it like drug it like demon i face it like im s...  \n",
       "10377  i never meant cause trouble i never meant caus...  \n",
       "10378  you better wrap around it miracle found i fool...  \n",
       "10379  there rainbow sky time blind there rainbow sky...  \n",
       "10380  they called failure they called lost cause the...  \n",
       "10381  all right stop collaborate listen ice back i g...  \n",
       "\n",
       "[10382 rows x 14 columns]"
      ]
     },
     "execution_count": 140,
     "metadata": {},
     "output_type": "execute_result"
    }
   ],
   "source": [
    "dataset_clean"
   ]
  },
  {
   "cell_type": "code",
   "execution_count": 141,
   "metadata": {},
   "outputs": [
    {
     "data": {
      "text/plain": [
       "(10382, 14)"
      ]
     },
     "execution_count": 141,
     "metadata": {},
     "output_type": "execute_result"
    }
   ],
   "source": [
    "dataset_clean.shape"
   ]
  },
  {
   "cell_type": "code",
   "execution_count": 142,
   "metadata": {},
   "outputs": [
    {
     "data": {
      "text/plain": [
       "(10382, 14)"
      ]
     },
     "execution_count": 142,
     "metadata": {},
     "output_type": "execute_result"
    }
   ],
   "source": [
    "dataset_clean.dropna(subset=['lyrics_clean_without_stem']).shape"
   ]
  },
  {
   "cell_type": "code",
   "execution_count": 143,
   "metadata": {},
   "outputs": [
    {
     "data": {
      "text/plain": [
       "(10382, 14)"
      ]
     },
     "execution_count": 143,
     "metadata": {},
     "output_type": "execute_result"
    }
   ],
   "source": [
    "dataset_clean.dropna(subset=['lyrics_clean']).shape"
   ]
  },
  {
   "cell_type": "code",
   "execution_count": 144,
   "metadata": {},
   "outputs": [],
   "source": [
    "dataset_clean.to_csv(\"dataset_clean_2.csv\")"
   ]
  },
  {
   "cell_type": "code",
   "execution_count": 145,
   "metadata": {},
   "outputs": [],
   "source": [
    "dataset_clean.to_csv(\"/data/AGE_DATA/dataset_clean_2.csv\")"
   ]
  },
  {
   "cell_type": "code",
   "execution_count": 259,
   "metadata": {},
   "outputs": [],
   "source": [
    "dataset_clean = pd.read_csv(\"/data/AGE_DATA/dataset_clean_2.csv\")"
   ]
  },
  {
   "cell_type": "markdown",
   "metadata": {},
   "source": [
    "# TFIDF"
   ]
  },
  {
   "cell_type": "markdown",
   "metadata": {},
   "source": [
    "# Sample use"
   ]
  },
  {
   "cell_type": "code",
   "execution_count": 41,
   "metadata": {},
   "outputs": [],
   "source": [
    "from sklearn.feature_extraction.text import TfidfVectorizer"
   ]
  },
  {
   "cell_type": "code",
   "execution_count": null,
   "metadata": {},
   "outputs": [],
   "source": [
    "corpus = [\n",
    "     'This is the first document.',\n",
    "     'This document is the second document.',\n",
    "     'And this is the third one.',\n",
    "     'Is this the first document?',\n",
    "]"
   ]
  },
  {
   "cell_type": "code",
   "execution_count": null,
   "metadata": {},
   "outputs": [],
   "source": [
    "vectorizer = TfidfVectorizer()"
   ]
  },
  {
   "cell_type": "code",
   "execution_count": null,
   "metadata": {},
   "outputs": [],
   "source": [
    "X = vectorizer.fit_transform(corpus)"
   ]
  },
  {
   "cell_type": "code",
   "execution_count": null,
   "metadata": {},
   "outputs": [],
   "source": [
    "X.shape"
   ]
  },
  {
   "cell_type": "code",
   "execution_count": null,
   "metadata": {},
   "outputs": [],
   "source": [
    "y = [1, 2, 3, 1]"
   ]
  },
  {
   "cell_type": "code",
   "execution_count": null,
   "metadata": {},
   "outputs": [],
   "source": []
  },
  {
   "cell_type": "markdown",
   "metadata": {},
   "source": [
    "# Baseline"
   ]
  },
  {
   "cell_type": "code",
   "execution_count": 49,
   "metadata": {},
   "outputs": [],
   "source": [
    "LABEL_TO_INDEX = {'Blues': 0,\n",
    " 'Country': 1,\n",
    " 'Electronic': 2,\n",
    " 'Folk': 3,\n",
    " 'Jazz': 4,\n",
    " 'Latin': 5,\n",
    " 'Metal': 6,\n",
    " 'New Age': 7,\n",
    " 'Pop': 8,\n",
    " 'Punk': 9,\n",
    " 'Rap': 10,\n",
    " 'Reggae': 11,\n",
    " 'RnB': 12,\n",
    " 'Rock': 13,\n",
    " 'World': 14}"
   ]
  },
  {
   "cell_type": "code",
   "execution_count": 43,
   "metadata": {},
   "outputs": [],
   "source": [
    "vectorizer = TfidfVectorizer()"
   ]
  },
  {
   "cell_type": "code",
   "execution_count": 260,
   "metadata": {},
   "outputs": [
    {
     "data": {
      "text/plain": [
       "(8332,)"
      ]
     },
     "execution_count": 260,
     "metadata": {},
     "output_type": "execute_result"
    }
   ],
   "source": [
    "dataset_clean.lyrics_clean[dataset_clean.set == 'train'].values.shape"
   ]
  },
  {
   "cell_type": "code",
   "execution_count": 45,
   "metadata": {
    "scrolled": true
   },
   "outputs": [
    {
     "data": {
      "text/plain": [
       "TfidfVectorizer(analyzer='word', binary=False, decode_error='strict',\n",
       "                dtype=<class 'numpy.float64'>, encoding='utf-8',\n",
       "                input='content', lowercase=True, max_df=1.0, max_features=None,\n",
       "                min_df=1, ngram_range=(1, 1), norm='l2', preprocessor=None,\n",
       "                smooth_idf=True, stop_words=None, strip_accents=None,\n",
       "                sublinear_tf=False, token_pattern='(?u)\\\\b\\\\w\\\\w+\\\\b',\n",
       "                tokenizer=None, use_idf=True, vocabulary=None)"
      ]
     },
     "execution_count": 45,
     "metadata": {},
     "output_type": "execute_result"
    }
   ],
   "source": [
    "vectorizer.fit(dataset_clean.lyrics_clean[dataset_clean.set == 'train'].values)"
   ]
  },
  {
   "cell_type": "code",
   "execution_count": 47,
   "metadata": {},
   "outputs": [],
   "source": [
    "X = vectorizer.transform(dataset_clean.lyrics_clean[dataset_clean.set == 'train'].values)"
   ]
  },
  {
   "cell_type": "code",
   "execution_count": 48,
   "metadata": {},
   "outputs": [
    {
     "data": {
      "text/plain": [
       "(8332, 39419)"
      ]
     },
     "execution_count": 48,
     "metadata": {},
     "output_type": "execute_result"
    }
   ],
   "source": [
    "X.shape"
   ]
  },
  {
   "cell_type": "code",
   "execution_count": 256,
   "metadata": {},
   "outputs": [
    {
     "data": {
      "text/plain": [
       "8332"
      ]
     },
     "execution_count": 256,
     "metadata": {},
     "output_type": "execute_result"
    }
   ],
   "source": [
    "len(y_train)"
   ]
  },
  {
   "cell_type": "code",
   "execution_count": 50,
   "metadata": {},
   "outputs": [],
   "source": [
    "y_train = [LABEL_TO_INDEX[x] for x in dataset_clean.genre[dataset_clean.set == 'train']]"
   ]
  },
  {
   "cell_type": "code",
   "execution_count": 52,
   "metadata": {},
   "outputs": [
    {
     "data": {
      "text/plain": [
       "Counter({6: 724,\n",
       "         13: 2297,\n",
       "         4: 543,\n",
       "         2: 684,\n",
       "         8: 1153,\n",
       "         12: 555,\n",
       "         5: 72,\n",
       "         1: 627,\n",
       "         10: 646,\n",
       "         11: 312,\n",
       "         3: 304,\n",
       "         9: 204,\n",
       "         0: 137,\n",
       "         14: 32,\n",
       "         7: 42})"
      ]
     },
     "execution_count": 52,
     "metadata": {},
     "output_type": "execute_result"
    }
   ],
   "source": [
    "Counter(y_train)"
   ]
  },
  {
   "cell_type": "markdown",
   "metadata": {},
   "source": [
    "# Log reg"
   ]
  },
  {
   "cell_type": "code",
   "execution_count": 53,
   "metadata": {},
   "outputs": [],
   "source": [
    "from sklearn.linear_model import LogisticRegression"
   ]
  },
  {
   "cell_type": "code",
   "execution_count": 54,
   "metadata": {},
   "outputs": [],
   "source": [
    "model = LogisticRegression(solver='lbfgs')"
   ]
  },
  {
   "cell_type": "code",
   "execution_count": 55,
   "metadata": {},
   "outputs": [
    {
     "name": "stderr",
     "output_type": "stream",
     "text": [
      "/home/fedor.kitashov/.local/lib/python3.6/site-packages/sklearn/linear_model/logistic.py:469: FutureWarning: Default multi_class will be changed to 'auto' in 0.22. Specify the multi_class option to silence this warning.\n",
      "  \"this warning.\", FutureWarning)\n"
     ]
    },
    {
     "data": {
      "text/plain": [
       "LogisticRegression(C=1.0, class_weight=None, dual=False, fit_intercept=True,\n",
       "                   intercept_scaling=1, l1_ratio=None, max_iter=100,\n",
       "                   multi_class='warn', n_jobs=None, penalty='l2',\n",
       "                   random_state=None, solver='lbfgs', tol=0.0001, verbose=0,\n",
       "                   warm_start=False)"
      ]
     },
     "execution_count": 55,
     "metadata": {},
     "output_type": "execute_result"
    }
   ],
   "source": [
    "model.fit(X, y_train)"
   ]
  },
  {
   "cell_type": "code",
   "execution_count": 56,
   "metadata": {},
   "outputs": [],
   "source": [
    "y_pred_train = model.predict(X)"
   ]
  },
  {
   "cell_type": "code",
   "execution_count": 57,
   "metadata": {},
   "outputs": [
    {
     "data": {
      "text/plain": [
       "Counter({13: 4680,\n",
       "         6: 478,\n",
       "         12: 272,\n",
       "         8: 1166,\n",
       "         4: 368,\n",
       "         10: 501,\n",
       "         5: 59,\n",
       "         1: 328,\n",
       "         2: 438,\n",
       "         11: 22,\n",
       "         9: 5,\n",
       "         3: 9,\n",
       "         0: 6})"
      ]
     },
     "execution_count": 57,
     "metadata": {},
     "output_type": "execute_result"
    }
   ],
   "source": [
    "Counter(y_pred_train)"
   ]
  },
  {
   "cell_type": "markdown",
   "metadata": {},
   "source": [
    "# Evaluate"
   ]
  },
  {
   "cell_type": "code",
   "execution_count": 58,
   "metadata": {},
   "outputs": [],
   "source": [
    "from sklearn.metrics import classification_report"
   ]
  },
  {
   "cell_type": "code",
   "execution_count": 61,
   "metadata": {},
   "outputs": [],
   "source": [
    "report_train = classification_report(y_train, y_pred_train)"
   ]
  },
  {
   "cell_type": "code",
   "execution_count": 62,
   "metadata": {},
   "outputs": [
    {
     "name": "stdout",
     "output_type": "stream",
     "text": [
      "              precision    recall  f1-score   support\n",
      "\n",
      "           0       1.00      0.04      0.08       137\n",
      "           1       0.60      0.31      0.41       627\n",
      "           2       0.48      0.31      0.38       684\n",
      "           3       1.00      0.03      0.06       304\n",
      "           4       0.56      0.38      0.45       543\n",
      "           5       0.61      0.50      0.55        72\n",
      "           6       0.78      0.52      0.62       724\n",
      "           7       0.00      0.00      0.00        42\n",
      "           8       0.46      0.46      0.46      1153\n",
      "           9       1.00      0.02      0.05       204\n",
      "          10       0.70      0.54      0.61       646\n",
      "          11       0.91      0.06      0.12       312\n",
      "          12       0.50      0.25      0.33       555\n",
      "          13       0.46      0.94      0.62      2297\n",
      "          14       0.00      0.00      0.00        32\n",
      "\n",
      "    accuracy                           0.51      8332\n",
      "   macro avg       0.60      0.29      0.32      8332\n",
      "weighted avg       0.58      0.51      0.46      8332\n",
      "\n"
     ]
    }
   ],
   "source": [
    "print (report_train)"
   ]
  },
  {
   "cell_type": "markdown",
   "metadata": {},
   "source": [
    "### Validation"
   ]
  },
  {
   "cell_type": "code",
   "execution_count": 66,
   "metadata": {},
   "outputs": [],
   "source": [
    "X_val = vectorizer.transform(dataset_clean.lyrics_clean[dataset_clean.set == 'val'].values)"
   ]
  },
  {
   "cell_type": "code",
   "execution_count": 65,
   "metadata": {},
   "outputs": [],
   "source": [
    "y_val = [LABEL_TO_INDEX[x] for x in dataset_clean.genre[dataset_clean.set == 'val']]"
   ]
  },
  {
   "cell_type": "code",
   "execution_count": 67,
   "metadata": {},
   "outputs": [],
   "source": [
    "y_pred_val = model.predict(X_val)"
   ]
  },
  {
   "cell_type": "code",
   "execution_count": 68,
   "metadata": {},
   "outputs": [
    {
     "data": {
      "text/plain": [
       "Counter({8: 296,\n",
       "         4: 106,\n",
       "         2: 131,\n",
       "         12: 54,\n",
       "         6: 56,\n",
       "         13: 252,\n",
       "         10: 51,\n",
       "         1: 54,\n",
       "         3: 2,\n",
       "         11: 1,\n",
       "         9: 1})"
      ]
     },
     "execution_count": 68,
     "metadata": {},
     "output_type": "execute_result"
    }
   ],
   "source": [
    "Counter(y_pred_val)"
   ]
  },
  {
   "cell_type": "code",
   "execution_count": 69,
   "metadata": {},
   "outputs": [
    {
     "name": "stderr",
     "output_type": "stream",
     "text": [
      "/home/fedor.kitashov/.local/lib/python3.6/site-packages/sklearn/metrics/classification.py:1437: UndefinedMetricWarning: Precision and F-score are ill-defined and being set to 0.0 in labels with no predicted samples.\n",
      "  'precision', 'predicted', average, warn_for)\n"
     ]
    }
   ],
   "source": [
    "report_val = classification_report(y_val, y_pred_val)"
   ]
  },
  {
   "cell_type": "code",
   "execution_count": 72,
   "metadata": {},
   "outputs": [
    {
     "name": "stdout",
     "output_type": "stream",
     "text": [
      "              precision    recall  f1-score   support\n",
      "\n",
      "           0       0.00      0.00      0.00        28\n",
      "           1       0.15      0.12      0.13        66\n",
      "           2       0.16      0.21      0.18       102\n",
      "           3       0.00      0.00      0.00        33\n",
      "           4       0.19      0.19      0.19       105\n",
      "           5       0.00      0.00      0.00         1\n",
      "           6       0.34      0.19      0.24       100\n",
      "           7       0.00      0.00      0.00        25\n",
      "           8       0.25      0.36      0.30       209\n",
      "           9       0.00      0.00      0.00        21\n",
      "          10       0.37      0.30      0.33        63\n",
      "          11       0.00      0.00      0.00        33\n",
      "          12       0.15      0.10      0.12        78\n",
      "          13       0.16      0.30      0.21       137\n",
      "          14       0.00      0.00      0.00         3\n",
      "\n",
      "    accuracy                           0.21      1004\n",
      "   macro avg       0.12      0.12      0.11      1004\n",
      "weighted avg       0.19      0.21      0.19      1004\n",
      "\n"
     ]
    }
   ],
   "source": [
    "print (report_val)"
   ]
  },
  {
   "cell_type": "markdown",
   "metadata": {},
   "source": [
    "# Test"
   ]
  },
  {
   "cell_type": "code",
   "execution_count": 73,
   "metadata": {},
   "outputs": [],
   "source": [
    "X_test = vectorizer.transform(dataset_clean.lyrics_clean[dataset_clean.set == 'test'].values)"
   ]
  },
  {
   "cell_type": "code",
   "execution_count": 74,
   "metadata": {},
   "outputs": [],
   "source": [
    "y_test = [LABEL_TO_INDEX[x] for x in dataset_clean.genre[dataset_clean.set == 'test']]"
   ]
  },
  {
   "cell_type": "code",
   "execution_count": 75,
   "metadata": {},
   "outputs": [],
   "source": [
    "y_pred_test = model.predict(X_test)"
   ]
  },
  {
   "cell_type": "code",
   "execution_count": 77,
   "metadata": {},
   "outputs": [],
   "source": [
    "report_test = classification_report(y_test, y_pred_test)"
   ]
  },
  {
   "cell_type": "code",
   "execution_count": 83,
   "metadata": {},
   "outputs": [
    {
     "name": "stdout",
     "output_type": "stream",
     "text": [
      "              precision    recall  f1-score   support\n",
      "\n",
      "           0       0.00      0.00      0.00        45\n",
      "           1       0.08      0.08      0.08        48\n",
      "           2       0.15      0.19      0.17       102\n",
      "           3       0.00      0.00      0.00        24\n",
      "           4       0.19      0.17      0.18       121\n",
      "           5       0.00      0.00      0.00         3\n",
      "           6       0.23      0.24      0.24        58\n",
      "           7       0.00      0.00      0.00         8\n",
      "           8       0.21      0.36      0.26       169\n",
      "           9       0.00      0.00      0.00        10\n",
      "          10       0.32      0.29      0.30        79\n",
      "          11       1.00      0.02      0.03        64\n",
      "          12       0.16      0.08      0.11       118\n",
      "          13       0.22      0.30      0.25       194\n",
      "          14       0.00      0.00      0.00         3\n",
      "\n",
      "    accuracy                           0.20      1046\n",
      "   macro avg       0.17      0.12      0.11      1046\n",
      "weighted avg       0.23      0.20      0.18      1046\n",
      "\n"
     ]
    }
   ],
   "source": [
    "print (report_test)"
   ]
  },
  {
   "cell_type": "markdown",
   "metadata": {},
   "source": [
    "# Усложним tfidf"
   ]
  },
  {
   "cell_type": "code",
   "execution_count": 86,
   "metadata": {},
   "outputs": [],
   "source": [
    "vectorizer = TfidfVectorizer(ngram_range=(1,4))"
   ]
  },
  {
   "cell_type": "code",
   "execution_count": 87,
   "metadata": {},
   "outputs": [
    {
     "data": {
      "text/plain": [
       "(8332,)"
      ]
     },
     "execution_count": 87,
     "metadata": {},
     "output_type": "execute_result"
    }
   ],
   "source": [
    "dataset_clean.lyrics_clean[dataset_clean.set == 'train'].values.shape"
   ]
  },
  {
   "cell_type": "code",
   "execution_count": 88,
   "metadata": {
    "scrolled": true
   },
   "outputs": [
    {
     "data": {
      "text/plain": [
       "TfidfVectorizer(analyzer='word', binary=False, decode_error='strict',\n",
       "                dtype=<class 'numpy.float64'>, encoding='utf-8',\n",
       "                input='content', lowercase=True, max_df=1.0, max_features=None,\n",
       "                min_df=1, ngram_range=(1, 4), norm='l2', preprocessor=None,\n",
       "                smooth_idf=True, stop_words=None, strip_accents=None,\n",
       "                sublinear_tf=False, token_pattern='(?u)\\\\b\\\\w\\\\w+\\\\b',\n",
       "                tokenizer=None, use_idf=True, vocabulary=None)"
      ]
     },
     "execution_count": 88,
     "metadata": {},
     "output_type": "execute_result"
    }
   ],
   "source": [
    "vectorizer.fit(dataset_clean.lyrics_clean[dataset_clean.set == 'train'].values)"
   ]
  },
  {
   "cell_type": "code",
   "execution_count": 89,
   "metadata": {},
   "outputs": [],
   "source": [
    "X = vectorizer.transform(dataset_clean.lyrics_clean[dataset_clean.set == 'train'].values)"
   ]
  },
  {
   "cell_type": "code",
   "execution_count": 90,
   "metadata": {},
   "outputs": [
    {
     "data": {
      "text/plain": [
       "(8332, 1879408)"
      ]
     },
     "execution_count": 90,
     "metadata": {},
     "output_type": "execute_result"
    }
   ],
   "source": [
    "X.shape"
   ]
  },
  {
   "cell_type": "code",
   "execution_count": 91,
   "metadata": {},
   "outputs": [],
   "source": [
    "y_train = [LABEL_TO_INDEX[x] for x in dataset_clean.genre[dataset_clean.set == 'train']]"
   ]
  },
  {
   "cell_type": "markdown",
   "metadata": {},
   "source": [
    "# Log reg"
   ]
  },
  {
   "cell_type": "code",
   "execution_count": 93,
   "metadata": {},
   "outputs": [],
   "source": [
    "from sklearn.linear_model import LogisticRegression"
   ]
  },
  {
   "cell_type": "code",
   "execution_count": 94,
   "metadata": {},
   "outputs": [],
   "source": [
    "model = LogisticRegression()"
   ]
  },
  {
   "cell_type": "code",
   "execution_count": 95,
   "metadata": {},
   "outputs": [
    {
     "name": "stderr",
     "output_type": "stream",
     "text": [
      "/home/fedor.kitashov/.local/lib/python3.6/site-packages/sklearn/linear_model/logistic.py:432: FutureWarning: Default solver will be changed to 'lbfgs' in 0.22. Specify a solver to silence this warning.\n",
      "  FutureWarning)\n",
      "/home/fedor.kitashov/.local/lib/python3.6/site-packages/sklearn/linear_model/logistic.py:469: FutureWarning: Default multi_class will be changed to 'auto' in 0.22. Specify the multi_class option to silence this warning.\n",
      "  \"this warning.\", FutureWarning)\n"
     ]
    },
    {
     "data": {
      "text/plain": [
       "LogisticRegression(C=1.0, class_weight=None, dual=False, fit_intercept=True,\n",
       "                   intercept_scaling=1, l1_ratio=None, max_iter=100,\n",
       "                   multi_class='warn', n_jobs=None, penalty='l2',\n",
       "                   random_state=None, solver='warn', tol=0.0001, verbose=0,\n",
       "                   warm_start=False)"
      ]
     },
     "execution_count": 95,
     "metadata": {},
     "output_type": "execute_result"
    }
   ],
   "source": [
    "model.fit(X, y_train)"
   ]
  },
  {
   "cell_type": "code",
   "execution_count": 96,
   "metadata": {},
   "outputs": [],
   "source": [
    "y_pred_train = model.predict(X)"
   ]
  },
  {
   "cell_type": "code",
   "execution_count": 97,
   "metadata": {},
   "outputs": [
    {
     "data": {
      "text/plain": [
       "Counter({13: 5749,\n",
       "         4: 223,\n",
       "         8: 1038,\n",
       "         2: 321,\n",
       "         10: 397,\n",
       "         12: 198,\n",
       "         6: 244,\n",
       "         1: 134,\n",
       "         5: 10,\n",
       "         11: 11,\n",
       "         0: 4,\n",
       "         3: 3})"
      ]
     },
     "execution_count": 97,
     "metadata": {},
     "output_type": "execute_result"
    }
   ],
   "source": [
    "Counter(y_pred_train)"
   ]
  },
  {
   "cell_type": "markdown",
   "metadata": {},
   "source": [
    "# Evaluate"
   ]
  },
  {
   "cell_type": "code",
   "execution_count": 98,
   "metadata": {},
   "outputs": [],
   "source": [
    "from sklearn.metrics import classification_report"
   ]
  },
  {
   "cell_type": "code",
   "execution_count": 99,
   "metadata": {},
   "outputs": [
    {
     "name": "stderr",
     "output_type": "stream",
     "text": [
      "/home/fedor.kitashov/.local/lib/python3.6/site-packages/sklearn/metrics/classification.py:1437: UndefinedMetricWarning: Precision and F-score are ill-defined and being set to 0.0 in labels with no predicted samples.\n",
      "  'precision', 'predicted', average, warn_for)\n"
     ]
    }
   ],
   "source": [
    "report_train = classification_report(y_train, y_pred_train)"
   ]
  },
  {
   "cell_type": "code",
   "execution_count": 100,
   "metadata": {},
   "outputs": [
    {
     "name": "stdout",
     "output_type": "stream",
     "text": [
      "              precision    recall  f1-score   support\n",
      "\n",
      "           0       1.00      0.03      0.06       137\n",
      "           1       0.90      0.19      0.32       627\n",
      "           2       0.78      0.36      0.50       684\n",
      "           3       1.00      0.01      0.02       304\n",
      "           4       0.83      0.34      0.49       543\n",
      "           5       1.00      0.14      0.24        72\n",
      "           6       0.96      0.32      0.49       724\n",
      "           7       0.00      0.00      0.00        42\n",
      "           8       0.70      0.63      0.66      1153\n",
      "           9       0.00      0.00      0.00       204\n",
      "          10       0.85      0.52      0.64       646\n",
      "          11       0.82      0.03      0.06       312\n",
      "          12       0.84      0.30      0.44       555\n",
      "          13       0.40      0.99      0.57      2297\n",
      "          14       0.00      0.00      0.00        32\n",
      "\n",
      "    accuracy                           0.52      8332\n",
      "   macro avg       0.67      0.26      0.30      8332\n",
      "weighted avg       0.69      0.52      0.47      8332\n",
      "\n"
     ]
    }
   ],
   "source": [
    "print (report_train)"
   ]
  },
  {
   "cell_type": "markdown",
   "metadata": {},
   "source": [
    "### Validation"
   ]
  },
  {
   "cell_type": "code",
   "execution_count": 101,
   "metadata": {},
   "outputs": [],
   "source": [
    "X_val = vectorizer.transform(dataset_clean.lyrics_clean[dataset_clean.set == 'val'].values)"
   ]
  },
  {
   "cell_type": "code",
   "execution_count": 102,
   "metadata": {},
   "outputs": [],
   "source": [
    "y_val = [LABEL_TO_INDEX[x] for x in dataset_clean.genre[dataset_clean.set == 'val']]"
   ]
  },
  {
   "cell_type": "code",
   "execution_count": 103,
   "metadata": {},
   "outputs": [],
   "source": [
    "y_pred_val = model.predict(X_val)"
   ]
  },
  {
   "cell_type": "code",
   "execution_count": 104,
   "metadata": {},
   "outputs": [
    {
     "data": {
      "text/plain": [
       "Counter({8: 431, 13: 333, 2: 66, 12: 39, 4: 48, 10: 47, 6: 27, 1: 13})"
      ]
     },
     "execution_count": 104,
     "metadata": {},
     "output_type": "execute_result"
    }
   ],
   "source": [
    "Counter(y_pred_val)"
   ]
  },
  {
   "cell_type": "code",
   "execution_count": 105,
   "metadata": {},
   "outputs": [],
   "source": [
    "report_val = classification_report(y_val, y_pred_val)"
   ]
  },
  {
   "cell_type": "code",
   "execution_count": 106,
   "metadata": {},
   "outputs": [
    {
     "name": "stdout",
     "output_type": "stream",
     "text": [
      "              precision    recall  f1-score   support\n",
      "\n",
      "           0       0.00      0.00      0.00        28\n",
      "           1       0.31      0.06      0.10        66\n",
      "           2       0.18      0.12      0.14       102\n",
      "           3       0.00      0.00      0.00        33\n",
      "           4       0.17      0.08      0.10       105\n",
      "           5       0.00      0.00      0.00         1\n",
      "           6       0.44      0.12      0.19       100\n",
      "           7       0.00      0.00      0.00        25\n",
      "           8       0.25      0.51      0.33       209\n",
      "           9       0.00      0.00      0.00        21\n",
      "          10       0.40      0.30      0.35        63\n",
      "          11       0.00      0.00      0.00        33\n",
      "          12       0.13      0.06      0.09        78\n",
      "          13       0.16      0.38      0.22       137\n",
      "          14       0.00      0.00      0.00         3\n",
      "\n",
      "    accuracy                           0.22      1004\n",
      "   macro avg       0.14      0.11      0.10      1004\n",
      "weighted avg       0.21      0.22      0.18      1004\n",
      "\n"
     ]
    }
   ],
   "source": [
    "print (report_val)"
   ]
  },
  {
   "cell_type": "markdown",
   "metadata": {},
   "source": [
    "# Test"
   ]
  },
  {
   "cell_type": "code",
   "execution_count": 107,
   "metadata": {},
   "outputs": [],
   "source": [
    "X_test = vectorizer.transform(dataset_clean.lyrics_clean[dataset_clean.set == 'test'].values)"
   ]
  },
  {
   "cell_type": "code",
   "execution_count": 108,
   "metadata": {},
   "outputs": [],
   "source": [
    "y_test = [LABEL_TO_INDEX[x] for x in dataset_clean.genre[dataset_clean.set == 'test']]"
   ]
  },
  {
   "cell_type": "code",
   "execution_count": 109,
   "metadata": {},
   "outputs": [],
   "source": [
    "y_pred_test = model.predict(X_test)"
   ]
  },
  {
   "cell_type": "code",
   "execution_count": 110,
   "metadata": {},
   "outputs": [],
   "source": [
    "report_test = classification_report(y_test, y_pred_test)"
   ]
  },
  {
   "cell_type": "code",
   "execution_count": 111,
   "metadata": {},
   "outputs": [
    {
     "name": "stdout",
     "output_type": "stream",
     "text": [
      "              precision    recall  f1-score   support\n",
      "\n",
      "           0       0.00      0.00      0.00        45\n",
      "           1       0.18      0.04      0.07        48\n",
      "           2       0.14      0.09      0.11       102\n",
      "           3       0.00      0.00      0.00        24\n",
      "           4       0.25      0.09      0.13       121\n",
      "           5       0.00      0.00      0.00         3\n",
      "           6       0.29      0.12      0.17        58\n",
      "           7       0.00      0.00      0.00         8\n",
      "           8       0.19      0.50      0.27       169\n",
      "           9       0.00      0.00      0.00        10\n",
      "          10       0.32      0.29      0.31        79\n",
      "          11       0.00      0.00      0.00        64\n",
      "          12       0.20      0.06      0.09       118\n",
      "          13       0.20      0.37      0.26       194\n",
      "          14       0.00      0.00      0.00         3\n",
      "\n",
      "    accuracy                           0.21      1046\n",
      "   macro avg       0.12      0.10      0.09      1046\n",
      "weighted avg       0.18      0.21      0.17      1046\n",
      "\n"
     ]
    }
   ],
   "source": [
    "print (report_test)"
   ]
  },
  {
   "cell_type": "code",
   "execution_count": null,
   "metadata": {},
   "outputs": [],
   "source": []
  },
  {
   "cell_type": "markdown",
   "metadata": {},
   "source": [
    "# Усложним модель"
   ]
  },
  {
   "cell_type": "code",
   "execution_count": 114,
   "metadata": {},
   "outputs": [],
   "source": [
    "from xgboost import XGBClassifier"
   ]
  },
  {
   "cell_type": "code",
   "execution_count": 116,
   "metadata": {},
   "outputs": [],
   "source": [
    "model = XGBClassifier(n_jobs=8)"
   ]
  },
  {
   "cell_type": "markdown",
   "metadata": {},
   "source": [
    "# Train"
   ]
  },
  {
   "cell_type": "code",
   "execution_count": 117,
   "metadata": {},
   "outputs": [
    {
     "data": {
      "text/plain": [
       "XGBClassifier(base_score=0.5, booster='gbtree', colsample_bylevel=1,\n",
       "              colsample_bytree=1, gamma=0, learning_rate=0.1, max_delta_step=0,\n",
       "              max_depth=3, min_child_weight=1, missing=None, n_estimators=100,\n",
       "              n_jobs=8, nthread=None, objective='multi:softprob',\n",
       "              random_state=0, reg_alpha=0, reg_lambda=1, scale_pos_weight=1,\n",
       "              seed=None, silent=True, subsample=1)"
      ]
     },
     "execution_count": 117,
     "metadata": {},
     "output_type": "execute_result"
    }
   ],
   "source": [
    "model.fit(X, y_train)"
   ]
  },
  {
   "cell_type": "code",
   "execution_count": 118,
   "metadata": {},
   "outputs": [],
   "source": [
    "y_pred_train = model.predict(X)"
   ]
  },
  {
   "cell_type": "code",
   "execution_count": 119,
   "metadata": {},
   "outputs": [
    {
     "data": {
      "text/plain": [
       "Counter({6: 402,\n",
       "         13: 4582,\n",
       "         4: 425,\n",
       "         8: 1200,\n",
       "         12: 283,\n",
       "         5: 65,\n",
       "         2: 419,\n",
       "         10: 502,\n",
       "         1: 226,\n",
       "         11: 78,\n",
       "         0: 60,\n",
       "         14: 12,\n",
       "         9: 20,\n",
       "         3: 51,\n",
       "         7: 7})"
      ]
     },
     "execution_count": 119,
     "metadata": {},
     "output_type": "execute_result"
    }
   ],
   "source": [
    "Counter(y_pred_train)"
   ]
  },
  {
   "cell_type": "markdown",
   "metadata": {},
   "source": [
    "# Evaluate"
   ]
  },
  {
   "cell_type": "code",
   "execution_count": 120,
   "metadata": {},
   "outputs": [],
   "source": [
    "from sklearn.metrics import classification_report"
   ]
  },
  {
   "cell_type": "code",
   "execution_count": 121,
   "metadata": {},
   "outputs": [],
   "source": [
    "report_train = classification_report(y_train, y_pred_train)"
   ]
  },
  {
   "cell_type": "code",
   "execution_count": 122,
   "metadata": {},
   "outputs": [
    {
     "name": "stdout",
     "output_type": "stream",
     "text": [
      "              precision    recall  f1-score   support\n",
      "\n",
      "           0       0.92      0.40      0.56       137\n",
      "           1       0.79      0.28      0.42       627\n",
      "           2       0.56      0.34      0.43       684\n",
      "           3       0.92      0.15      0.26       304\n",
      "           4       0.59      0.46      0.52       543\n",
      "           5       0.97      0.88      0.92        72\n",
      "           6       0.75      0.42      0.54       724\n",
      "           7       0.71      0.12      0.20        42\n",
      "           8       0.41      0.43      0.42      1153\n",
      "           9       1.00      0.10      0.18       204\n",
      "          10       0.81      0.63      0.71       646\n",
      "          11       0.87      0.22      0.35       312\n",
      "          12       0.75      0.38      0.50       555\n",
      "          13       0.47      0.95      0.63      2297\n",
      "          14       0.92      0.34      0.50        32\n",
      "\n",
      "    accuracy                           0.54      8332\n",
      "   macro avg       0.76      0.41      0.48      8332\n",
      "weighted avg       0.63      0.54      0.51      8332\n",
      "\n"
     ]
    }
   ],
   "source": [
    "print (report_train)"
   ]
  },
  {
   "cell_type": "markdown",
   "metadata": {},
   "source": [
    "### Validation"
   ]
  },
  {
   "cell_type": "code",
   "execution_count": 123,
   "metadata": {},
   "outputs": [],
   "source": [
    "X_val = vectorizer.transform(dataset_clean.lyrics_clean[dataset_clean.set == 'val'].values)"
   ]
  },
  {
   "cell_type": "code",
   "execution_count": 124,
   "metadata": {},
   "outputs": [],
   "source": [
    "y_val = [LABEL_TO_INDEX[x] for x in dataset_clean.genre[dataset_clean.set == 'val']]"
   ]
  },
  {
   "cell_type": "code",
   "execution_count": 125,
   "metadata": {},
   "outputs": [],
   "source": [
    "y_pred_val = model.predict(X_val)"
   ]
  },
  {
   "cell_type": "code",
   "execution_count": 126,
   "metadata": {},
   "outputs": [
    {
     "data": {
      "text/plain": [
       "Counter({6: 86,\n",
       "         8: 317,\n",
       "         4: 174,\n",
       "         2: 132,\n",
       "         13: 123,\n",
       "         12: 55,\n",
       "         10: 29,\n",
       "         1: 60,\n",
       "         0: 7,\n",
       "         3: 8,\n",
       "         14: 1,\n",
       "         11: 11,\n",
       "         9: 1})"
      ]
     },
     "execution_count": 126,
     "metadata": {},
     "output_type": "execute_result"
    }
   ],
   "source": [
    "Counter(y_pred_val)"
   ]
  },
  {
   "cell_type": "code",
   "execution_count": 127,
   "metadata": {},
   "outputs": [
    {
     "name": "stderr",
     "output_type": "stream",
     "text": [
      "/home/fedor.kitashov/.local/lib/python3.6/site-packages/sklearn/metrics/classification.py:1437: UndefinedMetricWarning: Precision and F-score are ill-defined and being set to 0.0 in labels with no predicted samples.\n",
      "  'precision', 'predicted', average, warn_for)\n"
     ]
    }
   ],
   "source": [
    "report_val = classification_report(y_val, y_pred_val)"
   ]
  },
  {
   "cell_type": "code",
   "execution_count": 128,
   "metadata": {},
   "outputs": [
    {
     "name": "stdout",
     "output_type": "stream",
     "text": [
      "              precision    recall  f1-score   support\n",
      "\n",
      "           0       0.14      0.04      0.06        28\n",
      "           1       0.20      0.18      0.19        66\n",
      "           2       0.13      0.17      0.15       102\n",
      "           3       0.12      0.03      0.05        33\n",
      "           4       0.19      0.31      0.24       105\n",
      "           5       0.00      0.00      0.00         1\n",
      "           6       0.29      0.25      0.27       100\n",
      "           7       0.00      0.00      0.00        25\n",
      "           8       0.24      0.36      0.29       209\n",
      "           9       0.00      0.00      0.00        21\n",
      "          10       0.48      0.22      0.30        63\n",
      "          11       0.00      0.00      0.00        33\n",
      "          12       0.09      0.06      0.08        78\n",
      "          13       0.20      0.18      0.18       137\n",
      "          14       0.00      0.00      0.00         3\n",
      "\n",
      "    accuracy                           0.21      1004\n",
      "   macro avg       0.14      0.12      0.12      1004\n",
      "weighted avg       0.20      0.21      0.19      1004\n",
      "\n"
     ]
    }
   ],
   "source": [
    "print (report_val)"
   ]
  },
  {
   "cell_type": "markdown",
   "metadata": {},
   "source": [
    "# Test"
   ]
  },
  {
   "cell_type": "code",
   "execution_count": 129,
   "metadata": {},
   "outputs": [],
   "source": [
    "X_test = vectorizer.transform(dataset_clean.lyrics_clean[dataset_clean.set == 'test'].values)"
   ]
  },
  {
   "cell_type": "code",
   "execution_count": 130,
   "metadata": {},
   "outputs": [],
   "source": [
    "y_test = [LABEL_TO_INDEX[x] for x in dataset_clean.genre[dataset_clean.set == 'test']]"
   ]
  },
  {
   "cell_type": "code",
   "execution_count": 131,
   "metadata": {},
   "outputs": [],
   "source": [
    "y_pred_test = model.predict(X_test)"
   ]
  },
  {
   "cell_type": "code",
   "execution_count": 132,
   "metadata": {},
   "outputs": [],
   "source": [
    "report_test = classification_report(y_test, y_pred_test)"
   ]
  },
  {
   "cell_type": "code",
   "execution_count": 133,
   "metadata": {},
   "outputs": [
    {
     "name": "stdout",
     "output_type": "stream",
     "text": [
      "              precision    recall  f1-score   support\n",
      "\n",
      "           0       0.44      0.09      0.15        45\n",
      "           1       0.05      0.06      0.06        48\n",
      "           2       0.12      0.16      0.14       102\n",
      "           3       0.00      0.00      0.00        24\n",
      "           4       0.21      0.25      0.23       121\n",
      "           5       0.00      0.00      0.00         3\n",
      "           6       0.16      0.22      0.19        58\n",
      "           7       0.00      0.00      0.00         8\n",
      "           8       0.21      0.43      0.28       169\n",
      "           9       0.00      0.00      0.00        10\n",
      "          10       0.41      0.25      0.31        79\n",
      "          11       0.30      0.09      0.14        64\n",
      "          12       0.18      0.08      0.11       118\n",
      "          13       0.23      0.18      0.20       194\n",
      "          14       0.00      0.00      0.00         3\n",
      "\n",
      "    accuracy                           0.20      1046\n",
      "   macro avg       0.15      0.12      0.12      1046\n",
      "weighted avg       0.21      0.20      0.19      1046\n",
      "\n"
     ]
    }
   ],
   "source": [
    "print (report_test)"
   ]
  },
  {
   "cell_type": "code",
   "execution_count": null,
   "metadata": {},
   "outputs": [],
   "source": []
  },
  {
   "cell_type": "markdown",
   "metadata": {},
   "source": [
    "# Confusion matrix"
   ]
  },
  {
   "cell_type": "code",
   "execution_count": 198,
   "metadata": {},
   "outputs": [],
   "source": [
    "from sklearn import svm, datasets\n",
    "from sklearn.model_selection import train_test_split\n",
    "from sklearn.metrics import confusion_matrix\n",
    "from sklearn.utils.multiclass import unique_labels\n",
    "\n",
    "\n",
    "def plot_confusion_matrix(y_true, y_pred, classes,\n",
    "                          normalize=False,\n",
    "                          title=None,\n",
    "                          cmap=plt.cm.Blues):\n",
    "    \"\"\"\n",
    "    This function prints and plots the confusion matrix.\n",
    "    Normalization can be applied by setting `normalize=True`.\n",
    "    \"\"\"\n",
    "    if not title:\n",
    "        if normalize:\n",
    "            title = 'Normalized confusion matrix'\n",
    "        else:\n",
    "            title = 'Confusion matrix, without normalization'\n",
    "\n",
    "    # Compute confusion matrix\n",
    "    cm = confusion_matrix(y_true, y_pred)\n",
    "    # Only use the labels that appear in the data\n",
    "    classes = classes[unique_labels(y_true, y_pred)]\n",
    "    if normalize:\n",
    "        cm = cm.astype('float') / cm.sum(axis=1)[:, np.newaxis]\n",
    "        print(\"Normalized confusion matrix\")\n",
    "    else:\n",
    "        print('Confusion matrix, without normalization')\n",
    "\n",
    "    print(cm)\n",
    "\n",
    "\n",
    "    fig, ax = plt.subplots()\n",
    "    im = ax.imshow(cm, interpolation='nearest', cmap=cmap)\n",
    "    ax.figure.colorbar(im, ax=ax)\n",
    "    # We want to show all ticks...\n",
    "    ax.set(xticks=np.arange(cm.shape[1]),\n",
    "           yticks=np.arange(cm.shape[0]),\n",
    "           # ... and label them with the respective list entries\n",
    "           xticklabels=classes, yticklabels=classes,\n",
    "           title=title,\n",
    "           ylabel='True label',\n",
    "           xlabel='Predicted label')\n",
    "\n",
    "    # Rotate the tick labels and set their alignment.\n",
    "    plt.setp(ax.get_xticklabels(), rotation=45, ha=\"right\",\n",
    "             rotation_mode=\"anchor\")\n",
    "    \n",
    "    # Loop over data dimensions and create text annotations.\n",
    "    fmt = '.2f' if normalize else 'd'\n",
    "    thresh = cm.max() / 2.\n",
    "    for i in range(cm.shape[0]):\n",
    "        for j in range(cm.shape[1]):\n",
    "            ax.text(j, i, format(cm[i, j], fmt),\n",
    "                    ha=\"center\", va=\"center\",\n",
    "                    color=\"white\" if cm[i, j] > thresh else \"black\")\n",
    "    fig.tight_layout()\n",
    "    return ax\n",
    "\n"
   ]
  },
  {
   "cell_type": "code",
   "execution_count": 159,
   "metadata": {},
   "outputs": [],
   "source": [
    "from sklearn.metrics import confusion_matrix"
   ]
  },
  {
   "cell_type": "code",
   "execution_count": 151,
   "metadata": {},
   "outputs": [],
   "source": [
    "test_confusion = confusion_matrix(y_test, y_pred_test)"
   ]
  },
  {
   "cell_type": "code",
   "execution_count": 156,
   "metadata": {},
   "outputs": [
    {
     "data": {
      "text/plain": [
       "['Blues',\n",
       " 'Country',\n",
       " 'Electronic',\n",
       " 'Folk',\n",
       " 'Jazz',\n",
       " 'Latin',\n",
       " 'Metal',\n",
       " 'New Age',\n",
       " 'Pop',\n",
       " 'Punk',\n",
       " 'Rap',\n",
       " 'Reggae',\n",
       " 'RnB',\n",
       " 'Rock',\n",
       " 'World']"
      ]
     },
     "execution_count": 156,
     "metadata": {},
     "output_type": "execute_result"
    }
   ],
   "source": [
    "list(LABEL_TO_INDEX.keys())"
   ]
  },
  {
   "cell_type": "code",
   "execution_count": 162,
   "metadata": {},
   "outputs": [
    {
     "data": {
      "text/plain": [
       "[8,\n",
       " 2,\n",
       " 13,\n",
       " 13,\n",
       " 13,\n",
       " 8,\n",
       " 2,\n",
       " 13,\n",
       " 12,\n",
       " 13,\n",
       " 13,\n",
       " 13,\n",
       " 13,\n",
       " 13,\n",
       " 3,\n",
       " 10,\n",
       " 8,\n",
       " 13,\n",
       " 11,\n",
       " 0,\n",
       " 0,\n",
       " 10,\n",
       " 13,\n",
       " 13,\n",
       " 2,\n",
       " 13,\n",
       " 12,\n",
       " 8,\n",
       " 13,\n",
       " 10,\n",
       " 12,\n",
       " 13,\n",
       " 13,\n",
       " 13,\n",
       " 13,\n",
       " 13,\n",
       " 10,\n",
       " 8,\n",
       " 8,\n",
       " 13,\n",
       " 13,\n",
       " 13,\n",
       " 4,\n",
       " 13,\n",
       " 10,\n",
       " 11,\n",
       " 8,\n",
       " 0,\n",
       " 12,\n",
       " 13,\n",
       " 12,\n",
       " 2,\n",
       " 0,\n",
       " 8,\n",
       " 13,\n",
       " 10,\n",
       " 13,\n",
       " 13,\n",
       " 11,\n",
       " 6,\n",
       " 10,\n",
       " 12,\n",
       " 12,\n",
       " 13,\n",
       " 13,\n",
       " 10,\n",
       " 13,\n",
       " 13,\n",
       " 1,\n",
       " 11,\n",
       " 13,\n",
       " 4,\n",
       " 2,\n",
       " 10,\n",
       " 13,\n",
       " 13,\n",
       " 13,\n",
       " 3,\n",
       " 13,\n",
       " 2,\n",
       " 13,\n",
       " 10,\n",
       " 8,\n",
       " 13,\n",
       " 13,\n",
       " 13,\n",
       " 13,\n",
       " 12,\n",
       " 6,\n",
       " 13,\n",
       " 13,\n",
       " 13,\n",
       " 13,\n",
       " 6,\n",
       " 6,\n",
       " 3,\n",
       " 2,\n",
       " 13,\n",
       " 13,\n",
       " 8,\n",
       " 4,\n",
       " 13,\n",
       " 13,\n",
       " 6,\n",
       " 13,\n",
       " 13,\n",
       " 13,\n",
       " 13,\n",
       " 12,\n",
       " 1,\n",
       " 13,\n",
       " 8,\n",
       " 11,\n",
       " 13,\n",
       " 13,\n",
       " 13,\n",
       " 13,\n",
       " 13,\n",
       " 13,\n",
       " 10,\n",
       " 13,\n",
       " 1,\n",
       " 13,\n",
       " 13,\n",
       " 0,\n",
       " 3,\n",
       " 13,\n",
       " 1,\n",
       " 13,\n",
       " 13,\n",
       " 3,\n",
       " 13,\n",
       " 13,\n",
       " 4,\n",
       " 8,\n",
       " 4,\n",
       " 13,\n",
       " 12,\n",
       " 13,\n",
       " 13,\n",
       " 13,\n",
       " 4,\n",
       " 12,\n",
       " 10,\n",
       " 13,\n",
       " 6,\n",
       " 13,\n",
       " 13,\n",
       " 4,\n",
       " 13,\n",
       " 4,\n",
       " 1,\n",
       " 13,\n",
       " 4,\n",
       " 13,\n",
       " 13,\n",
       " 1,\n",
       " 13,\n",
       " 13,\n",
       " 8,\n",
       " 13,\n",
       " 13,\n",
       " 13,\n",
       " 13,\n",
       " 13,\n",
       " 13,\n",
       " 13,\n",
       " 13,\n",
       " 13,\n",
       " 11,\n",
       " 13,\n",
       " 13,\n",
       " 2,\n",
       " 0,\n",
       " 4,\n",
       " 13,\n",
       " 13,\n",
       " 13,\n",
       " 8,\n",
       " 6,\n",
       " 13,\n",
       " 13,\n",
       " 0,\n",
       " 1,\n",
       " 13,\n",
       " 13,\n",
       " 1,\n",
       " 13,\n",
       " 2,\n",
       " 11,\n",
       " 8,\n",
       " 13,\n",
       " 13,\n",
       " 13,\n",
       " 13,\n",
       " 13,\n",
       " 10,\n",
       " 13,\n",
       " 8,\n",
       " 11,\n",
       " 13,\n",
       " 13,\n",
       " 2,\n",
       " 12,\n",
       " 13,\n",
       " 13,\n",
       " 13,\n",
       " 13,\n",
       " 13,\n",
       " 13,\n",
       " 13,\n",
       " 13,\n",
       " 13,\n",
       " 11,\n",
       " 13,\n",
       " 13,\n",
       " 8,\n",
       " 13,\n",
       " 7,\n",
       " 4,\n",
       " 8,\n",
       " 13,\n",
       " 13,\n",
       " 12,\n",
       " 12,\n",
       " 13,\n",
       " 8,\n",
       " 8,\n",
       " 13,\n",
       " 12,\n",
       " 10,\n",
       " 13,\n",
       " 1,\n",
       " 4,\n",
       " 14,\n",
       " 1,\n",
       " 2,\n",
       " 8,\n",
       " 8,\n",
       " 8,\n",
       " 2,\n",
       " 13,\n",
       " 4,\n",
       " 8,\n",
       " 13,\n",
       " 13,\n",
       " 13,\n",
       " 13,\n",
       " 1,\n",
       " 13,\n",
       " 2,\n",
       " 4,\n",
       " 11,\n",
       " 13,\n",
       " 11,\n",
       " 13,\n",
       " 2,\n",
       " 4,\n",
       " 13,\n",
       " 13,\n",
       " 13,\n",
       " 13,\n",
       " 8,\n",
       " 13,\n",
       " 8,\n",
       " 6,\n",
       " 13,\n",
       " 13,\n",
       " 10,\n",
       " 13,\n",
       " 11,\n",
       " 4,\n",
       " 13,\n",
       " 13,\n",
       " 13,\n",
       " 12,\n",
       " 8,\n",
       " 13,\n",
       " 8,\n",
       " 8,\n",
       " 13,\n",
       " 4,\n",
       " 13,\n",
       " 1,\n",
       " 2,\n",
       " 11,\n",
       " 8,\n",
       " 6,\n",
       " 8,\n",
       " 13,\n",
       " 13,\n",
       " 13,\n",
       " 13,\n",
       " 8,\n",
       " 13,\n",
       " 12,\n",
       " 1,\n",
       " 13,\n",
       " 13,\n",
       " 13,\n",
       " 6,\n",
       " 13,\n",
       " 2,\n",
       " 13,\n",
       " 13,\n",
       " 1,\n",
       " 8,\n",
       " 13,\n",
       " 10,\n",
       " 12,\n",
       " 13,\n",
       " 12,\n",
       " 13,\n",
       " 13,\n",
       " 13,\n",
       " 13,\n",
       " 8,\n",
       " 13,\n",
       " 10,\n",
       " 13,\n",
       " 13,\n",
       " 10,\n",
       " 9,\n",
       " 13,\n",
       " 13,\n",
       " 4,\n",
       " 13,\n",
       " 13,\n",
       " 12,\n",
       " 0,\n",
       " 13,\n",
       " 8,\n",
       " 13,\n",
       " 13,\n",
       " 13,\n",
       " 11,\n",
       " 13,\n",
       " 8,\n",
       " 13,\n",
       " 12,\n",
       " 1,\n",
       " 13,\n",
       " 2,\n",
       " 13,\n",
       " 13,\n",
       " 6,\n",
       " 4,\n",
       " 4,\n",
       " 13,\n",
       " 8,\n",
       " 13,\n",
       " 13,\n",
       " 13,\n",
       " 12,\n",
       " 13,\n",
       " 13,\n",
       " 13,\n",
       " 1,\n",
       " 8,\n",
       " 13,\n",
       " 13,\n",
       " 12,\n",
       " 13,\n",
       " 13,\n",
       " 12,\n",
       " 8,\n",
       " 4,\n",
       " 2,\n",
       " 8,\n",
       " 13,\n",
       " 13,\n",
       " 10,\n",
       " 3,\n",
       " 10,\n",
       " 6,\n",
       " 13,\n",
       " 11,\n",
       " 0,\n",
       " 4,\n",
       " 11,\n",
       " 10,\n",
       " 12,\n",
       " 10,\n",
       " 14,\n",
       " 4,\n",
       " 11,\n",
       " 8,\n",
       " 4,\n",
       " 2,\n",
       " 1,\n",
       " 8,\n",
       " 12,\n",
       " 6,\n",
       " 11,\n",
       " 8,\n",
       " 0,\n",
       " 10,\n",
       " 12,\n",
       " 8,\n",
       " 4,\n",
       " 2,\n",
       " 0,\n",
       " 2,\n",
       " 12,\n",
       " 4,\n",
       " 11,\n",
       " 2,\n",
       " 2,\n",
       " 2,\n",
       " 1,\n",
       " 11,\n",
       " 4,\n",
       " 8,\n",
       " 4,\n",
       " 10,\n",
       " 9,\n",
       " 12,\n",
       " 6,\n",
       " 6,\n",
       " 2,\n",
       " 2,\n",
       " 4,\n",
       " 10,\n",
       " 2,\n",
       " 2,\n",
       " 8,\n",
       " 11,\n",
       " 12,\n",
       " 8,\n",
       " 8,\n",
       " 12,\n",
       " 12,\n",
       " 1,\n",
       " 11,\n",
       " 3,\n",
       " 12,\n",
       " 0,\n",
       " 0,\n",
       " 7,\n",
       " 12,\n",
       " 8,\n",
       " 6,\n",
       " 12,\n",
       " 1,\n",
       " 10,\n",
       " 4,\n",
       " 0,\n",
       " 2,\n",
       " 12,\n",
       " 2,\n",
       " 8,\n",
       " 4,\n",
       " 2,\n",
       " 6,\n",
       " 4,\n",
       " 8,\n",
       " 0,\n",
       " 10,\n",
       " 0,\n",
       " 8,\n",
       " 4,\n",
       " 2,\n",
       " 8,\n",
       " 2,\n",
       " 12,\n",
       " 12,\n",
       " 4,\n",
       " 12,\n",
       " 0,\n",
       " 6,\n",
       " 12,\n",
       " 10,\n",
       " 11,\n",
       " 2,\n",
       " 11,\n",
       " 3,\n",
       " 12,\n",
       " 4,\n",
       " 10,\n",
       " 1,\n",
       " 2,\n",
       " 6,\n",
       " 2,\n",
       " 1,\n",
       " 8,\n",
       " 12,\n",
       " 8,\n",
       " 8,\n",
       " 10,\n",
       " 2,\n",
       " 4,\n",
       " 4,\n",
       " 6,\n",
       " 1,\n",
       " 6,\n",
       " 4,\n",
       " 2,\n",
       " 12,\n",
       " 2,\n",
       " 6,\n",
       " 14,\n",
       " 12,\n",
       " 4,\n",
       " 12,\n",
       " 10,\n",
       " 11,\n",
       " 2,\n",
       " 11,\n",
       " 12,\n",
       " 11,\n",
       " 1,\n",
       " 12,\n",
       " 0,\n",
       " 1,\n",
       " 4,\n",
       " 3,\n",
       " 4,\n",
       " 4,\n",
       " 8,\n",
       " 11,\n",
       " 6,\n",
       " 12,\n",
       " 8,\n",
       " 12,\n",
       " 12,\n",
       " 12,\n",
       " 1,\n",
       " 10,\n",
       " 12,\n",
       " 8,\n",
       " 6,\n",
       " 2,\n",
       " 4,\n",
       " 2,\n",
       " 4,\n",
       " 8,\n",
       " 12,\n",
       " 8,\n",
       " 8,\n",
       " 0,\n",
       " 6,\n",
       " 12,\n",
       " 12,\n",
       " 11,\n",
       " 12,\n",
       " 10,\n",
       " 8,\n",
       " 6,\n",
       " 4,\n",
       " 12,\n",
       " 4,\n",
       " 2,\n",
       " 1,\n",
       " 12,\n",
       " 11,\n",
       " 4,\n",
       " 2,\n",
       " 2,\n",
       " 0,\n",
       " 10,\n",
       " 2,\n",
       " 11,\n",
       " 12,\n",
       " 6,\n",
       " 11,\n",
       " 11,\n",
       " 6,\n",
       " 10,\n",
       " 2,\n",
       " 12,\n",
       " 0,\n",
       " 2,\n",
       " 12,\n",
       " 12,\n",
       " 12,\n",
       " 0,\n",
       " 8,\n",
       " 4,\n",
       " 0,\n",
       " 7,\n",
       " 8,\n",
       " 2,\n",
       " 12,\n",
       " 3,\n",
       " 0,\n",
       " 2,\n",
       " 4,\n",
       " 4,\n",
       " 8,\n",
       " 12,\n",
       " 8,\n",
       " 12,\n",
       " 12,\n",
       " 2,\n",
       " 1,\n",
       " 6,\n",
       " 4,\n",
       " 4,\n",
       " 1,\n",
       " 2,\n",
       " 2,\n",
       " 6,\n",
       " 12,\n",
       " 8,\n",
       " 11,\n",
       " 4,\n",
       " 0,\n",
       " 8,\n",
       " 4,\n",
       " 4,\n",
       " 1,\n",
       " 8,\n",
       " 4,\n",
       " 5,\n",
       " 12,\n",
       " 6,\n",
       " 8,\n",
       " 2,\n",
       " 12,\n",
       " 12,\n",
       " 7,\n",
       " 4,\n",
       " 4,\n",
       " 11,\n",
       " 1,\n",
       " 3,\n",
       " 12,\n",
       " 0,\n",
       " 6,\n",
       " 4,\n",
       " 8,\n",
       " 10,\n",
       " 12,\n",
       " 4,\n",
       " 12,\n",
       " 12,\n",
       " 12,\n",
       " 1,\n",
       " 8,\n",
       " 0,\n",
       " 8,\n",
       " 6,\n",
       " 2,\n",
       " 4,\n",
       " 8,\n",
       " 8,\n",
       " 4,\n",
       " 12,\n",
       " 8,\n",
       " 1,\n",
       " 0,\n",
       " 1,\n",
       " 3,\n",
       " 4,\n",
       " 4,\n",
       " 8,\n",
       " 10,\n",
       " 11,\n",
       " 2,\n",
       " 10,\n",
       " 8,\n",
       " 10,\n",
       " 1,\n",
       " 8,\n",
       " 8,\n",
       " 11,\n",
       " 4,\n",
       " 4,\n",
       " 4,\n",
       " 10,\n",
       " 11,\n",
       " 12,\n",
       " 8,\n",
       " 10,\n",
       " 8,\n",
       " 4,\n",
       " 6,\n",
       " 2,\n",
       " 2,\n",
       " 4,\n",
       " 2,\n",
       " 4,\n",
       " 11,\n",
       " 2,\n",
       " 8,\n",
       " 12,\n",
       " 0,\n",
       " 10,\n",
       " 10,\n",
       " 12,\n",
       " 6,\n",
       " 8,\n",
       " 11,\n",
       " 1,\n",
       " 8,\n",
       " 8,\n",
       " 8,\n",
       " 12,\n",
       " 2,\n",
       " 8,\n",
       " 3,\n",
       " 8,\n",
       " 4,\n",
       " 9,\n",
       " 3,\n",
       " 8,\n",
       " 8,\n",
       " 6,\n",
       " 8,\n",
       " 9,\n",
       " 7,\n",
       " 2,\n",
       " 3,\n",
       " 12,\n",
       " 8,\n",
       " 10,\n",
       " 8,\n",
       " 1,\n",
       " 8,\n",
       " 8,\n",
       " 4,\n",
       " 2,\n",
       " 9,\n",
       " 8,\n",
       " 12,\n",
       " 12,\n",
       " 0,\n",
       " 8,\n",
       " 10,\n",
       " 2,\n",
       " 4,\n",
       " 2,\n",
       " 8,\n",
       " 11,\n",
       " 4,\n",
       " 6,\n",
       " 8,\n",
       " 1,\n",
       " 10,\n",
       " 11,\n",
       " 6,\n",
       " 8,\n",
       " 12,\n",
       " 1,\n",
       " 12,\n",
       " 8,\n",
       " 2,\n",
       " 8,\n",
       " 4,\n",
       " 3,\n",
       " 6,\n",
       " 2,\n",
       " 4,\n",
       " 12,\n",
       " 11,\n",
       " 8,\n",
       " 8,\n",
       " 12,\n",
       " 2,\n",
       " 4,\n",
       " 10,\n",
       " 4,\n",
       " 12,\n",
       " 1,\n",
       " 8,\n",
       " 9,\n",
       " 12,\n",
       " 6,\n",
       " 2,\n",
       " 6,\n",
       " 4,\n",
       " 0,\n",
       " 0,\n",
       " 3,\n",
       " 11,\n",
       " 8,\n",
       " 0,\n",
       " 10,\n",
       " 2,\n",
       " 10,\n",
       " 2,\n",
       " 10,\n",
       " 10,\n",
       " 10,\n",
       " 0,\n",
       " 8,\n",
       " 6,\n",
       " 8,\n",
       " 8,\n",
       " 12,\n",
       " 12,\n",
       " 11,\n",
       " 1,\n",
       " 4,\n",
       " 10,\n",
       " 8,\n",
       " 4,\n",
       " 10,\n",
       " 2,\n",
       " 10,\n",
       " 11,\n",
       " 8,\n",
       " 9,\n",
       " 6,\n",
       " 12,\n",
       " 10,\n",
       " 11,\n",
       " 10,\n",
       " 2,\n",
       " 10,\n",
       " 2,\n",
       " 8,\n",
       " 8,\n",
       " 11,\n",
       " 0,\n",
       " 1,\n",
       " 8,\n",
       " 11,\n",
       " 6,\n",
       " 2,\n",
       " 8,\n",
       " 12,\n",
       " 4,\n",
       " 10,\n",
       " 12,\n",
       " 2,\n",
       " 3,\n",
       " 12,\n",
       " 12,\n",
       " 9,\n",
       " 12,\n",
       " 2,\n",
       " 2,\n",
       " 11,\n",
       " 2,\n",
       " 12,\n",
       " 5,\n",
       " 11,\n",
       " 8,\n",
       " 0,\n",
       " 11,\n",
       " 12,\n",
       " 8,\n",
       " 4,\n",
       " 10,\n",
       " 2,\n",
       " 4,\n",
       " 11,\n",
       " 4,\n",
       " 10,\n",
       " 8,\n",
       " 4,\n",
       " 8,\n",
       " 10,\n",
       " 10,\n",
       " 8,\n",
       " 9,\n",
       " 8,\n",
       " 12,\n",
       " 2,\n",
       " 12,\n",
       " 0,\n",
       " 12,\n",
       " 8,\n",
       " 8,\n",
       " 4,\n",
       " 4,\n",
       " 8,\n",
       " 8,\n",
       " 4,\n",
       " 4,\n",
       " 8,\n",
       " 3,\n",
       " 3,\n",
       " 6,\n",
       " 4,\n",
       " 4,\n",
       " 4,\n",
       " 10,\n",
       " 8,\n",
       " 0,\n",
       " 12,\n",
       " 11,\n",
       " 2,\n",
       " 6,\n",
       " 4,\n",
       " 4,\n",
       " 6,\n",
       " 10,\n",
       " 3,\n",
       " 8,\n",
       " 0,\n",
       " 0,\n",
       " 4,\n",
       " 0,\n",
       " 7,\n",
       " 4,\n",
       " 3,\n",
       " 8,\n",
       " 7,\n",
       " 11,\n",
       " 10,\n",
       " 4,\n",
       " 11,\n",
       " 10,\n",
       " 8,\n",
       " 8,\n",
       " 4,\n",
       " 8,\n",
       " 11,\n",
       " 2,\n",
       " 4,\n",
       " 8,\n",
       " 10,\n",
       " 8,\n",
       " 6,\n",
       " 4,\n",
       " 10,\n",
       " 8,\n",
       " 2,\n",
       " 12,\n",
       " 8,\n",
       " 2,\n",
       " 11,\n",
       " 8,\n",
       " 8,\n",
       " 0,\n",
       " 10,\n",
       " 2,\n",
       " 2,\n",
       " 12,\n",
       " 2,\n",
       " 8,\n",
       " 6,\n",
       " 8,\n",
       " 12,\n",
       " 8,\n",
       " 4,\n",
       " 8,\n",
       " 8,\n",
       " 8,\n",
       " 4,\n",
       " 1,\n",
       " 9,\n",
       " 4,\n",
       " 2,\n",
       " 8,\n",
       " 6,\n",
       " 4,\n",
       " 4,\n",
       " 4,\n",
       " 2,\n",
       " 8,\n",
       " 8,\n",
       " 8,\n",
       " 4,\n",
       " 2,\n",
       " 8,\n",
       " 12,\n",
       " 8,\n",
       " 2,\n",
       " 2,\n",
       " 12,\n",
       " 11,\n",
       " 8,\n",
       " 6,\n",
       " 12,\n",
       " 10,\n",
       " 0,\n",
       " 8,\n",
       " 2,\n",
       " 0,\n",
       " 4,\n",
       " 8,\n",
       " 8,\n",
       " 4,\n",
       " 2,\n",
       " 11,\n",
       " 1,\n",
       " 6,\n",
       " 8,\n",
       " 4,\n",
       " 6,\n",
       " 2,\n",
       " 4,\n",
       " 12,\n",
       " 5,\n",
       " 8,\n",
       " 4,\n",
       " 3,\n",
       " 0,\n",
       " 4,\n",
       " 12,\n",
       " 6,\n",
       " 8,\n",
       " 2,\n",
       " 11,\n",
       " 4,\n",
       " 10,\n",
       " 3,\n",
       " ...]"
      ]
     },
     "execution_count": 162,
     "metadata": {},
     "output_type": "execute_result"
    }
   ],
   "source": [
    "y_test"
   ]
  },
  {
   "cell_type": "code",
   "execution_count": 164,
   "metadata": {},
   "outputs": [
    {
     "data": {
      "text/plain": [
       "dtype('int64')"
      ]
     },
     "execution_count": 164,
     "metadata": {},
     "output_type": "execute_result"
    }
   ],
   "source": [
    "y_pred_test.dtype"
   ]
  },
  {
   "cell_type": "code",
   "execution_count": 204,
   "metadata": {},
   "outputs": [
    {
     "name": "stdout",
     "output_type": "stream",
     "text": [
      "Confusion matrix, without normalization\n",
      "[[ 4  4  4  0  6  0  2  0 16  0  0  2  3  4  0]\n",
      " [ 1  3  5  0  7  0  1  0 16  0  1  3  1 10  0]\n",
      " [ 0  6 16  0 14  0  8  0 35  0  3  3  5 12  0]\n",
      " [ 0  2  4  0  4  0  2  0  7  0  0  0  3  2  0]\n",
      " [ 1  5 13  1 30  0 12  0 30  0  2  0  8 17  2]\n",
      " [ 0  1  0  0  2  0  0  0  0  0  0  0  0  0  0]\n",
      " [ 0  2  6  0  8  0 13  0 19  0  3  0  1  6  0]\n",
      " [ 0  1  1  0  2  0  1  0  0  0  0  0  1  2  0]\n",
      " [ 0  9 21  0 18  1 10  0 72  0  6  2  6 24  0]\n",
      " [ 0  0  1  0  2  0  3  0  2  0  0  0  0  2  0]\n",
      " [ 1  3  6  2  9  0  5  0 18  0 20  3  5  7  0]\n",
      " [ 0  4 11  1  7  0  7  0 12  0  1  6  3 12  0]\n",
      " [ 0  5 14  1 11  0  0  0 53  0  9  1  9 15  0]\n",
      " [ 2 10 31  0 22  0 15  0 70  0  4  0  6 34  0]\n",
      " [ 0  1  0  0  1  0  0  0  0  0  0  0  0  1  0]]\n"
     ]
    },
    {
     "data": {
      "image/png": "[encoded data removed]",
      "text/plain": [
       "<Figure size 432x288 with 2 Axes>"
      ]
     },
     "metadata": {
      "needs_background": "light"
     },
     "output_type": "display_data"
    }
   ],
   "source": [
    "ax = plot_confusion_matrix(y_test, y_pred_test, classes=np.array(list(LABEL_TO_INDEX.keys())))\n",
    "plt.savefig('/data/AGE_DATA/tfif.png', dpi=600, transparent=True)"
   ]
  },
  {
   "cell_type": "code",
   "execution_count": 195,
   "metadata": {},
   "outputs": [],
   "source": [
    "plt.show(ax)"
   ]
  },
  {
   "cell_type": "code",
   "execution_count": 180,
   "metadata": {},
   "outputs": [],
   "source": [
    "classes = np.array(list(LABEL_TO_INDEX.keys()))"
   ]
  },
  {
   "cell_type": "code",
   "execution_count": 181,
   "metadata": {},
   "outputs": [
    {
     "data": {
      "text/plain": [
       "array(['Blues', 'Country', 'Electronic', 'Folk', 'Jazz', 'Latin', 'Metal',\n",
       "       'New Age', 'Pop', 'Punk', 'Rap', 'Reggae', 'RnB', 'Rock', 'World'],\n",
       "      dtype='<U10')"
      ]
     },
     "execution_count": 181,
     "metadata": {},
     "output_type": "execute_result"
    }
   ],
   "source": [
    "classes"
   ]
  },
  {
   "cell_type": "code",
   "execution_count": 171,
   "metadata": {},
   "outputs": [
    {
     "data": {
      "text/plain": [
       "array([ 0,  1,  2,  3,  4,  5,  6,  7,  8,  9, 10, 11, 12, 13, 14])"
      ]
     },
     "execution_count": 171,
     "metadata": {},
     "output_type": "execute_result"
    }
   ],
   "source": [
    "unique_labels(y_test, y_pred_test)"
   ]
  },
  {
   "cell_type": "code",
   "execution_count": 175,
   "metadata": {},
   "outputs": [
    {
     "data": {
      "text/plain": [
       "array(['Blues', 'Country', 'Electronic', 'Folk', 'Jazz', 'Latin', 'Metal',\n",
       "       'New Age', 'Pop', 'Punk', 'Rap', 'Reggae', 'RnB', 'Rock', 'World'],\n",
       "      dtype='<U10')"
      ]
     },
     "execution_count": 175,
     "metadata": {},
     "output_type": "execute_result"
    }
   ],
   "source": [
    "np.array(classes)[unique_labels(y_test, y_pred_test)]"
   ]
  },
  {
   "cell_type": "code",
   "execution_count": null,
   "metadata": {},
   "outputs": [],
   "source": []
  },
  {
   "cell_type": "markdown",
   "metadata": {},
   "source": [
    "# Load preds"
   ]
  },
  {
   "cell_type": "code",
   "execution_count": 239,
   "metadata": {},
   "outputs": [],
   "source": [
    "from sklearn.metrics import precision_score, recall_score, f1_score"
   ]
  },
  {
   "cell_type": "code",
   "execution_count": 277,
   "metadata": {},
   "outputs": [],
   "source": [
    "def get_preds_ft(filename, LABEL_TO_INDEX):\n",
    "    with open(filename, 'r') as file:\n",
    "        line = file.read()\n",
    "    preds_ft = line.split(\"\\n\")[:-1]\n",
    "    preds_ft = [x.replace(\"__label__\", \"\") for x in preds_ft]\n",
    "    preds = []\n",
    "    for pred in preds_ft:\n",
    "        if pred in LABEL_TO_INDEX:\n",
    "            preds.append(LABEL_TO_INDEX[pred])\n",
    "        else:\n",
    "            #print (\"Alarm!\")\n",
    "            preds.append(7)\n",
    "    return preds"
   ]
  },
  {
   "cell_type": "code",
   "execution_count": 271,
   "metadata": {},
   "outputs": [],
   "source": [
    "def read_train(filename, LABEL_TO_INDEX):\n",
    "    with open(filename, 'r') as file:\n",
    "        line = file.read()\n",
    "    preds_ft = line.split(\"\\n\")[:-1]\n",
    "    preds_ft = [x.split()[0] for x in preds_ft]\n",
    "    preds_ft = [x.replace(\"__label__\", \"\") for x in preds_ft]\n",
    "    preds = []\n",
    "    for pred in preds_ft:\n",
    "        if pred in LABEL_TO_INDEX:\n",
    "            preds.append(LABEL_TO_INDEX[pred])\n",
    "        else:\n",
    "            #print (\"Alarm!\")\n",
    "            preds.append(7)\n",
    "    return preds"
   ]
  },
  {
   "cell_type": "code",
   "execution_count": 272,
   "metadata": {},
   "outputs": [],
   "source": [
    "train_target = read_train(train_file, LABEL_TO_INDEX)"
   ]
  },
  {
   "cell_type": "code",
   "execution_count": 273,
   "metadata": {},
   "outputs": [
    {
     "data": {
      "text/plain": [
       "8331"
      ]
     },
     "execution_count": 273,
     "metadata": {},
     "output_type": "execute_result"
    }
   ],
   "source": [
    "len(train_target)"
   ]
  },
  {
   "cell_type": "code",
   "execution_count": 297,
   "metadata": {},
   "outputs": [],
   "source": [
    "train_file = '/home/fedor.kitashov/libraries/fastText-0.2.0/dataset_train_ft.txt'"
   ]
  },
  {
   "cell_type": "code",
   "execution_count": 298,
   "metadata": {},
   "outputs": [],
   "source": [
    "train_res = '/home/fedor.kitashov/libraries/fastText-0.2.0/7_train_preds.txt'"
   ]
  },
  {
   "cell_type": "code",
   "execution_count": 299,
   "metadata": {},
   "outputs": [],
   "source": [
    "val_file = '/home/fedor.kitashov/libraries/fastText-0.2.0/dataset_val_ft.txt'"
   ]
  },
  {
   "cell_type": "code",
   "execution_count": 300,
   "metadata": {},
   "outputs": [],
   "source": [
    "val_res = '/home/fedor.kitashov/libraries/fastText-0.2.0/7_val_preds.txt'"
   ]
  },
  {
   "cell_type": "code",
   "execution_count": 301,
   "metadata": {},
   "outputs": [],
   "source": [
    "test_file = '/home/fedor.kitashov/libraries/fastText-0.2.0/dataset_test_ft.txt'"
   ]
  },
  {
   "cell_type": "code",
   "execution_count": 302,
   "metadata": {},
   "outputs": [],
   "source": [
    "test_res = '/home/fedor.kitashov/libraries/fastText-0.2.0/7_test_preds.txt'"
   ]
  },
  {
   "cell_type": "code",
   "execution_count": null,
   "metadata": {},
   "outputs": [],
   "source": []
  },
  {
   "cell_type": "code",
   "execution_count": 303,
   "metadata": {},
   "outputs": [],
   "source": [
    "train_target = read_train(train_file, LABEL_TO_INDEX)"
   ]
  },
  {
   "cell_type": "code",
   "execution_count": 304,
   "metadata": {
    "scrolled": true
   },
   "outputs": [],
   "source": [
    "train_preds_ft = get_preds_ft(train_res, LABEL_TO_INDEX)"
   ]
  },
  {
   "cell_type": "code",
   "execution_count": 305,
   "metadata": {},
   "outputs": [
    {
     "data": {
      "text/plain": [
       "8331"
      ]
     },
     "execution_count": 305,
     "metadata": {},
     "output_type": "execute_result"
    }
   ],
   "source": [
    "len(train_preds_ft)"
   ]
  },
  {
   "cell_type": "code",
   "execution_count": 306,
   "metadata": {
    "scrolled": true
   },
   "outputs": [
    {
     "name": "stdout",
     "output_type": "stream",
     "text": [
      "              precision    recall  f1-score   support\n",
      "\n",
      "           0       0.00      0.00      0.00       137\n",
      "           1       0.00      0.00      0.00       627\n",
      "           2       0.00      0.00      0.00       684\n",
      "           3       0.00      0.00      0.00       304\n",
      "           4       0.34      0.30      0.32       543\n",
      "           5       0.67      0.78      0.72        72\n",
      "           6       0.00      0.00      0.00       724\n",
      "           7       0.00      0.00      0.00        42\n",
      "           8       0.20      0.62      0.31      1153\n",
      "           9       0.00      0.00      0.00       204\n",
      "          10       0.00      0.00      0.00       646\n",
      "          11       0.00      0.00      0.00       312\n",
      "          12       0.00      0.00      0.00       555\n",
      "          13       0.53      0.98      0.69      2296\n",
      "          14       0.00      0.00      0.00        32\n",
      "\n",
      "    accuracy                           0.38      8331\n",
      "   macro avg       0.12      0.18      0.14      8331\n",
      "weighted avg       0.20      0.38      0.26      8331\n",
      "\n"
     ]
    }
   ],
   "source": [
    "print(classification_report(train_target, train_preds_ft))"
   ]
  },
  {
   "cell_type": "code",
   "execution_count": 307,
   "metadata": {},
   "outputs": [
    {
     "name": "stdout",
     "output_type": "stream",
     "text": [
      "Confusion matrix, without normalization\n",
      "[[   0    0    0    0   66    1    0    0   61    0    0    0    0    9\n",
      "     0]\n",
      " [   0    0    0    0   14    0    0    0  398    0    0    0    0  215\n",
      "     0]\n",
      " [   0    0    0    0   38    0    0    0  507    0    0    0    0  139\n",
      "     0]\n",
      " [   0    0    0    0   16    0    0    0  175    0    0    0    0  113\n",
      "     0]\n",
      " [   0    0    0    0  163    0    0    0  355    0    0    0    0   25\n",
      "     0]\n",
      " [   0    0    0    0    5   56    0    0    7    0    0    0    0    4\n",
      "     0]\n",
      " [   0    0    0    0    2    0    0    0  152    0    0    0    0  570\n",
      "     0]\n",
      " [   0    0    0    0   19    8    0    0   14    0    0    0    0    1\n",
      "     0]\n",
      " [   0    0    0    0    5    3    0    0  716    0    0    0    0  429\n",
      "     0]\n",
      " [   0    0    0    0   20    4    0    0   86    0    0    0    0   94\n",
      "     0]\n",
      " [   0    0    0    0   11    2    0    0  342    0    0    0    0  291\n",
      "     0]\n",
      " [   0    0    0    0   63    4    0    0  198    0    0    0    0   47\n",
      "     0]\n",
      " [   0    0    0    0   49    0    0    0  457    0    0    0    0   49\n",
      "     0]\n",
      " [   0    0    0    0    0    0    0    0   46    0    0    0    0 2250\n",
      "     0]\n",
      " [   0    0    0    0   12    5    0    0    9    0    0    0    0    6\n",
      "     0]]\n"
     ]
    },
    {
     "data": {
      "image/png": "[encoded data removed]",
      "text/plain": [
       "<Figure size 432x288 with 2 Axes>"
      ]
     },
     "metadata": {
      "needs_background": "light"
     },
     "output_type": "display_data"
    }
   ],
   "source": [
    "ax = plot_confusion_matrix(train_target, train_preds_ft, classes=np.array(list(LABEL_TO_INDEX.keys())))\n",
    "plt.savefig('/data/AGE_DATA/fasttext_7.png', dpi=600, transparent=True)"
   ]
  },
  {
   "cell_type": "code",
   "execution_count": 308,
   "metadata": {},
   "outputs": [],
   "source": [
    "val_target = read_train(val_file, LABEL_TO_INDEX)"
   ]
  },
  {
   "cell_type": "code",
   "execution_count": 309,
   "metadata": {},
   "outputs": [],
   "source": [
    "val_preds_ft = get_preds_ft(val_res, LABEL_TO_INDEX)"
   ]
  },
  {
   "cell_type": "code",
   "execution_count": 310,
   "metadata": {},
   "outputs": [
    {
     "name": "stdout",
     "output_type": "stream",
     "text": [
      "              precision    recall  f1-score   support\n",
      "\n",
      "           0       0.00      0.00      0.00        28\n",
      "           1       0.00      0.00      0.00        66\n",
      "           2       0.00      0.00      0.00       102\n",
      "           3       0.00      0.00      0.00        33\n",
      "           4       0.15      0.13      0.14       105\n",
      "           5       0.00      0.00      0.00         1\n",
      "           6       0.00      0.00      0.00       100\n",
      "           7       0.00      0.00      0.00        25\n",
      "           8       0.21      0.81      0.34       209\n",
      "           9       0.00      0.00      0.00        21\n",
      "          10       0.00      0.00      0.00        63\n",
      "          11       0.00      0.00      0.00        33\n",
      "          12       0.00      0.00      0.00        78\n",
      "          13       0.16      0.14      0.15       137\n",
      "          14       0.00      0.00      0.00         3\n",
      "\n",
      "    accuracy                           0.20      1004\n",
      "   macro avg       0.04      0.07      0.04      1004\n",
      "weighted avg       0.08      0.20      0.11      1004\n",
      "\n"
     ]
    }
   ],
   "source": [
    "print(classification_report(val_target, val_preds_ft))"
   ]
  },
  {
   "cell_type": "code",
   "execution_count": 311,
   "metadata": {},
   "outputs": [
    {
     "name": "stdout",
     "output_type": "stream",
     "text": [
      "Confusion matrix, without normalization\n",
      "[[  0   0   0   0   7   0   0   0  19   0   0   0   0   2   0]\n",
      " [  0   0   0   0   4   0   0   0  49   0   0   0   0  13   0]\n",
      " [  0   0   0   0  10   0   0   0  77   0   0   0   0  15   0]\n",
      " [  0   0   0   0   3   0   0   0  28   0   0   0   0   2   0]\n",
      " [  0   0   0   0  14   0   0   0  83   0   0   0   0   8   0]\n",
      " [  0   0   0   0   0   0   0   0   1   0   0   0   0   0   0]\n",
      " [  0   0   0   0   8   0   0   0  75   0   0   0   0  17   0]\n",
      " [  0   0   0   0   3   0   0   0  19   0   0   0   0   3   0]\n",
      " [  0   0   0   0  20   1   0   0 170   0   0   0   0  18   0]\n",
      " [  0   0   0   0   4   0   0   0  16   0   0   0   0   1   0]\n",
      " [  0   0   0   0   3   0   0   0  54   0   0   0   0   6   0]\n",
      " [  0   0   0   0   0   0   0   0  27   0   0   0   0   6   0]\n",
      " [  0   0   0   0   9   0   0   0  63   0   0   0   0   6   0]\n",
      " [  0   0   0   0  10   0   0   0 108   0   0   0   0  19   0]\n",
      " [  0   0   0   0   0   0   0   0   3   0   0   0   0   0   0]]\n"
     ]
    },
    {
     "data": {
      "image/png": "[encoded data removed]",
      "text/plain": [
       "<Figure size 432x288 with 2 Axes>"
      ]
     },
     "metadata": {
      "needs_background": "light"
     },
     "output_type": "display_data"
    }
   ],
   "source": [
    "ax = plot_confusion_matrix(val_target, val_preds_ft, classes=np.array(list(LABEL_TO_INDEX.keys())))\n",
    "plt.savefig('/data/AGE_DATA/fasttext_7_val.png', dpi=600, transparent=True)"
   ]
  },
  {
   "cell_type": "code",
   "execution_count": 312,
   "metadata": {},
   "outputs": [],
   "source": [
    "test_target = read_train(test_file, LABEL_TO_INDEX)"
   ]
  },
  {
   "cell_type": "code",
   "execution_count": 313,
   "metadata": {},
   "outputs": [],
   "source": [
    "test_preds_ft = get_preds_ft(test_res, LABEL_TO_INDEX)"
   ]
  },
  {
   "cell_type": "code",
   "execution_count": 315,
   "metadata": {},
   "outputs": [
    {
     "name": "stdout",
     "output_type": "stream",
     "text": [
      "              precision    recall  f1-score   support\n",
      "\n",
      "           0       0.00      0.00      0.00        45\n",
      "           1       0.00      0.00      0.00        48\n",
      "           2       0.00      0.00      0.00       102\n",
      "           3       0.00      0.00      0.00        24\n",
      "           4       0.16      0.12      0.14       121\n",
      "           5       0.00      0.00      0.00         3\n",
      "           6       0.00      0.00      0.00        58\n",
      "           7       0.00      0.00      0.00         8\n",
      "           8       0.17      0.83      0.28       169\n",
      "           9       0.00      0.00      0.00        10\n",
      "          10       0.00      0.00      0.00        79\n",
      "          11       0.00      0.00      0.00        64\n",
      "          12       0.00      0.00      0.00       118\n",
      "          13       0.23      0.13      0.17       194\n",
      "          14       0.00      0.00      0.00         3\n",
      "\n",
      "    accuracy                           0.17      1046\n",
      "   macro avg       0.04      0.07      0.04      1046\n",
      "weighted avg       0.09      0.17      0.09      1046\n",
      "\n"
     ]
    }
   ],
   "source": [
    "print(classification_report(test_target, test_preds_ft))"
   ]
  },
  {
   "cell_type": "code",
   "execution_count": 316,
   "metadata": {},
   "outputs": [
    {
     "name": "stdout",
     "output_type": "stream",
     "text": [
      "Confusion matrix, without normalization\n",
      "[[  0   0   0   0   7   0   0   0  33   0   0   0   0   5   0]\n",
      " [  0   0   0   0   3   0   0   0  43   0   0   0   0   2   0]\n",
      " [  0   0   0   0   9   0   0   0  75   0   0   0   0  18   0]\n",
      " [  0   0   0   0   1   0   0   0  20   0   0   0   0   3   0]\n",
      " [  0   0   0   0  14   0   0   0  99   0   0   0   0   8   0]\n",
      " [  0   0   0   0   0   0   0   0   3   0   0   0   0   0   0]\n",
      " [  0   0   0   0   2   0   0   0  45   0   0   0   0  11   0]\n",
      " [  0   0   0   0   2   0   0   0   5   0   0   0   0   1   0]\n",
      " [  0   0   0   0  10   0   0   0 141   0   0   0   0  18   0]\n",
      " [  0   0   0   0   0   0   0   0   9   0   0   0   0   1   0]\n",
      " [  0   0   0   0   7   0   0   0  64   0   0   0   0   8   0]\n",
      " [  0   0   0   0   8   0   0   0  49   0   0   0   0   7   0]\n",
      " [  0   0   0   0  11   0   0   0 100   0   0   0   0   7   0]\n",
      " [  0   0   0   0  10   0   0   0 158   0   0   0   0  26   0]\n",
      " [  0   0   0   0   1   0   0   0   2   0   0   0   0   0   0]]\n"
     ]
    },
    {
     "data": {
      "image/png": "[encoded data removed]",
      "text/plain": [
       "<Figure size 432x288 with 2 Axes>"
      ]
     },
     "metadata": {
      "needs_background": "light"
     },
     "output_type": "display_data"
    }
   ],
   "source": [
    "ax = plot_confusion_matrix(test_target, test_preds_ft, classes=np.array(list(LABEL_TO_INDEX.keys())))\n",
    "plt.savefig('/data/AGE_DATA/fasttext_7_test.png', dpi=600, transparent=True)"
   ]
  },
  {
   "cell_type": "code",
   "execution_count": null,
   "metadata": {},
   "outputs": [],
   "source": []
  },
  {
   "cell_type": "code",
   "execution_count": null,
   "metadata": {},
   "outputs": [],
   "source": []
  },
  {
   "cell_type": "code",
   "execution_count": 253,
   "metadata": {},
   "outputs": [],
   "source": [
    "test_preds_ft = get_preds_ft(test_res, LABEL_TO_INDEX)"
   ]
  },
  {
   "cell_type": "code",
   "execution_count": 254,
   "metadata": {},
   "outputs": [
    {
     "data": {
      "text/plain": [
       "1004"
      ]
     },
     "execution_count": 254,
     "metadata": {},
     "output_type": "execute_result"
    }
   ],
   "source": [
    "len(y_val)"
   ]
  },
  {
   "cell_type": "code",
   "execution_count": 255,
   "metadata": {},
   "outputs": [
    {
     "name": "stdout",
     "output_type": "stream",
     "text": [
      "              precision    recall  f1-score   support\n",
      "\n",
      "           0       0.12      0.04      0.06        45\n",
      "           1       0.09      0.12      0.11        48\n",
      "           2       0.12      0.21      0.15       102\n",
      "           3       0.04      0.04      0.04        24\n",
      "           4       0.20      0.26      0.23       121\n",
      "           5       0.00      0.00      0.00         3\n",
      "           6       0.16      0.21      0.18        58\n",
      "           7       0.00      0.00      0.00         8\n",
      "           8       0.23      0.28      0.25       169\n",
      "           9       0.00      0.00      0.00        10\n",
      "          10       0.26      0.32      0.28        79\n",
      "          11       0.14      0.08      0.10        64\n",
      "          12       0.14      0.11      0.12       118\n",
      "          13       0.22      0.10      0.14       194\n",
      "          14       0.00      0.00      0.00         3\n",
      "\n",
      "    accuracy                           0.18      1046\n",
      "   macro avg       0.11      0.12      0.11      1046\n",
      "weighted avg       0.18      0.18      0.17      1046\n",
      "\n"
     ]
    }
   ],
   "source": [
    "print(classification_report(y_test, test_preds_ft))"
   ]
  },
  {
   "cell_type": "code",
   "execution_count": null,
   "metadata": {},
   "outputs": [],
   "source": []
  },
  {
   "cell_type": "code",
   "execution_count": null,
   "metadata": {},
   "outputs": [],
   "source": []
  },
  {
   "cell_type": "code",
   "execution_count": null,
   "metadata": {},
   "outputs": [],
   "source": []
  },
  {
   "cell_type": "code",
   "execution_count": null,
   "metadata": {},
   "outputs": [],
   "source": [
    "filename\n",
    "with open(filename, 'r') as file:\n",
    "    line = file.read()"
   ]
  },
  {
   "cell_type": "code",
   "execution_count": 210,
   "metadata": {},
   "outputs": [],
   "source": [
    "train_preds_ft = line.split(\"\\n\")"
   ]
  },
  {
   "cell_type": "code",
   "execution_count": 211,
   "metadata": {},
   "outputs": [
    {
     "data": {
      "text/plain": [
       "8332"
      ]
     },
     "execution_count": 211,
     "metadata": {},
     "output_type": "execute_result"
    }
   ],
   "source": [
    "len(y_train)"
   ]
  },
  {
   "cell_type": "code",
   "execution_count": 214,
   "metadata": {},
   "outputs": [
    {
     "data": {
      "text/plain": [
       "8332"
      ]
     },
     "execution_count": 214,
     "metadata": {},
     "output_type": "execute_result"
    }
   ],
   "source": [
    "len(train_preds_ft)"
   ]
  },
  {
   "cell_type": "code",
   "execution_count": 220,
   "metadata": {},
   "outputs": [],
   "source": [
    "preds_ft = np.array([x.replace(\"__label__\", \"\") for x in train_preds_ft])"
   ]
  },
  {
   "cell_type": "code",
   "execution_count": 223,
   "metadata": {},
   "outputs": [
    {
     "data": {
      "text/plain": [
       "array([6])"
      ]
     },
     "execution_count": 223,
     "metadata": {},
     "output_type": "execute_result"
    }
   ],
   "source": [
    "np.array(y_train)[preds_ft == \"\"]"
   ]
  },
  {
   "cell_type": "code",
   "execution_count": 217,
   "metadata": {},
   "outputs": [
    {
     "data": {
      "text/plain": [
       "array(['', 'Blues', 'Country', 'Electronic', 'Folk', 'Jazz', 'Latin',\n",
       "       'Metal', 'New', 'Pop', 'Punk', 'Rap', 'Reggae', 'RnB', 'Rock',\n",
       "       'World'], dtype='<U10')"
      ]
     },
     "execution_count": 217,
     "metadata": {},
     "output_type": "execute_result"
    }
   ],
   "source": [
    "np.unique(preds_ft)"
   ]
  },
  {
   "cell_type": "code",
   "execution_count": 218,
   "metadata": {},
   "outputs": [
    {
     "data": {
      "text/plain": [
       "16"
      ]
     },
     "execution_count": 218,
     "metadata": {},
     "output_type": "execute_result"
    }
   ],
   "source": [
    "len(np.unique(preds_ft))"
   ]
  },
  {
   "cell_type": "code",
   "execution_count": 219,
   "metadata": {
    "scrolled": true
   },
   "outputs": [
    {
     "data": {
      "text/plain": [
       "{'Blues': 0,\n",
       " 'Country': 1,\n",
       " 'Electronic': 2,\n",
       " 'Folk': 3,\n",
       " 'Jazz': 4,\n",
       " 'Latin': 5,\n",
       " 'Metal': 6,\n",
       " 'New Age': 7,\n",
       " 'Pop': 8,\n",
       " 'Punk': 9,\n",
       " 'Rap': 10,\n",
       " 'Reggae': 11,\n",
       " 'RnB': 12,\n",
       " 'Rock': 13,\n",
       " 'World': 14}"
      ]
     },
     "execution_count": 219,
     "metadata": {},
     "output_type": "execute_result"
    }
   ],
   "source": [
    "LABEL_TO_INDEX"
   ]
  },
  {
   "cell_type": "markdown",
   "metadata": {},
   "source": [
    "# Summary"
   ]
  },
  {
   "cell_type": "raw",
   "metadata": {},
   "source": [
    "# Tfidf (default) + logreg (default)\n",
    "\n",
    "## train:\n",
    "                  precision    recall  f1-score   support\n",
    "\n",
    "           0       1.00      0.04      0.08       137\n",
    "           1       0.60      0.31      0.41       627\n",
    "           2       0.48      0.31      0.38       684\n",
    "           3       1.00      0.03      0.06       304\n",
    "           4       0.56      0.38      0.45       543\n",
    "           5       0.61      0.50      0.55        72\n",
    "           6       0.78      0.52      0.62       724\n",
    "           7       0.00      0.00      0.00        42\n",
    "           8       0.46      0.46      0.46      1153\n",
    "           9       1.00      0.02      0.05       204\n",
    "          10       0.70      0.54      0.61       646\n",
    "          11       0.91      0.06      0.12       312\n",
    "          12       0.50      0.25      0.33       555\n",
    "          13       0.46      0.94      0.62      2297\n",
    "          14       0.00      0.00      0.00        32\n",
    "\n",
    "    accuracy                           0.51      8332\n",
    "   macro avg       0.60      0.29      0.32      8332\n",
    "weighted avg       0.58      0.51      0.46      8332\n",
    "\n",
    "\n",
    "## val:\n",
    "\n",
    "              precision    recall  f1-score   support\n",
    "\n",
    "           0       0.00      0.00      0.00        28\n",
    "           1       0.15      0.12      0.13        66\n",
    "           2       0.16      0.21      0.18       102\n",
    "           3       0.00      0.00      0.00        33\n",
    "           4       0.19      0.19      0.19       105\n",
    "           5       0.00      0.00      0.00         1\n",
    "           6       0.34      0.19      0.24       100\n",
    "           7       0.00      0.00      0.00        25\n",
    "           8       0.25      0.36      0.30       209\n",
    "           9       0.00      0.00      0.00        21\n",
    "          10       0.37      0.30      0.33        63\n",
    "          11       0.00      0.00      0.00        33\n",
    "          12       0.15      0.10      0.12        78\n",
    "          13       0.16      0.30      0.21       137\n",
    "          14       0.00      0.00      0.00         3\n",
    "\n",
    "    accuracy                           0.21      1004\n",
    "   macro avg       0.12      0.12      0.11      1004\n",
    "weighted avg       0.19      0.21      0.19      1004\n",
    "\n",
    "\n",
    "## test:\n",
    "\n",
    "              precision    recall  f1-score   support\n",
    "\n",
    "           0       0.00      0.00      0.00        45\n",
    "           1       0.08      0.08      0.08        48\n",
    "           2       0.15      0.19      0.17       102\n",
    "           3       0.00      0.00      0.00        24\n",
    "           4       0.19      0.17      0.18       121\n",
    "           5       0.00      0.00      0.00         3\n",
    "           6       0.23      0.24      0.24        58\n",
    "           7       0.00      0.00      0.00         8\n",
    "           8       0.21      0.36      0.26       169\n",
    "           9       0.00      0.00      0.00        10\n",
    "          10       0.32      0.29      0.30        79\n",
    "          11       1.00      0.02      0.03        64\n",
    "          12       0.16      0.08      0.11       118\n",
    "          13       0.22      0.30      0.25       194\n",
    "          14       0.00      0.00      0.00         3\n",
    "\n",
    "    accuracy                           0.20      1046\n",
    "   macro avg       0.17      0.12      0.11      1046\n",
    "weighted avg       0.23      0.20      0.18      1046"
   ]
  },
  {
   "cell_type": "raw",
   "metadata": {},
   "source": [
    "# TfidfVectorizer(ngram_range=(1,4)) + logreg\n",
    "\n",
    "# Train\n",
    "\n",
    "              precision    recall  f1-score   support\n",
    "\n",
    "           0       1.00      0.03      0.06       137\n",
    "           1       0.90      0.19      0.32       627\n",
    "           2       0.78      0.36      0.50       684\n",
    "           3       1.00      0.01      0.02       304\n",
    "           4       0.83      0.34      0.49       543\n",
    "           5       1.00      0.14      0.24        72\n",
    "           6       0.96      0.32      0.49       724\n",
    "           7       0.00      0.00      0.00        42\n",
    "           8       0.70      0.63      0.66      1153\n",
    "           9       0.00      0.00      0.00       204\n",
    "          10       0.85      0.52      0.64       646\n",
    "          11       0.82      0.03      0.06       312\n",
    "          12       0.84      0.30      0.44       555\n",
    "          13       0.40      0.99      0.57      2297\n",
    "          14       0.00      0.00      0.00        32\n",
    "\n",
    "    accuracy                           0.52      8332\n",
    "   macro avg       0.67      0.26      0.30      8332\n",
    "weighted avg       0.69      0.52      0.47      8332\n",
    "\n",
    "\n",
    "\n",
    "# Val\n",
    "\n",
    "             precision    recall  f1-score   support\n",
    "\n",
    "           0       0.00      0.00      0.00        28\n",
    "           1       0.31      0.06      0.10        66\n",
    "           2       0.18      0.12      0.14       102\n",
    "           3       0.00      0.00      0.00        33\n",
    "           4       0.17      0.08      0.10       105\n",
    "           5       0.00      0.00      0.00         1\n",
    "           6       0.44      0.12      0.19       100\n",
    "           7       0.00      0.00      0.00        25\n",
    "           8       0.25      0.51      0.33       209\n",
    "           9       0.00      0.00      0.00        21\n",
    "          10       0.40      0.30      0.35        63\n",
    "          11       0.00      0.00      0.00        33\n",
    "          12       0.13      0.06      0.09        78\n",
    "          13       0.16      0.38      0.22       137\n",
    "          14       0.00      0.00      0.00         3\n",
    "\n",
    "    accuracy                           0.22      1004\n",
    "   macro avg       0.14      0.11      0.10      1004\n",
    "weighted avg       0.21      0.22      0.18      1004\n",
    "\n",
    "\n",
    "\n",
    "\n",
    "\n",
    "# Test\n",
    "\n",
    "              precision    recall  f1-score   support\n",
    "\n",
    "           0       0.00      0.00      0.00        45\n",
    "           1       0.18      0.04      0.07        48\n",
    "           2       0.14      0.09      0.11       102\n",
    "           3       0.00      0.00      0.00        24\n",
    "           4       0.25      0.09      0.13       121\n",
    "           5       0.00      0.00      0.00         3\n",
    "           6       0.29      0.12      0.17        58\n",
    "           7       0.00      0.00      0.00         8\n",
    "           8       0.19      0.50      0.27       169\n",
    "           9       0.00      0.00      0.00        10\n",
    "          10       0.32      0.29      0.31        79\n",
    "          11       0.00      0.00      0.00        64\n",
    "          12       0.20      0.06      0.09       118\n",
    "          13       0.20      0.37      0.26       194\n",
    "          14       0.00      0.00      0.00         3\n",
    "\n",
    "    accuracy                           0.21      1046\n",
    "   macro avg       0.12      0.10      0.09      1046\n",
    "weighted avg       0.18      0.21      0.17      1046"
   ]
  },
  {
   "cell_type": "code",
   "execution_count": null,
   "metadata": {},
   "outputs": [],
   "source": []
  }
 ],
 "metadata": {
  "kernelspec": {
   "display_name": "Python 3",
   "language": "python",
   "name": "python3"
  },
  "language_info": {
   "codemirror_mode": {
    "name": "ipython",
    "version": 3
   },
   "file_extension": ".py",
   "mimetype": "text/x-python",
   "name": "python",
   "nbconvert_exporter": "python",
   "pygments_lexer": "ipython3",
   "version": "3.6.8"
  }
 },
 "nbformat": 4,
 "nbformat_minor": 2
}
